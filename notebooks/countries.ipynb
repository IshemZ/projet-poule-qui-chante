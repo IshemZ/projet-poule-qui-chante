{
 "cells": [
  {
   "cell_type": "code",
   "execution_count": 1,
   "id": "5ee8176d",
   "metadata": {},
   "outputs": [],
   "source": [
    "import pandas as pd\n"
   ]
  },
  {
   "cell_type": "code",
   "execution_count": 3,
   "id": "77d81e73",
   "metadata": {},
   "outputs": [
    {
     "data": {
      "application/vnd.microsoft.datawrangler.viewer.v0+json": {
       "columns": [
        {
         "name": "index",
         "rawType": "int64",
         "type": "integer"
        },
        {
         "name": "Country Group Code",
         "rawType": "object",
         "type": "string"
        },
        {
         "name": "Country Group",
         "rawType": "object",
         "type": "string"
        },
        {
         "name": "Country Code",
         "rawType": "object",
         "type": "string"
        },
        {
         "name": "Country",
         "rawType": "object",
         "type": "string"
        },
        {
         "name": "M49 Code",
         "rawType": "object",
         "type": "string"
        },
        {
         "name": "ISO2 Code",
         "rawType": "object",
         "type": "unknown"
        },
        {
         "name": "ISO3 Code",
         "rawType": "object",
         "type": "string"
        }
       ],
       "ref": "2c5f1b58-1714-4b27-8b07-fbe80b470c25",
       "rows": [
        [
         "0",
         "5100",
         "Africa",
         "4",
         "Algeria",
         "12",
         "DZ",
         "DZA"
        ],
        [
         "1",
         "5100",
         "Africa",
         "7",
         "Angola",
         "24",
         "AO",
         "AGO"
        ],
        [
         "2",
         "5100",
         "Africa",
         "53",
         "Benin",
         "204",
         "BJ",
         "BEN"
        ],
        [
         "3",
         "5100",
         "Africa",
         "20",
         "Botswana",
         "72",
         "BW",
         "BWA"
        ],
        [
         "4",
         "5100",
         "Africa",
         "233",
         "Burkina Faso",
         "854",
         "BF",
         "BFA"
        ],
        [
         "5",
         "5100",
         "Africa",
         "29",
         "Burundi",
         "108",
         "BI",
         "BDI"
        ],
        [
         "6",
         "5100",
         "Africa",
         "35",
         "Cabo Verde",
         "132",
         "CV",
         "CPV"
        ],
        [
         "7",
         "5100",
         "Africa",
         "32",
         "Cameroon",
         "120",
         "CM",
         "CMR"
        ],
        [
         "8",
         "5100",
         "Africa",
         "37",
         "Central African Republic",
         "140",
         "CF",
         "CAF"
        ],
        [
         "9",
         "5100",
         "Africa",
         "39",
         "Chad",
         "148",
         "TD",
         "TCD"
        ],
        [
         "10",
         "5100",
         "Africa",
         "24",
         "Chagos Archipelago",
         "86",
         "IO",
         "IOT"
        ],
        [
         "11",
         "5100",
         "Africa",
         "45",
         "Comoros",
         "174",
         "KM",
         "COM"
        ],
        [
         "12",
         "5100",
         "Africa",
         "46",
         "Congo",
         "178",
         "CG",
         "COG"
        ],
        [
         "13",
         "5100",
         "Africa",
         "107",
         "Côte d'Ivoire",
         "384",
         "CI",
         "CIV"
        ],
        [
         "14",
         "5100",
         "Africa",
         "250",
         "Democratic Republic of the Congo",
         "180",
         "CD",
         "COD"
        ],
        [
         "15",
         "5100",
         "Africa",
         "72",
         "Djibouti",
         "262",
         "DJ",
         "DJI"
        ],
        [
         "16",
         "5100",
         "Africa",
         "59",
         "Egypt",
         "818",
         "EG",
         "EGY"
        ],
        [
         "17",
         "5100",
         "Africa",
         "61",
         "Equatorial Guinea",
         "226",
         "GQ",
         "GNQ"
        ],
        [
         "18",
         "5100",
         "Africa",
         "178",
         "Eritrea",
         "232",
         "ER",
         "ERI"
        ],
        [
         "19",
         "5100",
         "Africa",
         "209",
         "Eswatini",
         "748",
         "SZ",
         "SWZ"
        ],
        [
         "20",
         "5100",
         "Africa",
         "238",
         "Ethiopia",
         "231",
         "ET",
         "ETH"
        ],
        [
         "21",
         "5100",
         "Africa",
         "62",
         "Ethiopia PDR",
         "230",
         "F62",
         "F62"
        ],
        [
         "22",
         "5100",
         "Africa",
         "71",
         "French Southern Territories",
         "260",
         "TF",
         "ATF"
        ],
        [
         "23",
         "5100",
         "Africa",
         "74",
         "Gabon",
         "266",
         "GA",
         "GAB"
        ],
        [
         "24",
         "5100",
         "Africa",
         "75",
         "Gambia",
         "270",
         "GM",
         "GMB"
        ],
        [
         "25",
         "5100",
         "Africa",
         "81",
         "Ghana",
         "288",
         "GH",
         "GHA"
        ],
        [
         "26",
         "5100",
         "Africa",
         "90",
         "Guinea",
         "324",
         "GN",
         "GIN"
        ],
        [
         "27",
         "5100",
         "Africa",
         "175",
         "Guinea-Bissau",
         "624",
         "GW",
         "GNB"
        ],
        [
         "28",
         "5100",
         "Africa",
         "114",
         "Kenya",
         "404",
         "KE",
         "KEN"
        ],
        [
         "29",
         "5100",
         "Africa",
         "122",
         "Lesotho",
         "426",
         "LS",
         "LSO"
        ],
        [
         "30",
         "5100",
         "Africa",
         "123",
         "Liberia",
         "430",
         "LR",
         "LBR"
        ],
        [
         "31",
         "5100",
         "Africa",
         "124",
         "Libya",
         "434",
         "LY",
         "LBY"
        ],
        [
         "32",
         "5100",
         "Africa",
         "129",
         "Madagascar",
         "450",
         "MG",
         "MDG"
        ],
        [
         "33",
         "5100",
         "Africa",
         "130",
         "Malawi",
         "454",
         "MW",
         "MWI"
        ],
        [
         "34",
         "5100",
         "Africa",
         "133",
         "Mali",
         "466",
         "ML",
         "MLI"
        ],
        [
         "35",
         "5100",
         "Africa",
         "136",
         "Mauritania",
         "478",
         "MR",
         "MRT"
        ],
        [
         "36",
         "5100",
         "Africa",
         "137",
         "Mauritius",
         "480",
         "MU",
         "MUS"
        ],
        [
         "37",
         "5100",
         "Africa",
         "270",
         "Mayotte",
         "175",
         "YT",
         "MYT"
        ],
        [
         "38",
         "5100",
         "Africa",
         "143",
         "Morocco",
         "504",
         "MA",
         "MAR"
        ],
        [
         "39",
         "5100",
         "Africa",
         "144",
         "Mozambique",
         "508",
         "MZ",
         "MOZ"
        ],
        [
         "40",
         "5100",
         "Africa",
         "147",
         "Namibia",
         "516",
         null,
         "NAM"
        ],
        [
         "41",
         "5100",
         "Africa",
         "158",
         "Niger",
         "562",
         "NE",
         "NER"
        ],
        [
         "42",
         "5100",
         "Africa",
         "159",
         "Nigeria",
         "566",
         "NG",
         "NGA"
        ],
        [
         "43",
         "5100",
         "Africa",
         "182",
         "Réunion",
         "638",
         "RE",
         "REU"
        ],
        [
         "44",
         "5100",
         "Africa",
         "184",
         "Rwanda",
         "646",
         "RW",
         "RWA"
        ],
        [
         "45",
         "5100",
         "Africa",
         "187",
         "Saint Helena, Ascension and Tristan da Cunha",
         "654",
         "SH",
         "SHN"
        ],
        [
         "46",
         "5100",
         "Africa",
         "193",
         "Sao Tome and Principe",
         "678",
         "ST",
         "STP"
        ],
        [
         "47",
         "5100",
         "Africa",
         "195",
         "Senegal",
         "686",
         "SN",
         "SEN"
        ],
        [
         "48",
         "5100",
         "Africa",
         "196",
         "Seychelles",
         "690",
         "SC",
         "SYC"
        ],
        [
         "49",
         "5100",
         "Africa",
         "197",
         "Sierra Leone",
         "694",
         "SL",
         "SLE"
        ]
       ],
       "shape": {
        "columns": 7,
        "rows": 1964
       }
      },
      "text/html": [
       "<div>\n",
       "<style scoped>\n",
       "    .dataframe tbody tr th:only-of-type {\n",
       "        vertical-align: middle;\n",
       "    }\n",
       "\n",
       "    .dataframe tbody tr th {\n",
       "        vertical-align: top;\n",
       "    }\n",
       "\n",
       "    .dataframe thead th {\n",
       "        text-align: right;\n",
       "    }\n",
       "</style>\n",
       "<table border=\"1\" class=\"dataframe\">\n",
       "  <thead>\n",
       "    <tr style=\"text-align: right;\">\n",
       "      <th></th>\n",
       "      <th>Country Group Code</th>\n",
       "      <th>Country Group</th>\n",
       "      <th>Country Code</th>\n",
       "      <th>Country</th>\n",
       "      <th>M49 Code</th>\n",
       "      <th>ISO2 Code</th>\n",
       "      <th>ISO3 Code</th>\n",
       "    </tr>\n",
       "  </thead>\n",
       "  <tbody>\n",
       "    <tr>\n",
       "      <th>0</th>\n",
       "      <td>5100</td>\n",
       "      <td>Africa</td>\n",
       "      <td>4</td>\n",
       "      <td>Algeria</td>\n",
       "      <td>12</td>\n",
       "      <td>DZ</td>\n",
       "      <td>DZA</td>\n",
       "    </tr>\n",
       "    <tr>\n",
       "      <th>1</th>\n",
       "      <td>5100</td>\n",
       "      <td>Africa</td>\n",
       "      <td>7</td>\n",
       "      <td>Angola</td>\n",
       "      <td>24</td>\n",
       "      <td>AO</td>\n",
       "      <td>AGO</td>\n",
       "    </tr>\n",
       "    <tr>\n",
       "      <th>2</th>\n",
       "      <td>5100</td>\n",
       "      <td>Africa</td>\n",
       "      <td>53</td>\n",
       "      <td>Benin</td>\n",
       "      <td>204</td>\n",
       "      <td>BJ</td>\n",
       "      <td>BEN</td>\n",
       "    </tr>\n",
       "    <tr>\n",
       "      <th>3</th>\n",
       "      <td>5100</td>\n",
       "      <td>Africa</td>\n",
       "      <td>20</td>\n",
       "      <td>Botswana</td>\n",
       "      <td>72</td>\n",
       "      <td>BW</td>\n",
       "      <td>BWA</td>\n",
       "    </tr>\n",
       "    <tr>\n",
       "      <th>4</th>\n",
       "      <td>5100</td>\n",
       "      <td>Africa</td>\n",
       "      <td>233</td>\n",
       "      <td>Burkina Faso</td>\n",
       "      <td>854</td>\n",
       "      <td>BF</td>\n",
       "      <td>BFA</td>\n",
       "    </tr>\n",
       "    <tr>\n",
       "      <th>...</th>\n",
       "      <td>...</td>\n",
       "      <td>...</td>\n",
       "      <td>...</td>\n",
       "      <td>...</td>\n",
       "      <td>...</td>\n",
       "      <td>...</td>\n",
       "      <td>...</td>\n",
       "    </tr>\n",
       "    <tr>\n",
       "      <th>1959</th>\n",
       "      <td>5000</td>\n",
       "      <td>World</td>\n",
       "      <td>246</td>\n",
       "      <td>Yemen Ar Rp</td>\n",
       "      <td>886</td>\n",
       "      <td>F246</td>\n",
       "      <td>F246</td>\n",
       "    </tr>\n",
       "    <tr>\n",
       "      <th>1960</th>\n",
       "      <td>5000</td>\n",
       "      <td>World</td>\n",
       "      <td>247</td>\n",
       "      <td>Yemen Dem</td>\n",
       "      <td>720</td>\n",
       "      <td>F247</td>\n",
       "      <td>F247</td>\n",
       "    </tr>\n",
       "    <tr>\n",
       "      <th>1961</th>\n",
       "      <td>5000</td>\n",
       "      <td>World</td>\n",
       "      <td>248</td>\n",
       "      <td>Yugoslav SFR</td>\n",
       "      <td>890</td>\n",
       "      <td>F248</td>\n",
       "      <td>F248</td>\n",
       "    </tr>\n",
       "    <tr>\n",
       "      <th>1962</th>\n",
       "      <td>5000</td>\n",
       "      <td>World</td>\n",
       "      <td>251</td>\n",
       "      <td>Zambia</td>\n",
       "      <td>894</td>\n",
       "      <td>ZM</td>\n",
       "      <td>ZMB</td>\n",
       "    </tr>\n",
       "    <tr>\n",
       "      <th>1963</th>\n",
       "      <td>5000</td>\n",
       "      <td>World</td>\n",
       "      <td>181</td>\n",
       "      <td>Zimbabwe</td>\n",
       "      <td>716</td>\n",
       "      <td>ZW</td>\n",
       "      <td>ZWE</td>\n",
       "    </tr>\n",
       "  </tbody>\n",
       "</table>\n",
       "<p>1964 rows × 7 columns</p>\n",
       "</div>"
      ],
      "text/plain": [
       "     Country Group Code Country Group Country Code       Country M49 Code  \\\n",
       "0                  5100        Africa            4       Algeria       12   \n",
       "1                  5100        Africa            7        Angola       24   \n",
       "2                  5100        Africa           53         Benin      204   \n",
       "3                  5100        Africa           20      Botswana       72   \n",
       "4                  5100        Africa          233  Burkina Faso      854   \n",
       "...                 ...           ...          ...           ...      ...   \n",
       "1959               5000         World          246   Yemen Ar Rp      886   \n",
       "1960               5000         World          247     Yemen Dem      720   \n",
       "1961               5000         World          248  Yugoslav SFR      890   \n",
       "1962               5000         World          251        Zambia      894   \n",
       "1963               5000         World          181      Zimbabwe      716   \n",
       "\n",
       "     ISO2 Code ISO3 Code  \n",
       "0           DZ       DZA  \n",
       "1           AO       AGO  \n",
       "2           BJ       BEN  \n",
       "3           BW       BWA  \n",
       "4           BF       BFA  \n",
       "...        ...       ...  \n",
       "1959      F246      F246  \n",
       "1960      F247      F247  \n",
       "1961      F248      F248  \n",
       "1962        ZM       ZMB  \n",
       "1963        ZW       ZWE  \n",
       "\n",
       "[1964 rows x 7 columns]"
      ]
     },
     "execution_count": 3,
     "metadata": {},
     "output_type": "execute_result"
    }
   ],
   "source": [
    "countries = pd.read_csv(\"../database/FAOSTAT_data_5-3-2023_country_groups_2023.csv\", dtype=str)\n",
    "countries "
   ]
  }
 ],
 "metadata": {
  "kernelspec": {
   "display_name": ".venv",
   "language": "python",
   "name": "python3"
  },
  "language_info": {
   "codemirror_mode": {
    "name": "ipython",
    "version": 3
   },
   "file_extension": ".py",
   "mimetype": "text/x-python",
   "name": "python",
   "nbconvert_exporter": "python",
   "pygments_lexer": "ipython3",
   "version": "3.13.4"
  }
 },
 "nbformat": 4,
 "nbformat_minor": 5
}
