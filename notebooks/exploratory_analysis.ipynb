{
 "cells": [
  {
   "cell_type": "code",
   "execution_count": 1,
   "id": "f38cf900",
   "metadata": {},
   "outputs": [],
   "source": [
    "import pandas as pd\n",
    "import chardet"
   ]
  },
  {
   "cell_type": "markdown",
   "id": "cf93de32",
   "metadata": {},
   "source": [
    "---\n",
    "### Analyse exploratoire fichier dispo alimentaire 2017\n",
    "---"
   ]
  },
  {
   "cell_type": "code",
   "execution_count": 2,
   "id": "09c496de",
   "metadata": {},
   "outputs": [
    {
     "name": "stdout",
     "output_type": "stream",
     "text": [
      "{'encoding': 'UTF-8-SIG', 'confidence': 1.0, 'language': ''}\n"
     ]
    }
   ],
   "source": [
    "with open('../database/DisponibiliteAlimentaire_2017.csv', 'rb') as f:\n",
    "    contenu = f.read()\n",
    "\n",
    "resultat = chardet.detect(contenu)\n",
    "print(resultat)"
   ]
  },
  {
   "cell_type": "code",
   "execution_count": 3,
   "id": "7da97b1a",
   "metadata": {},
   "outputs": [
    {
     "data": {
      "application/vnd.microsoft.datawrangler.viewer.v0+json": {
       "columns": [
        {
         "name": "index",
         "rawType": "int64",
         "type": "integer"
        },
        {
         "name": "Code Domaine",
         "rawType": "object",
         "type": "string"
        },
        {
         "name": "Domaine",
         "rawType": "object",
         "type": "string"
        },
        {
         "name": "Code zone",
         "rawType": "object",
         "type": "string"
        },
        {
         "name": "Zone",
         "rawType": "object",
         "type": "string"
        },
        {
         "name": "Code Élément",
         "rawType": "object",
         "type": "string"
        },
        {
         "name": "Élément",
         "rawType": "object",
         "type": "string"
        },
        {
         "name": "Code Produit",
         "rawType": "object",
         "type": "string"
        },
        {
         "name": "Produit",
         "rawType": "object",
         "type": "string"
        },
        {
         "name": "Code année",
         "rawType": "object",
         "type": "string"
        },
        {
         "name": "Année",
         "rawType": "object",
         "type": "string"
        },
        {
         "name": "Unité",
         "rawType": "object",
         "type": "string"
        },
        {
         "name": "Valeur",
         "rawType": "object",
         "type": "string"
        },
        {
         "name": "Symbole",
         "rawType": "object",
         "type": "string"
        },
        {
         "name": "Description du Symbole",
         "rawType": "object",
         "type": "string"
        }
       ],
       "ref": "52a550bf-5023-4d75-a1b2-ca03b7adc421",
       "rows": [
        [
         "0",
         "FBS",
         "Nouveaux Bilans Alimentaire",
         "2",
         "Afghanistan",
         "5511",
         "Production",
         "2511",
         "Blé et produits",
         "2017",
         "2017",
         "Milliers de tonnes",
         "4281",
         "S",
         "Données standardisées"
        ],
        [
         "1",
         "FBS",
         "Nouveaux Bilans Alimentaire",
         "2",
         "Afghanistan",
         "5611",
         "Importations - Quantité",
         "2511",
         "Blé et produits",
         "2017",
         "2017",
         "Milliers de tonnes",
         "2302",
         "S",
         "Données standardisées"
        ],
        [
         "2",
         "FBS",
         "Nouveaux Bilans Alimentaire",
         "2",
         "Afghanistan",
         "5072",
         "Variation de stock",
         "2511",
         "Blé et produits",
         "2017",
         "2017",
         "Milliers de tonnes",
         "-119",
         "S",
         "Données standardisées"
        ],
        [
         "3",
         "FBS",
         "Nouveaux Bilans Alimentaire",
         "2",
         "Afghanistan",
         "5911",
         "Exportations - Quantité",
         "2511",
         "Blé et produits",
         "2017",
         "2017",
         "Milliers de tonnes",
         "0",
         "S",
         "Données standardisées"
        ],
        [
         "4",
         "FBS",
         "Nouveaux Bilans Alimentaire",
         "2",
         "Afghanistan",
         "5301",
         "Disponibilité intérieure",
         "2511",
         "Blé et produits",
         "2017",
         "2017",
         "Milliers de tonnes",
         "6701",
         "S",
         "Données standardisées"
        ]
       ],
       "shape": {
        "columns": 14,
        "rows": 5
       }
      },
      "text/html": [
       "<div>\n",
       "<style scoped>\n",
       "    .dataframe tbody tr th:only-of-type {\n",
       "        vertical-align: middle;\n",
       "    }\n",
       "\n",
       "    .dataframe tbody tr th {\n",
       "        vertical-align: top;\n",
       "    }\n",
       "\n",
       "    .dataframe thead th {\n",
       "        text-align: right;\n",
       "    }\n",
       "</style>\n",
       "<table border=\"1\" class=\"dataframe\">\n",
       "  <thead>\n",
       "    <tr style=\"text-align: right;\">\n",
       "      <th></th>\n",
       "      <th>Code Domaine</th>\n",
       "      <th>Domaine</th>\n",
       "      <th>Code zone</th>\n",
       "      <th>Zone</th>\n",
       "      <th>Code Élément</th>\n",
       "      <th>Élément</th>\n",
       "      <th>Code Produit</th>\n",
       "      <th>Produit</th>\n",
       "      <th>Code année</th>\n",
       "      <th>Année</th>\n",
       "      <th>Unité</th>\n",
       "      <th>Valeur</th>\n",
       "      <th>Symbole</th>\n",
       "      <th>Description du Symbole</th>\n",
       "    </tr>\n",
       "  </thead>\n",
       "  <tbody>\n",
       "    <tr>\n",
       "      <th>0</th>\n",
       "      <td>FBS</td>\n",
       "      <td>Nouveaux Bilans Alimentaire</td>\n",
       "      <td>2</td>\n",
       "      <td>Afghanistan</td>\n",
       "      <td>5511</td>\n",
       "      <td>Production</td>\n",
       "      <td>2511</td>\n",
       "      <td>Blé et produits</td>\n",
       "      <td>2017</td>\n",
       "      <td>2017</td>\n",
       "      <td>Milliers de tonnes</td>\n",
       "      <td>4281</td>\n",
       "      <td>S</td>\n",
       "      <td>Données standardisées</td>\n",
       "    </tr>\n",
       "    <tr>\n",
       "      <th>1</th>\n",
       "      <td>FBS</td>\n",
       "      <td>Nouveaux Bilans Alimentaire</td>\n",
       "      <td>2</td>\n",
       "      <td>Afghanistan</td>\n",
       "      <td>5611</td>\n",
       "      <td>Importations - Quantité</td>\n",
       "      <td>2511</td>\n",
       "      <td>Blé et produits</td>\n",
       "      <td>2017</td>\n",
       "      <td>2017</td>\n",
       "      <td>Milliers de tonnes</td>\n",
       "      <td>2302</td>\n",
       "      <td>S</td>\n",
       "      <td>Données standardisées</td>\n",
       "    </tr>\n",
       "    <tr>\n",
       "      <th>2</th>\n",
       "      <td>FBS</td>\n",
       "      <td>Nouveaux Bilans Alimentaire</td>\n",
       "      <td>2</td>\n",
       "      <td>Afghanistan</td>\n",
       "      <td>5072</td>\n",
       "      <td>Variation de stock</td>\n",
       "      <td>2511</td>\n",
       "      <td>Blé et produits</td>\n",
       "      <td>2017</td>\n",
       "      <td>2017</td>\n",
       "      <td>Milliers de tonnes</td>\n",
       "      <td>-119</td>\n",
       "      <td>S</td>\n",
       "      <td>Données standardisées</td>\n",
       "    </tr>\n",
       "    <tr>\n",
       "      <th>3</th>\n",
       "      <td>FBS</td>\n",
       "      <td>Nouveaux Bilans Alimentaire</td>\n",
       "      <td>2</td>\n",
       "      <td>Afghanistan</td>\n",
       "      <td>5911</td>\n",
       "      <td>Exportations - Quantité</td>\n",
       "      <td>2511</td>\n",
       "      <td>Blé et produits</td>\n",
       "      <td>2017</td>\n",
       "      <td>2017</td>\n",
       "      <td>Milliers de tonnes</td>\n",
       "      <td>0</td>\n",
       "      <td>S</td>\n",
       "      <td>Données standardisées</td>\n",
       "    </tr>\n",
       "    <tr>\n",
       "      <th>4</th>\n",
       "      <td>FBS</td>\n",
       "      <td>Nouveaux Bilans Alimentaire</td>\n",
       "      <td>2</td>\n",
       "      <td>Afghanistan</td>\n",
       "      <td>5301</td>\n",
       "      <td>Disponibilité intérieure</td>\n",
       "      <td>2511</td>\n",
       "      <td>Blé et produits</td>\n",
       "      <td>2017</td>\n",
       "      <td>2017</td>\n",
       "      <td>Milliers de tonnes</td>\n",
       "      <td>6701</td>\n",
       "      <td>S</td>\n",
       "      <td>Données standardisées</td>\n",
       "    </tr>\n",
       "  </tbody>\n",
       "</table>\n",
       "</div>"
      ],
      "text/plain": [
       "  Code Domaine                      Domaine Code zone         Zone  \\\n",
       "0          FBS  Nouveaux Bilans Alimentaire         2  Afghanistan   \n",
       "1          FBS  Nouveaux Bilans Alimentaire         2  Afghanistan   \n",
       "2          FBS  Nouveaux Bilans Alimentaire         2  Afghanistan   \n",
       "3          FBS  Nouveaux Bilans Alimentaire         2  Afghanistan   \n",
       "4          FBS  Nouveaux Bilans Alimentaire         2  Afghanistan   \n",
       "\n",
       "  Code Élément                   Élément Code Produit          Produit  \\\n",
       "0         5511                Production         2511  Blé et produits   \n",
       "1         5611   Importations - Quantité         2511  Blé et produits   \n",
       "2         5072        Variation de stock         2511  Blé et produits   \n",
       "3         5911   Exportations - Quantité         2511  Blé et produits   \n",
       "4         5301  Disponibilité intérieure         2511  Blé et produits   \n",
       "\n",
       "  Code année Année               Unité Valeur Symbole Description du Symbole  \n",
       "0       2017  2017  Milliers de tonnes   4281       S  Données standardisées  \n",
       "1       2017  2017  Milliers de tonnes   2302       S  Données standardisées  \n",
       "2       2017  2017  Milliers de tonnes   -119       S  Données standardisées  \n",
       "3       2017  2017  Milliers de tonnes      0       S  Données standardisées  \n",
       "4       2017  2017  Milliers de tonnes   6701       S  Données standardisées  "
      ]
     },
     "execution_count": 3,
     "metadata": {},
     "output_type": "execute_result"
    }
   ],
   "source": [
    "dispo = pd.read_csv('../database/DisponibiliteAlimentaire_2017.csv', sep=',', encoding='utf-8-sig', dtype=str)\n",
    "dispo.head()"
   ]
  },
  {
   "cell_type": "code",
   "execution_count": 4,
   "id": "175b085e",
   "metadata": {},
   "outputs": [
    {
     "name": "stdout",
     "output_type": "stream",
     "text": [
      "<class 'pandas.core.frame.DataFrame'>\n",
      "RangeIndex: 176600 entries, 0 to 176599\n",
      "Data columns (total 14 columns):\n",
      " #   Column                  Non-Null Count   Dtype \n",
      "---  ------                  --------------   ----- \n",
      " 0   Code Domaine            176600 non-null  object\n",
      " 1   Domaine                 176600 non-null  object\n",
      " 2   Code zone               176600 non-null  object\n",
      " 3   Zone                    176600 non-null  object\n",
      " 4   Code Élément            176600 non-null  object\n",
      " 5   Élément                 176600 non-null  object\n",
      " 6   Code Produit            176600 non-null  object\n",
      " 7   Produit                 176600 non-null  object\n",
      " 8   Code année              176600 non-null  object\n",
      " 9   Année                   176600 non-null  object\n",
      " 10  Unité                   176600 non-null  object\n",
      " 11  Valeur                  176600 non-null  object\n",
      " 12  Symbole                 176600 non-null  object\n",
      " 13  Description du Symbole  176600 non-null  object\n",
      "dtypes: object(14)\n",
      "memory usage: 18.9+ MB\n"
     ]
    }
   ],
   "source": [
    "dispo.info()"
   ]
  },
  {
   "cell_type": "code",
   "execution_count": 5,
   "id": "9a4172b1",
   "metadata": {},
   "outputs": [
    {
     "data": {
      "application/vnd.microsoft.datawrangler.viewer.v0+json": {
       "columns": [
        {
         "name": "index",
         "rawType": "object",
         "type": "string"
        },
        {
         "name": "Code Domaine",
         "rawType": "object",
         "type": "unknown"
        },
        {
         "name": "Domaine",
         "rawType": "object",
         "type": "unknown"
        },
        {
         "name": "Code zone",
         "rawType": "object",
         "type": "unknown"
        },
        {
         "name": "Zone",
         "rawType": "object",
         "type": "unknown"
        },
        {
         "name": "Code Élément",
         "rawType": "object",
         "type": "unknown"
        },
        {
         "name": "Élément",
         "rawType": "object",
         "type": "unknown"
        },
        {
         "name": "Code Produit",
         "rawType": "object",
         "type": "unknown"
        },
        {
         "name": "Produit",
         "rawType": "object",
         "type": "unknown"
        },
        {
         "name": "Code année",
         "rawType": "object",
         "type": "unknown"
        },
        {
         "name": "Année",
         "rawType": "object",
         "type": "unknown"
        },
        {
         "name": "Unité",
         "rawType": "object",
         "type": "unknown"
        },
        {
         "name": "Valeur",
         "rawType": "object",
         "type": "unknown"
        },
        {
         "name": "Symbole",
         "rawType": "object",
         "type": "unknown"
        },
        {
         "name": "Description du Symbole",
         "rawType": "object",
         "type": "unknown"
        }
       ],
       "ref": "cad0112a-cefe-4489-ad04-909bba84bc32",
       "rows": [
        [
         "count",
         "176600",
         "176600",
         "176600",
         "176600",
         "176600",
         "176600",
         "176600",
         "176600",
         "176600",
         "176600",
         "176600",
         "176600",
         "176600",
         "176600"
        ],
        [
         "unique",
         "1",
         "1",
         "174",
         "174",
         "17",
         "17",
         "98",
         "98",
         "1",
         "1",
         "4",
         "7251",
         "2",
         "2"
        ],
        [
         "top",
         "FBS",
         "Nouveaux Bilans Alimentaire",
         "39",
         "Tchad",
         "5301",
         "Disponibilité intérieure",
         "2514",
         "Maïs et produits",
         "2017",
         "2017",
         "Milliers de tonnes",
         "0",
         "S",
         "Données standardisées"
        ],
        [
         "freq",
         "176600",
         "176600",
         "1416",
         "1416",
         "15905",
         "15905",
         "2593",
         "2593",
         "176600",
         "176600",
         "118487",
         "72526",
         "118487",
         "118487"
        ]
       ],
       "shape": {
        "columns": 14,
        "rows": 4
       }
      },
      "text/html": [
       "<div>\n",
       "<style scoped>\n",
       "    .dataframe tbody tr th:only-of-type {\n",
       "        vertical-align: middle;\n",
       "    }\n",
       "\n",
       "    .dataframe tbody tr th {\n",
       "        vertical-align: top;\n",
       "    }\n",
       "\n",
       "    .dataframe thead th {\n",
       "        text-align: right;\n",
       "    }\n",
       "</style>\n",
       "<table border=\"1\" class=\"dataframe\">\n",
       "  <thead>\n",
       "    <tr style=\"text-align: right;\">\n",
       "      <th></th>\n",
       "      <th>Code Domaine</th>\n",
       "      <th>Domaine</th>\n",
       "      <th>Code zone</th>\n",
       "      <th>Zone</th>\n",
       "      <th>Code Élément</th>\n",
       "      <th>Élément</th>\n",
       "      <th>Code Produit</th>\n",
       "      <th>Produit</th>\n",
       "      <th>Code année</th>\n",
       "      <th>Année</th>\n",
       "      <th>Unité</th>\n",
       "      <th>Valeur</th>\n",
       "      <th>Symbole</th>\n",
       "      <th>Description du Symbole</th>\n",
       "    </tr>\n",
       "  </thead>\n",
       "  <tbody>\n",
       "    <tr>\n",
       "      <th>count</th>\n",
       "      <td>176600</td>\n",
       "      <td>176600</td>\n",
       "      <td>176600</td>\n",
       "      <td>176600</td>\n",
       "      <td>176600</td>\n",
       "      <td>176600</td>\n",
       "      <td>176600</td>\n",
       "      <td>176600</td>\n",
       "      <td>176600</td>\n",
       "      <td>176600</td>\n",
       "      <td>176600</td>\n",
       "      <td>176600</td>\n",
       "      <td>176600</td>\n",
       "      <td>176600</td>\n",
       "    </tr>\n",
       "    <tr>\n",
       "      <th>unique</th>\n",
       "      <td>1</td>\n",
       "      <td>1</td>\n",
       "      <td>174</td>\n",
       "      <td>174</td>\n",
       "      <td>17</td>\n",
       "      <td>17</td>\n",
       "      <td>98</td>\n",
       "      <td>98</td>\n",
       "      <td>1</td>\n",
       "      <td>1</td>\n",
       "      <td>4</td>\n",
       "      <td>7251</td>\n",
       "      <td>2</td>\n",
       "      <td>2</td>\n",
       "    </tr>\n",
       "    <tr>\n",
       "      <th>top</th>\n",
       "      <td>FBS</td>\n",
       "      <td>Nouveaux Bilans Alimentaire</td>\n",
       "      <td>39</td>\n",
       "      <td>Tchad</td>\n",
       "      <td>5301</td>\n",
       "      <td>Disponibilité intérieure</td>\n",
       "      <td>2514</td>\n",
       "      <td>Maïs et produits</td>\n",
       "      <td>2017</td>\n",
       "      <td>2017</td>\n",
       "      <td>Milliers de tonnes</td>\n",
       "      <td>0</td>\n",
       "      <td>S</td>\n",
       "      <td>Données standardisées</td>\n",
       "    </tr>\n",
       "    <tr>\n",
       "      <th>freq</th>\n",
       "      <td>176600</td>\n",
       "      <td>176600</td>\n",
       "      <td>1416</td>\n",
       "      <td>1416</td>\n",
       "      <td>15905</td>\n",
       "      <td>15905</td>\n",
       "      <td>2593</td>\n",
       "      <td>2593</td>\n",
       "      <td>176600</td>\n",
       "      <td>176600</td>\n",
       "      <td>118487</td>\n",
       "      <td>72526</td>\n",
       "      <td>118487</td>\n",
       "      <td>118487</td>\n",
       "    </tr>\n",
       "  </tbody>\n",
       "</table>\n",
       "</div>"
      ],
      "text/plain": [
       "       Code Domaine                      Domaine Code zone    Zone  \\\n",
       "count        176600                       176600    176600  176600   \n",
       "unique            1                            1       174     174   \n",
       "top             FBS  Nouveaux Bilans Alimentaire        39   Tchad   \n",
       "freq         176600                       176600      1416    1416   \n",
       "\n",
       "       Code Élément                   Élément Code Produit           Produit  \\\n",
       "count        176600                    176600       176600            176600   \n",
       "unique           17                        17           98                98   \n",
       "top            5301  Disponibilité intérieure         2514  Maïs et produits   \n",
       "freq          15905                     15905         2593              2593   \n",
       "\n",
       "       Code année   Année               Unité  Valeur Symbole  \\\n",
       "count      176600  176600              176600  176600  176600   \n",
       "unique          1       1                   4    7251       2   \n",
       "top          2017    2017  Milliers de tonnes       0       S   \n",
       "freq       176600  176600              118487   72526  118487   \n",
       "\n",
       "       Description du Symbole  \n",
       "count                  176600  \n",
       "unique                      2  \n",
       "top     Données standardisées  \n",
       "freq                   118487  "
      ]
     },
     "execution_count": 5,
     "metadata": {},
     "output_type": "execute_result"
    }
   ],
   "source": [
    "dispo.describe()"
   ]
  },
  {
   "cell_type": "markdown",
   "id": "2995cb8a",
   "metadata": {},
   "source": [
    "---\n",
    "### Analyse exploratoire fichier population 2000-2018\n",
    "---"
   ]
  },
  {
   "cell_type": "code",
   "execution_count": 6,
   "id": "9dec7a20",
   "metadata": {},
   "outputs": [
    {
     "name": "stdout",
     "output_type": "stream",
     "text": [
      "{'encoding': 'UTF-8-SIG', 'confidence': 1.0, 'language': ''}\n"
     ]
    }
   ],
   "source": [
    "with open('../database/Population_2000_2018.csv', 'rb') as f:\n",
    "    contenue = f.read()\n",
    "\n",
    "resultate = chardet.detect(contenue)\n",
    "print(resultate)"
   ]
  },
  {
   "cell_type": "code",
   "execution_count": null,
   "id": "4a2eacbe",
   "metadata": {},
   "outputs": [],
   "source": []
  }
 ],
 "metadata": {
  "kernelspec": {
   "display_name": ".venv",
   "language": "python",
   "name": "python3"
  },
  "language_info": {
   "codemirror_mode": {
    "name": "ipython",
    "version": 3
   },
   "file_extension": ".py",
   "mimetype": "text/x-python",
   "name": "python",
   "nbconvert_exporter": "python",
   "pygments_lexer": "ipython3",
   "version": "3.13.4"
  }
 },
 "nbformat": 4,
 "nbformat_minor": 5
}
