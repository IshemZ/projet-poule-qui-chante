{
 "cells": [
  {
   "attachments": {
    "logo.PNG": {
     "image/png": "[encoded data removed]"
    }
   },
   "cell_type": "markdown",
   "id": "a7d0d4be",
   "metadata": {},
   "source": [
    "![logo.PNG](attachment:logo.PNG)"
   ]
  },
  {
   "cell_type": "code",
   "execution_count": 4,
   "id": "24f07f05",
   "metadata": {},
   "outputs": [],
   "source": [
    "import matplotlib.pyplot as plt\n",
    "import missingno as msno\n",
    "import numpy as np\n",
    "import pandas as pd\n",
    "import seaborn as sns\n",
    "\n",
    "# import user-created functions\n",
    "from functions import *\n",
    "\n",
    "# use company logo colour in graphs\n",
    "col = findColor('poule.png')\n",
    "\n",
    "# maximise dataframe display\n",
    "pd.set_option('display.max_colwidth', None)"
   ]
  },
  {
   "cell_type": "markdown",
   "id": "ce6f884c",
   "metadata": {},
   "source": [
    "# 1 - Import des donnees fournies et verification du typage des colonnes"
   ]
  },
  {
   "cell_type": "code",
   "execution_count": 5,
   "id": "056ec039",
   "metadata": {},
   "outputs": [],
   "source": [
    "# import data files provided by project team\n",
    "dispo_alim = pd.read_csv('../poule-qui-chante/src/data/raw_data/DisponibiliteAlimentaire_2017.csv', encoding='UTF8')\n",
    "pop = pd.read_csv('../poule-qui-chante/src/data/raw_data/Population_2000_2018.csv', encoding='UTF8')"
   ]
  },
  {
   "cell_type": "code",
   "execution_count": 6,
   "id": "fe660fe8",
   "metadata": {},
   "outputs": [
    {
     "data": {
      "application/vnd.microsoft.datawrangler.viewer.v0+json": {
       "columns": [
        {
         "name": "index",
         "rawType": "object",
         "type": "string"
        },
        {
         "name": "Code zone",
         "rawType": "float64",
         "type": "float"
        },
        {
         "name": "Code Élément",
         "rawType": "float64",
         "type": "float"
        },
        {
         "name": "Code Produit",
         "rawType": "float64",
         "type": "float"
        },
        {
         "name": "Code année",
         "rawType": "float64",
         "type": "float"
        },
        {
         "name": "Année",
         "rawType": "float64",
         "type": "float"
        },
        {
         "name": "Valeur",
         "rawType": "float64",
         "type": "float"
        }
       ],
       "ref": "14310475-1010-497f-9064-160c03d76de1",
       "rows": [
        [
         "count",
         "176600.0",
         "176600.0",
         "176600.0",
         "176600.0",
         "176600.0",
         "176600.0"
        ],
        [
         "mean",
         "125.4747395243488",
         "3810.0528935447337",
         "2628.778544733862",
         "2017.0",
         "2017.0",
         "210.5549181766704"
        ],
        [
         "std",
         "72.94169927960812",
         "2211.790089270202",
         "91.99324686129432",
         "0.0",
         "0.0",
         "4762.047786594939"
        ],
        [
         "min",
         "1.0",
         "645.0",
         "2511.0",
         "2017.0",
         "2017.0",
         "-10388.0"
        ],
        [
         "25%",
         "63.0",
         "684.0",
         "2556.0",
         "2017.0",
         "2017.0",
         "0.0"
        ],
        [
         "50%",
         "120.0",
         "5142.0",
         "2612.0",
         "2017.0",
         "2017.0",
         "0.12"
        ],
        [
         "75%",
         "188.0",
         "5301.0",
         "2732.0",
         "2017.0",
         "2017.0",
         "8.4625"
        ],
        [
         "max",
         "276.0",
         "5911.0",
         "2899.0",
         "2017.0",
         "2017.0",
         "758548.0"
        ]
       ],
       "shape": {
        "columns": 6,
        "rows": 8
       }
      },
      "text/html": [
       "<div>\n",
       "<style scoped>\n",
       "    .dataframe tbody tr th:only-of-type {\n",
       "        vertical-align: middle;\n",
       "    }\n",
       "\n",
       "    .dataframe tbody tr th {\n",
       "        vertical-align: top;\n",
       "    }\n",
       "\n",
       "    .dataframe thead th {\n",
       "        text-align: right;\n",
       "    }\n",
       "</style>\n",
       "<table border=\"1\" class=\"dataframe\">\n",
       "  <thead>\n",
       "    <tr style=\"text-align: right;\">\n",
       "      <th></th>\n",
       "      <th>Code zone</th>\n",
       "      <th>Code Élément</th>\n",
       "      <th>Code Produit</th>\n",
       "      <th>Code année</th>\n",
       "      <th>Année</th>\n",
       "      <th>Valeur</th>\n",
       "    </tr>\n",
       "  </thead>\n",
       "  <tbody>\n",
       "    <tr>\n",
       "      <th>count</th>\n",
       "      <td>176600.000000</td>\n",
       "      <td>176600.000000</td>\n",
       "      <td>176600.000000</td>\n",
       "      <td>176600.0</td>\n",
       "      <td>176600.0</td>\n",
       "      <td>176600.000000</td>\n",
       "    </tr>\n",
       "    <tr>\n",
       "      <th>mean</th>\n",
       "      <td>125.474740</td>\n",
       "      <td>3810.052894</td>\n",
       "      <td>2628.778545</td>\n",
       "      <td>2017.0</td>\n",
       "      <td>2017.0</td>\n",
       "      <td>210.554918</td>\n",
       "    </tr>\n",
       "    <tr>\n",
       "      <th>std</th>\n",
       "      <td>72.941699</td>\n",
       "      <td>2211.790089</td>\n",
       "      <td>91.993247</td>\n",
       "      <td>0.0</td>\n",
       "      <td>0.0</td>\n",
       "      <td>4762.047787</td>\n",
       "    </tr>\n",
       "    <tr>\n",
       "      <th>min</th>\n",
       "      <td>1.000000</td>\n",
       "      <td>645.000000</td>\n",
       "      <td>2511.000000</td>\n",
       "      <td>2017.0</td>\n",
       "      <td>2017.0</td>\n",
       "      <td>-10388.000000</td>\n",
       "    </tr>\n",
       "    <tr>\n",
       "      <th>25%</th>\n",
       "      <td>63.000000</td>\n",
       "      <td>684.000000</td>\n",
       "      <td>2556.000000</td>\n",
       "      <td>2017.0</td>\n",
       "      <td>2017.0</td>\n",
       "      <td>0.000000</td>\n",
       "    </tr>\n",
       "    <tr>\n",
       "      <th>50%</th>\n",
       "      <td>120.000000</td>\n",
       "      <td>5142.000000</td>\n",
       "      <td>2612.000000</td>\n",
       "      <td>2017.0</td>\n",
       "      <td>2017.0</td>\n",
       "      <td>0.120000</td>\n",
       "    </tr>\n",
       "    <tr>\n",
       "      <th>75%</th>\n",
       "      <td>188.000000</td>\n",
       "      <td>5301.000000</td>\n",
       "      <td>2732.000000</td>\n",
       "      <td>2017.0</td>\n",
       "      <td>2017.0</td>\n",
       "      <td>8.462500</td>\n",
       "    </tr>\n",
       "    <tr>\n",
       "      <th>max</th>\n",
       "      <td>276.000000</td>\n",
       "      <td>5911.000000</td>\n",
       "      <td>2899.000000</td>\n",
       "      <td>2017.0</td>\n",
       "      <td>2017.0</td>\n",
       "      <td>758548.000000</td>\n",
       "    </tr>\n",
       "  </tbody>\n",
       "</table>\n",
       "</div>"
      ],
      "text/plain": [
       "           Code zone   Code Élément   Code Produit  Code année     Année  \\\n",
       "count  176600.000000  176600.000000  176600.000000    176600.0  176600.0   \n",
       "mean      125.474740    3810.052894    2628.778545      2017.0    2017.0   \n",
       "std        72.941699    2211.790089      91.993247         0.0       0.0   \n",
       "min         1.000000     645.000000    2511.000000      2017.0    2017.0   \n",
       "25%        63.000000     684.000000    2556.000000      2017.0    2017.0   \n",
       "50%       120.000000    5142.000000    2612.000000      2017.0    2017.0   \n",
       "75%       188.000000    5301.000000    2732.000000      2017.0    2017.0   \n",
       "max       276.000000    5911.000000    2899.000000      2017.0    2017.0   \n",
       "\n",
       "              Valeur  \n",
       "count  176600.000000  \n",
       "mean      210.554918  \n",
       "std      4762.047787  \n",
       "min    -10388.000000  \n",
       "25%         0.000000  \n",
       "50%         0.120000  \n",
       "75%         8.462500  \n",
       "max    758548.000000  "
      ]
     },
     "execution_count": 6,
     "metadata": {},
     "output_type": "execute_result"
    }
   ],
   "source": [
    "dispo_alim.describe()"
   ]
  },
  {
   "cell_type": "code",
   "execution_count": 7,
   "id": "35746ba8",
   "metadata": {},
   "outputs": [
    {
     "data": {
      "application/vnd.microsoft.datawrangler.viewer.v0+json": {
       "columns": [
        {
         "name": "index",
         "rawType": "object",
         "type": "string"
        },
        {
         "name": "Code zone",
         "rawType": "float64",
         "type": "float"
        },
        {
         "name": "Code Élément",
         "rawType": "float64",
         "type": "float"
        },
        {
         "name": "Code Produit",
         "rawType": "float64",
         "type": "float"
        },
        {
         "name": "Code année",
         "rawType": "float64",
         "type": "float"
        },
        {
         "name": "Année",
         "rawType": "float64",
         "type": "float"
        },
        {
         "name": "Valeur",
         "rawType": "float64",
         "type": "float"
        }
       ],
       "ref": "e7565d48-69d9-4dcf-9d9e-59c317053ea0",
       "rows": [
        [
         "count",
         "4411.0",
         "4411.0",
         "4411.0",
         "4411.0",
         "4411.0",
         "4411.0"
        ],
        [
         "mean",
         "132.2029018363183",
         "511.0",
         "3010.0",
         "2009.0682384946724",
         "2009.0682384946724",
         "29630.03761165269"
        ],
        [
         "std",
         "75.8548401929177",
         "0.0",
         "0.0",
         "5.481539007394972",
         "5.481539007394972",
         "123802.85533638817"
        ],
        [
         "min",
         "1.0",
         "511.0",
         "3010.0",
         "2000.0",
         "2000.0",
         "0.785"
        ],
        [
         "25%",
         "68.0",
         "511.0",
         "3010.0",
         "2004.0",
         "2004.0",
         "392.18899999999996"
        ],
        [
         "50%",
         "132.0",
         "511.0",
         "3010.0",
         "2009.0",
         "2009.0",
         "4764.741"
        ],
        [
         "75%",
         "195.0",
         "511.0",
         "3010.0",
         "2014.0",
         "2014.0",
         "18215.478"
        ],
        [
         "max",
         "299.0",
         "511.0",
         "3010.0",
         "2018.0",
         "2018.0",
         "1427647.786"
        ]
       ],
       "shape": {
        "columns": 6,
        "rows": 8
       }
      },
      "text/html": [
       "<div>\n",
       "<style scoped>\n",
       "    .dataframe tbody tr th:only-of-type {\n",
       "        vertical-align: middle;\n",
       "    }\n",
       "\n",
       "    .dataframe tbody tr th {\n",
       "        vertical-align: top;\n",
       "    }\n",
       "\n",
       "    .dataframe thead th {\n",
       "        text-align: right;\n",
       "    }\n",
       "</style>\n",
       "<table border=\"1\" class=\"dataframe\">\n",
       "  <thead>\n",
       "    <tr style=\"text-align: right;\">\n",
       "      <th></th>\n",
       "      <th>Code zone</th>\n",
       "      <th>Code Élément</th>\n",
       "      <th>Code Produit</th>\n",
       "      <th>Code année</th>\n",
       "      <th>Année</th>\n",
       "      <th>Valeur</th>\n",
       "    </tr>\n",
       "  </thead>\n",
       "  <tbody>\n",
       "    <tr>\n",
       "      <th>count</th>\n",
       "      <td>4411.000000</td>\n",
       "      <td>4411.0</td>\n",
       "      <td>4411.0</td>\n",
       "      <td>4411.000000</td>\n",
       "      <td>4411.000000</td>\n",
       "      <td>4.411000e+03</td>\n",
       "    </tr>\n",
       "    <tr>\n",
       "      <th>mean</th>\n",
       "      <td>132.202902</td>\n",
       "      <td>511.0</td>\n",
       "      <td>3010.0</td>\n",
       "      <td>2009.068238</td>\n",
       "      <td>2009.068238</td>\n",
       "      <td>2.963004e+04</td>\n",
       "    </tr>\n",
       "    <tr>\n",
       "      <th>std</th>\n",
       "      <td>75.854840</td>\n",
       "      <td>0.0</td>\n",
       "      <td>0.0</td>\n",
       "      <td>5.481539</td>\n",
       "      <td>5.481539</td>\n",
       "      <td>1.238029e+05</td>\n",
       "    </tr>\n",
       "    <tr>\n",
       "      <th>min</th>\n",
       "      <td>1.000000</td>\n",
       "      <td>511.0</td>\n",
       "      <td>3010.0</td>\n",
       "      <td>2000.000000</td>\n",
       "      <td>2000.000000</td>\n",
       "      <td>7.850000e-01</td>\n",
       "    </tr>\n",
       "    <tr>\n",
       "      <th>25%</th>\n",
       "      <td>68.000000</td>\n",
       "      <td>511.0</td>\n",
       "      <td>3010.0</td>\n",
       "      <td>2004.000000</td>\n",
       "      <td>2004.000000</td>\n",
       "      <td>3.921890e+02</td>\n",
       "    </tr>\n",
       "    <tr>\n",
       "      <th>50%</th>\n",
       "      <td>132.000000</td>\n",
       "      <td>511.0</td>\n",
       "      <td>3010.0</td>\n",
       "      <td>2009.000000</td>\n",
       "      <td>2009.000000</td>\n",
       "      <td>4.764741e+03</td>\n",
       "    </tr>\n",
       "    <tr>\n",
       "      <th>75%</th>\n",
       "      <td>195.000000</td>\n",
       "      <td>511.0</td>\n",
       "      <td>3010.0</td>\n",
       "      <td>2014.000000</td>\n",
       "      <td>2014.000000</td>\n",
       "      <td>1.821548e+04</td>\n",
       "    </tr>\n",
       "    <tr>\n",
       "      <th>max</th>\n",
       "      <td>299.000000</td>\n",
       "      <td>511.0</td>\n",
       "      <td>3010.0</td>\n",
       "      <td>2018.000000</td>\n",
       "      <td>2018.000000</td>\n",
       "      <td>1.427648e+06</td>\n",
       "    </tr>\n",
       "  </tbody>\n",
       "</table>\n",
       "</div>"
      ],
      "text/plain": [
       "         Code zone  Code Élément  Code Produit   Code année        Année  \\\n",
       "count  4411.000000        4411.0        4411.0  4411.000000  4411.000000   \n",
       "mean    132.202902         511.0        3010.0  2009.068238  2009.068238   \n",
       "std      75.854840           0.0           0.0     5.481539     5.481539   \n",
       "min       1.000000         511.0        3010.0  2000.000000  2000.000000   \n",
       "25%      68.000000         511.0        3010.0  2004.000000  2004.000000   \n",
       "50%     132.000000         511.0        3010.0  2009.000000  2009.000000   \n",
       "75%     195.000000         511.0        3010.0  2014.000000  2014.000000   \n",
       "max     299.000000         511.0        3010.0  2018.000000  2018.000000   \n",
       "\n",
       "             Valeur  \n",
       "count  4.411000e+03  \n",
       "mean   2.963004e+04  \n",
       "std    1.238029e+05  \n",
       "min    7.850000e-01  \n",
       "25%    3.921890e+02  \n",
       "50%    4.764741e+03  \n",
       "75%    1.821548e+04  \n",
       "max    1.427648e+06  "
      ]
     },
     "execution_count": 7,
     "metadata": {},
     "output_type": "execute_result"
    }
   ],
   "source": [
    "pop.describe()"
   ]
  },
  {
   "cell_type": "markdown",
   "id": "f8a3b038",
   "metadata": {},
   "source": [
    "#### Les donnees contenues dans les fichiers fournis sont trop anciennes (5 ans ou plus), nous telechargeons donc les fichiers mis a jour sur le site de la FAO, et des donnees complementaires sur le site Our World In Data. Apres consultation des divers historiques presents en ligne, l'annee la plus recente pour laquelle nous pouvons obtenir un jeu de donnees complet est 2020, a l'exception des chiffres de deces imputables a l'obesite, qui datent de 2019."
   ]
  },
  {
   "cell_type": "code",
   "execution_count": 8,
   "id": "06e6a382",
   "metadata": {},
   "outputs": [],
   "source": [
    "# 1.1 - list of countries with various grouping references - source : https://www.fao.org/faostat/en/#definitions\n",
    "countries = pd.read_csv('../poule-qui-chante/src/data/raw_data/FAOSTAT_data_5-3-2023_country_groups_2023.csv', encoding='UTF8')\n",
    "\n",
    "# 1.2 - population - source : https://www.fao.org/faostat/en/#data/OA\n",
    "pop = pd.read_csv('../poule-qui-chante/src/data/raw_data/FAOSTAT_data_en_5-8-2023_pop_2020.csv', encoding='UTF8')\n",
    "\n",
    "# 1.3 - GDP - source : https://www.fao.org/faostat/en/#data/MK\n",
    "gdp = pd.read_csv('../poule-qui-chante/src/data/raw_data/FAOSTAT_data_en_5-10-2023_GDP_2020.csv', encoding='UTF8')\n",
    "\n",
    "# 1.4 - poultry products trade - source : https://www.fao.org/faostat/en/#data/TCL\n",
    "trade = pd.read_csv('../poule-qui-chante/src/data/raw_data/FAOSTAT_data_en_5-8-2023_poultry_trade_2020.csv', encoding='UTF8')\n",
    "\n",
    "# 1.5 - food stability, macro-economic and political stability indicators - source : https://www.fao.org/faostat/en/#data/FS\n",
    "stability = pd.read_csv('../poule-qui-chante/src/data/raw_data/FAOSTAT_data_en_5-8-2023_stability_2020.csv', encoding='UTF8')\n",
    "\n",
    "# 1.6 - sources & uses of domestic availability of poultry products - source : https://www.fao.org/faostat/en/#data/SCL\n",
    "dispo = pd.read_csv('../poule-qui-chante/src/data/raw_data/FAOSTAT_data_en_5-8-2023_poultry_utilisation_2020.csv', encoding='UTF8')\n",
    "\n",
    "# 1.7 - total availability of protein - source : https://www.fao.org/faostat/en/#data/SCL\n",
    "protein = pd.read_csv('../poule-qui-chante/src/data/raw_data/FAOSTAT_data_en_5-9-2023_protein_tot_2020.csv', encoding='UTF8')\n",
    "\n",
    "# 1.8 - animal protein consumption - # source : https://ourworldindata.org/grapher/animal-protein-vs-gdp\n",
    "protein_anim = pd.read_csv('../poule-qui-chante/src/data/raw_data/OWID_animal-protein-vs-gdp_2020.csv', encoding='UTF8')\n",
    "\n",
    "# 1.9 - deaths attributed to obesity - source : https://ourworldindata.org/obesity\n",
    "obesity = pd.read_csv('../poule-qui-chante/src/data/raw_data/OWID_share-of-deaths-obesity_2019.csv', encoding='UTF8')\n",
    "\n",
    "# 1.10 - trade as a percentage of GDP - source : https://ourworldindata.org/trade-and-globalization\n",
    "open_economy = pd.read_csv('../poule-qui-chante/src/data/raw_data/OWID_trade-as-share-of-gdp_2020.csv', encoding='UTF8')"
   ]
  },
  {
   "cell_type": "markdown",
   "id": "bf8fb491",
   "metadata": {},
   "source": [
    "## 1.1 - Liste des pays"
   ]
  },
  {
   "cell_type": "code",
   "execution_count": 9,
   "id": "53dba8ed",
   "metadata": {},
   "outputs": [
    {
     "data": {
      "application/vnd.microsoft.datawrangler.viewer.v0+json": {
       "columns": [
        {
         "name": "index",
         "rawType": "int64",
         "type": "integer"
        },
        {
         "name": "Country Group Code",
         "rawType": "int64",
         "type": "integer"
        },
        {
         "name": "Country Group",
         "rawType": "object",
         "type": "string"
        },
        {
         "name": "Country Code",
         "rawType": "int64",
         "type": "integer"
        },
        {
         "name": "Country",
         "rawType": "object",
         "type": "string"
        },
        {
         "name": "M49 Code",
         "rawType": "float64",
         "type": "float"
        },
        {
         "name": "ISO2 Code",
         "rawType": "object",
         "type": "string"
        },
        {
         "name": "ISO3 Code",
         "rawType": "object",
         "type": "string"
        }
       ],
       "ref": "251bcb30-a877-4188-84f3-122427b9dcd5",
       "rows": [
        [
         "0",
         "5100",
         "Africa",
         "4",
         "Algeria",
         "12.0",
         "DZ",
         "DZA"
        ],
        [
         "1",
         "5100",
         "Africa",
         "7",
         "Angola",
         "24.0",
         "AO",
         "AGO"
        ],
        [
         "2",
         "5100",
         "Africa",
         "53",
         "Benin",
         "204.0",
         "BJ",
         "BEN"
        ],
        [
         "3",
         "5100",
         "Africa",
         "20",
         "Botswana",
         "72.0",
         "BW",
         "BWA"
        ],
        [
         "4",
         "5100",
         "Africa",
         "233",
         "Burkina Faso",
         "854.0",
         "BF",
         "BFA"
        ]
       ],
       "shape": {
        "columns": 7,
        "rows": 5
       }
      },
      "text/html": [
       "<div>\n",
       "<style scoped>\n",
       "    .dataframe tbody tr th:only-of-type {\n",
       "        vertical-align: middle;\n",
       "    }\n",
       "\n",
       "    .dataframe tbody tr th {\n",
       "        vertical-align: top;\n",
       "    }\n",
       "\n",
       "    .dataframe thead th {\n",
       "        text-align: right;\n",
       "    }\n",
       "</style>\n",
       "<table border=\"1\" class=\"dataframe\">\n",
       "  <thead>\n",
       "    <tr style=\"text-align: right;\">\n",
       "      <th></th>\n",
       "      <th>Country Group Code</th>\n",
       "      <th>Country Group</th>\n",
       "      <th>Country Code</th>\n",
       "      <th>Country</th>\n",
       "      <th>M49 Code</th>\n",
       "      <th>ISO2 Code</th>\n",
       "      <th>ISO3 Code</th>\n",
       "    </tr>\n",
       "  </thead>\n",
       "  <tbody>\n",
       "    <tr>\n",
       "      <th>0</th>\n",
       "      <td>5100</td>\n",
       "      <td>Africa</td>\n",
       "      <td>4</td>\n",
       "      <td>Algeria</td>\n",
       "      <td>12.0</td>\n",
       "      <td>DZ</td>\n",
       "      <td>DZA</td>\n",
       "    </tr>\n",
       "    <tr>\n",
       "      <th>1</th>\n",
       "      <td>5100</td>\n",
       "      <td>Africa</td>\n",
       "      <td>7</td>\n",
       "      <td>Angola</td>\n",
       "      <td>24.0</td>\n",
       "      <td>AO</td>\n",
       "      <td>AGO</td>\n",
       "    </tr>\n",
       "    <tr>\n",
       "      <th>2</th>\n",
       "      <td>5100</td>\n",
       "      <td>Africa</td>\n",
       "      <td>53</td>\n",
       "      <td>Benin</td>\n",
       "      <td>204.0</td>\n",
       "      <td>BJ</td>\n",
       "      <td>BEN</td>\n",
       "    </tr>\n",
       "    <tr>\n",
       "      <th>3</th>\n",
       "      <td>5100</td>\n",
       "      <td>Africa</td>\n",
       "      <td>20</td>\n",
       "      <td>Botswana</td>\n",
       "      <td>72.0</td>\n",
       "      <td>BW</td>\n",
       "      <td>BWA</td>\n",
       "    </tr>\n",
       "    <tr>\n",
       "      <th>4</th>\n",
       "      <td>5100</td>\n",
       "      <td>Africa</td>\n",
       "      <td>233</td>\n",
       "      <td>Burkina Faso</td>\n",
       "      <td>854.0</td>\n",
       "      <td>BF</td>\n",
       "      <td>BFA</td>\n",
       "    </tr>\n",
       "  </tbody>\n",
       "</table>\n",
       "</div>"
      ],
      "text/plain": [
       "   Country Group Code Country Group  Country Code       Country  M49 Code  \\\n",
       "0                5100        Africa             4       Algeria      12.0   \n",
       "1                5100        Africa             7        Angola      24.0   \n",
       "2                5100        Africa            53         Benin     204.0   \n",
       "3                5100        Africa            20      Botswana      72.0   \n",
       "4                5100        Africa           233  Burkina Faso     854.0   \n",
       "\n",
       "  ISO2 Code ISO3 Code  \n",
       "0        DZ       DZA  \n",
       "1        AO       AGO  \n",
       "2        BJ       BEN  \n",
       "3        BW       BWA  \n",
       "4        BF       BFA  "
      ]
     },
     "execution_count": 9,
     "metadata": {},
     "output_type": "execute_result"
    }
   ],
   "source": [
    "countries.head()"
   ]
  },
  {
   "cell_type": "code",
   "execution_count": 10,
   "id": "7b7c5502",
   "metadata": {},
   "outputs": [
    {
     "name": "stdout",
     "output_type": "stream",
     "text": [
      "<class 'pandas.core.frame.DataFrame'>\n",
      "RangeIndex: 1964 entries, 0 to 1963\n",
      "Data columns (total 7 columns):\n",
      " #   Column              Non-Null Count  Dtype  \n",
      "---  ------              --------------  -----  \n",
      " 0   Country Group Code  1964 non-null   int64  \n",
      " 1   Country Group       1964 non-null   object \n",
      " 2   Country Code        1964 non-null   int64  \n",
      " 3   Country             1964 non-null   object \n",
      " 4   M49 Code            1964 non-null   float64\n",
      " 5   ISO2 Code           1956 non-null   object \n",
      " 6   ISO3 Code           1964 non-null   object \n",
      "dtypes: float64(1), int64(2), object(4)\n",
      "memory usage: 107.5+ KB\n"
     ]
    }
   ],
   "source": [
    "countries.info()"
   ]
  },
  {
   "cell_type": "code",
   "execution_count": 11,
   "id": "15a751bb",
   "metadata": {},
   "outputs": [
    {
     "data": {
      "text/plain": [
       "array(['Africa', 'Americas', 'Annex I countries', 'Antarctic Region',\n",
       "       'Asia', 'Australia and New Zealand', 'Caribbean',\n",
       "       'Caucasus and Central Asia', 'Central America', 'Central Asia',\n",
       "       'Central Asia and Southern Asia', 'Eastern Africa', 'Eastern Asia',\n",
       "       'Eastern Asia (excluding Japan and China)',\n",
       "       'Eastern Asia (excluding Japan)',\n",
       "       'Eastern Asia and South-eastern Asia', 'Eastern Europe', 'Europe',\n",
       "       'European Union (27)', 'High-income economies',\n",
       "       'Land Locked Developing Countries',\n",
       "       'Latin America and the Caribbean', 'Least Developed Countries',\n",
       "       'Low income economies', 'Low Income Food Deficit Countries',\n",
       "       'Lower-middle-income economies', 'Melanesia', 'Micronesia',\n",
       "       'Middle Africa', 'Net Food Importing Developing Countries',\n",
       "       'Non-Annex I countries', 'North and Central America',\n",
       "       'Northern Africa', 'Northern Africa (excluding Sudan)',\n",
       "       'Northern America', 'Northern America and Europe',\n",
       "       'Northern Europe', 'Oceania',\n",
       "       'Oceania excluding Australia and New Zealand', 'OECD', 'Polynesia',\n",
       "       'Small Island Developing States', 'South America',\n",
       "       'South-eastern Asia', 'Southern Africa', 'Southern Asia',\n",
       "       'Southern Asia (excluding India)', 'Southern Europe',\n",
       "       'Sub-Saharan Africa', 'Sub-Saharan Africa (including Sudan)',\n",
       "       'Upper-middle-income economies', 'Western Africa', 'Western Asia',\n",
       "       'Western Asia (exc. Armenia, Azerbaijan, Cyprus, Israel and Georgia)',\n",
       "       'Western Asia and Northern Africa', 'Western Europe', 'World'],\n",
       "      dtype=object)"
      ]
     },
     "execution_count": 11,
     "metadata": {},
     "output_type": "execute_result"
    }
   ],
   "source": [
    "countries['Country Group'].unique()"
   ]
  },
  {
   "cell_type": "code",
   "execution_count": 12,
   "id": "36cd1975",
   "metadata": {},
   "outputs": [
    {
     "data": {
      "application/vnd.microsoft.datawrangler.viewer.v0+json": {
       "columns": [
        {
         "name": "index",
         "rawType": "int64",
         "type": "integer"
        },
        {
         "name": "Country",
         "rawType": "object",
         "type": "string"
        },
        {
         "name": "ISO3 Code",
         "rawType": "object",
         "type": "string"
        },
        {
         "name": "Country Group",
         "rawType": "object",
         "type": "string"
        }
       ],
       "ref": "c3eecf0a-787f-4c92-9fb3-52fd70dd76ac",
       "rows": [
        [
         "1733",
         "China",
         "F351",
         "World"
        ],
        [
         "1737",
         "China, mainland",
         "F41",
         "World"
        ]
       ],
       "shape": {
        "columns": 3,
        "rows": 2
       }
      },
      "text/html": [
       "<div>\n",
       "<style scoped>\n",
       "    .dataframe tbody tr th:only-of-type {\n",
       "        vertical-align: middle;\n",
       "    }\n",
       "\n",
       "    .dataframe tbody tr th {\n",
       "        vertical-align: top;\n",
       "    }\n",
       "\n",
       "    .dataframe thead th {\n",
       "        text-align: right;\n",
       "    }\n",
       "</style>\n",
       "<table border=\"1\" class=\"dataframe\">\n",
       "  <thead>\n",
       "    <tr style=\"text-align: right;\">\n",
       "      <th></th>\n",
       "      <th>Country</th>\n",
       "      <th>ISO3 Code</th>\n",
       "      <th>Country Group</th>\n",
       "    </tr>\n",
       "  </thead>\n",
       "  <tbody>\n",
       "    <tr>\n",
       "      <th>1733</th>\n",
       "      <td>China</td>\n",
       "      <td>F351</td>\n",
       "      <td>World</td>\n",
       "    </tr>\n",
       "    <tr>\n",
       "      <th>1737</th>\n",
       "      <td>China, mainland</td>\n",
       "      <td>F41</td>\n",
       "      <td>World</td>\n",
       "    </tr>\n",
       "  </tbody>\n",
       "</table>\n",
       "</div>"
      ],
      "text/plain": [
       "              Country ISO3 Code Country Group\n",
       "1733            China      F351         World\n",
       "1737  China, mainland       F41         World"
      ]
     },
     "execution_count": 12,
     "metadata": {},
     "output_type": "execute_result"
    }
   ],
   "source": [
    "# reduce list to countries in \"world\" group and select name and ISO3 identifier columns\n",
    "countries_list = countries.loc[countries[\"Country Group\"] == 'World'][['Country','ISO3 Code', 'Country Group']]\n",
    "countries_dup = countries_list[countries_list['Country'].duplicated() == True]\n",
    "countries_dup"
   ]
  },
  {
   "cell_type": "code",
   "execution_count": 13,
   "id": "e75b19fb",
   "metadata": {},
   "outputs": [
    {
     "data": {
      "application/vnd.microsoft.datawrangler.viewer.v0+json": {
       "columns": [
        {
         "name": "index",
         "rawType": "int64",
         "type": "integer"
        },
        {
         "name": "Country",
         "rawType": "object",
         "type": "string"
        },
        {
         "name": "ISO3 Code",
         "rawType": "object",
         "type": "string"
        },
        {
         "name": "Country Group",
         "rawType": "object",
         "type": "string"
        }
       ],
       "ref": "45b061ba-ddbc-4675-a543-06943fcd7b72",
       "rows": [
        [
         "1732",
         "China",
         "CHN",
         "World"
        ],
        [
         "1733",
         "China",
         "F351",
         "World"
        ],
        [
         "1736",
         "China, mainland",
         "CHN",
         "World"
        ],
        [
         "1737",
         "China, mainland",
         "F41",
         "World"
        ]
       ],
       "shape": {
        "columns": 3,
        "rows": 4
       }
      },
      "text/html": [
       "<div>\n",
       "<style scoped>\n",
       "    .dataframe tbody tr th:only-of-type {\n",
       "        vertical-align: middle;\n",
       "    }\n",
       "\n",
       "    .dataframe tbody tr th {\n",
       "        vertical-align: top;\n",
       "    }\n",
       "\n",
       "    .dataframe thead th {\n",
       "        text-align: right;\n",
       "    }\n",
       "</style>\n",
       "<table border=\"1\" class=\"dataframe\">\n",
       "  <thead>\n",
       "    <tr style=\"text-align: right;\">\n",
       "      <th></th>\n",
       "      <th>Country</th>\n",
       "      <th>ISO3 Code</th>\n",
       "      <th>Country Group</th>\n",
       "    </tr>\n",
       "  </thead>\n",
       "  <tbody>\n",
       "    <tr>\n",
       "      <th>1732</th>\n",
       "      <td>China</td>\n",
       "      <td>CHN</td>\n",
       "      <td>World</td>\n",
       "    </tr>\n",
       "    <tr>\n",
       "      <th>1733</th>\n",
       "      <td>China</td>\n",
       "      <td>F351</td>\n",
       "      <td>World</td>\n",
       "    </tr>\n",
       "    <tr>\n",
       "      <th>1736</th>\n",
       "      <td>China, mainland</td>\n",
       "      <td>CHN</td>\n",
       "      <td>World</td>\n",
       "    </tr>\n",
       "    <tr>\n",
       "      <th>1737</th>\n",
       "      <td>China, mainland</td>\n",
       "      <td>F41</td>\n",
       "      <td>World</td>\n",
       "    </tr>\n",
       "  </tbody>\n",
       "</table>\n",
       "</div>"
      ],
      "text/plain": [
       "              Country ISO3 Code Country Group\n",
       "1732            China       CHN         World\n",
       "1733            China      F351         World\n",
       "1736  China, mainland       CHN         World\n",
       "1737  China, mainland       F41         World"
      ]
     },
     "execution_count": 13,
     "metadata": {},
     "output_type": "execute_result"
    }
   ],
   "source": [
    "# identify duplicate countries\n",
    "dup_countries = countries_list.loc[(countries_list['Country'] == 'China') | (countries_list['Country'] == 'China, mainland')]\n",
    "dup_countries"
   ]
  },
  {
   "cell_type": "code",
   "execution_count": 14,
   "id": "ebc6f3f6",
   "metadata": {},
   "outputs": [
    {
     "data": {
      "application/vnd.microsoft.datawrangler.viewer.v0+json": {
       "columns": [
        {
         "name": "index",
         "rawType": "int64",
         "type": "integer"
        },
        {
         "name": "Country",
         "rawType": "object",
         "type": "string"
        },
        {
         "name": "ISO3 Code",
         "rawType": "object",
         "type": "string"
        },
        {
         "name": "Country Group",
         "rawType": "object",
         "type": "string"
        }
       ],
       "ref": "9465a4fb-0c48-4c34-8ddb-a6578a91de7c",
       "rows": [
        [
         "1736",
         "China, mainland",
         "CHN",
         "World"
        ],
        [
         "1774",
         "French Guyana",
         "GUF",
         "World"
        ],
        [
         "1897",
         "Saint-Martin (French part)",
         "MAF",
         "World"
        ]
       ],
       "shape": {
        "columns": 3,
        "rows": 3
       }
      },
      "text/html": [
       "<div>\n",
       "<style scoped>\n",
       "    .dataframe tbody tr th:only-of-type {\n",
       "        vertical-align: middle;\n",
       "    }\n",
       "\n",
       "    .dataframe tbody tr th {\n",
       "        vertical-align: top;\n",
       "    }\n",
       "\n",
       "    .dataframe thead th {\n",
       "        text-align: right;\n",
       "    }\n",
       "</style>\n",
       "<table border=\"1\" class=\"dataframe\">\n",
       "  <thead>\n",
       "    <tr style=\"text-align: right;\">\n",
       "      <th></th>\n",
       "      <th>Country</th>\n",
       "      <th>ISO3 Code</th>\n",
       "      <th>Country Group</th>\n",
       "    </tr>\n",
       "  </thead>\n",
       "  <tbody>\n",
       "    <tr>\n",
       "      <th>1736</th>\n",
       "      <td>China, mainland</td>\n",
       "      <td>CHN</td>\n",
       "      <td>World</td>\n",
       "    </tr>\n",
       "    <tr>\n",
       "      <th>1774</th>\n",
       "      <td>French Guyana</td>\n",
       "      <td>GUF</td>\n",
       "      <td>World</td>\n",
       "    </tr>\n",
       "    <tr>\n",
       "      <th>1897</th>\n",
       "      <td>Saint-Martin (French part)</td>\n",
       "      <td>MAF</td>\n",
       "      <td>World</td>\n",
       "    </tr>\n",
       "  </tbody>\n",
       "</table>\n",
       "</div>"
      ],
      "text/plain": [
       "                         Country ISO3 Code Country Group\n",
       "1736             China, mainland       CHN         World\n",
       "1774               French Guyana       GUF         World\n",
       "1897  Saint-Martin (French part)       MAF         World"
      ]
     },
     "execution_count": 14,
     "metadata": {},
     "output_type": "execute_result"
    }
   ],
   "source": [
    "# identify duplicate ISO3 identifiers\n",
    "ISO3_dup = countries_list[countries_list['ISO3 Code'].duplicated() == True]\n",
    "ISO3_dup"
   ]
  },
  {
   "cell_type": "code",
   "execution_count": 15,
   "id": "738956a3",
   "metadata": {},
   "outputs": [
    {
     "data": {
      "application/vnd.microsoft.datawrangler.viewer.v0+json": {
       "columns": [
        {
         "name": "index",
         "rawType": "int64",
         "type": "integer"
        },
        {
         "name": "Country",
         "rawType": "object",
         "type": "string"
        },
        {
         "name": "ISO3 Code",
         "rawType": "object",
         "type": "string"
        },
        {
         "name": "Country Group",
         "rawType": "object",
         "type": "string"
        }
       ],
       "ref": "2d66366d-46b5-43c7-b79d-ce3d5b9dcca3",
       "rows": [
        [
         "1732",
         "China",
         "CHN",
         "World"
        ],
        [
         "1736",
         "China, mainland",
         "CHN",
         "World"
        ],
        [
         "1773",
         "French Guiana",
         "GUF",
         "World"
        ],
        [
         "1774",
         "French Guyana",
         "GUF",
         "World"
        ],
        [
         "1894",
         "Saint Martin (French part)",
         "MAF",
         "World"
        ],
        [
         "1897",
         "Saint-Martin (French part)",
         "MAF",
         "World"
        ]
       ],
       "shape": {
        "columns": 3,
        "rows": 6
       }
      },
      "text/html": [
       "<div>\n",
       "<style scoped>\n",
       "    .dataframe tbody tr th:only-of-type {\n",
       "        vertical-align: middle;\n",
       "    }\n",
       "\n",
       "    .dataframe tbody tr th {\n",
       "        vertical-align: top;\n",
       "    }\n",
       "\n",
       "    .dataframe thead th {\n",
       "        text-align: right;\n",
       "    }\n",
       "</style>\n",
       "<table border=\"1\" class=\"dataframe\">\n",
       "  <thead>\n",
       "    <tr style=\"text-align: right;\">\n",
       "      <th></th>\n",
       "      <th>Country</th>\n",
       "      <th>ISO3 Code</th>\n",
       "      <th>Country Group</th>\n",
       "    </tr>\n",
       "  </thead>\n",
       "  <tbody>\n",
       "    <tr>\n",
       "      <th>1732</th>\n",
       "      <td>China</td>\n",
       "      <td>CHN</td>\n",
       "      <td>World</td>\n",
       "    </tr>\n",
       "    <tr>\n",
       "      <th>1736</th>\n",
       "      <td>China, mainland</td>\n",
       "      <td>CHN</td>\n",
       "      <td>World</td>\n",
       "    </tr>\n",
       "    <tr>\n",
       "      <th>1773</th>\n",
       "      <td>French Guiana</td>\n",
       "      <td>GUF</td>\n",
       "      <td>World</td>\n",
       "    </tr>\n",
       "    <tr>\n",
       "      <th>1774</th>\n",
       "      <td>French Guyana</td>\n",
       "      <td>GUF</td>\n",
       "      <td>World</td>\n",
       "    </tr>\n",
       "    <tr>\n",
       "      <th>1894</th>\n",
       "      <td>Saint Martin (French part)</td>\n",
       "      <td>MAF</td>\n",
       "      <td>World</td>\n",
       "    </tr>\n",
       "    <tr>\n",
       "      <th>1897</th>\n",
       "      <td>Saint-Martin (French part)</td>\n",
       "      <td>MAF</td>\n",
       "      <td>World</td>\n",
       "    </tr>\n",
       "  </tbody>\n",
       "</table>\n",
       "</div>"
      ],
      "text/plain": [
       "                         Country ISO3 Code Country Group\n",
       "1732                       China       CHN         World\n",
       "1736             China, mainland       CHN         World\n",
       "1773               French Guiana       GUF         World\n",
       "1774               French Guyana       GUF         World\n",
       "1894  Saint Martin (French part)       MAF         World\n",
       "1897  Saint-Martin (French part)       MAF         World"
      ]
     },
     "execution_count": 15,
     "metadata": {},
     "output_type": "execute_result"
    }
   ],
   "source": [
    "# identify country names corresponding to duplicated ISO3 identifiers\n",
    "dup_iso = countries_list.loc[(countries_list['ISO3 Code'] == 'CHN') | (countries_list['ISO3 Code'] == 'GUF')\n",
    "                            | (countries_list['ISO3 Code'] == 'MAF')]\n",
    "dup_iso"
   ]
  },
  {
   "cell_type": "markdown",
   "id": "430e7034",
   "metadata": {},
   "source": [
    "#### Tous les ISO3 dupliques correspondent a des dependances territoriales francaises ou a un doublon (China, qui regroupe en fait les donnees de la Chine Continentale, Hong Kong, Taiwan et Macao) et que nous eliminerons donc."
   ]
  },
  {
   "cell_type": "code",
   "execution_count": 16,
   "id": "de252bcb",
   "metadata": {},
   "outputs": [
    {
     "data": {
      "text/plain": [
       "array(['Afghanistan', 'Åland Islands', 'Albania', 'Algeria',\n",
       "       'American Samoa', 'Andorra', 'Angola', 'Anguilla', 'Antarctica',\n",
       "       'Antigua and Barbuda', 'Argentina', 'Armenia', 'Aruba',\n",
       "       'Australia', 'Austria', 'Azerbaijan', 'Bahamas', 'Bahrain',\n",
       "       'Bangladesh', 'Barbados', 'Belarus', 'Belgium',\n",
       "       'Belgium-Luxembourg', 'Belize', 'Benin', 'Bermuda', 'Bhutan',\n",
       "       'Bolivia (Plurinational State of)',\n",
       "       'Bonaire, Sint Eustatius and Saba', 'Bosnia and Herzegovina',\n",
       "       'Botswana', 'Bouvet Island', 'Brazil', 'British Virgin Islands',\n",
       "       'Brunei Darussalam', 'Bulgaria', 'Burkina Faso', 'Burundi',\n",
       "       'Cabo Verde', 'Cambodia', 'Cameroon', 'Canada',\n",
       "       'Caribbean, unspecified (population)', 'Cayman Islands',\n",
       "       'Central African Republic', 'Chad', 'Chagos Archipelago',\n",
       "       'Channel Islands', 'Chile', 'China', 'China, Hong Kong SAR',\n",
       "       'China, Macao SAR', 'China, mainland', 'China, Taiwan Province of',\n",
       "       'Christmas Island', 'Cocos (Keeling) Islands', 'Colombia',\n",
       "       'Comoros', 'Congo', 'Cook Islands', 'Costa Rica', \"Côte d'Ivoire\",\n",
       "       'Croatia', 'Cuba', 'Curaçao', 'Cyprus', 'Czechia',\n",
       "       'Czechoslovakia', \"Democratic People's Republic of Korea\",\n",
       "       'Democratic Republic of the Congo', 'Denmark', 'Djibouti',\n",
       "       'Dominica', 'Dominican Republic', 'Ecuador', 'Egypt',\n",
       "       'El Salvador', 'Equatorial Guinea', 'Eritrea', 'Estonia',\n",
       "       'Eswatini', 'Ethiopia', 'Ethiopia PDR',\n",
       "       'Falkland Islands (Malvinas)', 'Faroe Islands', 'Fiji', 'Finland',\n",
       "       'France', 'French Guiana', 'French Guyana', 'French Polynesia',\n",
       "       'French Southern Territories', 'Gabon', 'Gambia', 'Georgia',\n",
       "       'Germany', 'Germany Fr', 'Germany Nl', 'Ghana', 'Gibraltar',\n",
       "       'Greece', 'Greenland', 'Grenada', 'Guadeloupe', 'Guam',\n",
       "       'Guatemala', 'Guernsey', 'Guinea', 'Guinea-Bissau', 'Guyana',\n",
       "       'Haiti', 'Heard and McDonald Islands', 'Holy See', 'Honduras',\n",
       "       'Hungary', 'Iceland', 'India', 'Indonesia',\n",
       "       'Iran (Islamic Republic of)', 'Iraq', 'Ireland', 'Isle of Man',\n",
       "       'Israel', 'Italy', 'Jamaica', 'Japan', 'Jersey', 'Johnston Island',\n",
       "       'Jordan', 'Kazakhstan', 'Kenya', 'Kiribati', 'Kosovo', 'Kuwait',\n",
       "       'Kyrgyzstan', \"Lao People's Democratic Republic\", 'Latvia',\n",
       "       'Lebanon', 'Lesotho', 'Liberia', 'Libya', 'Liechtenstein',\n",
       "       'Lithuania', 'Luxembourg', 'Madagascar', 'Malawi', 'Malaysia',\n",
       "       'Maldives', 'Mali', 'Malta', 'Marshall Islands', 'Martinique',\n",
       "       'Mauritania', 'Mauritius', 'Mayotte', 'Mexico',\n",
       "       'Micronesia (Federated States of)', 'Micronesia, unspecified',\n",
       "       'Midway Island', 'Monaco', 'Mongolia', 'Montenegro', 'Montserrat',\n",
       "       'Morocco', 'Mozambique', 'Myanmar', 'Namibia', 'Nauru', 'Nepal',\n",
       "       'Netherlands (Kingdom of the)', 'Netherlands Antilles (former)',\n",
       "       'New Caledonia', 'New Zealand', 'Nicaragua', 'Niger', 'Nigeria',\n",
       "       'Niue', 'Norfolk Island', 'North Macedonia',\n",
       "       'Northern America, unspecified (population)',\n",
       "       'Northern Europe, unspecified (population)',\n",
       "       'Northern Mariana Islands', 'Norway', 'Oman',\n",
       "       'Pacific Islands Trust Territory', 'Pakistan', 'Palau',\n",
       "       'Palestine', 'Panama', 'Papua New Guinea', 'Paraguay', 'Peru',\n",
       "       'Philippines', 'Pitcairn', 'Poland', 'Polynesia, unspecified',\n",
       "       'Portugal', 'Puerto Rico', 'Qatar', 'Republic of Korea',\n",
       "       'Republic of Moldova', 'Réunion', 'Romania', 'Russian Federation',\n",
       "       'Rwanda', 'Saint Barthélemy',\n",
       "       'Saint Helena, Ascension and Tristan da Cunha',\n",
       "       'Saint Kitts and Nevis', 'Saint Lucia',\n",
       "       'Saint Martin (French part)', 'Saint Pierre and Miquelon',\n",
       "       'Saint Vincent and the Grenadines', 'Saint-Martin (French part)',\n",
       "       'Samoa', 'San Marino', 'Sao Tome and Principe', 'Saudi Arabia',\n",
       "       'Senegal', 'Serbia', 'Serbia and Montenegro', 'Seychelles',\n",
       "       'Sierra Leone', 'Singapore', 'Sint Maarten (Dutch part)',\n",
       "       'Slovakia', 'Slovenia', 'Solomon Islands', 'Somalia',\n",
       "       'South Africa', 'South America, unspecified',\n",
       "       'South Georgia and the South Sandwich Islands', 'South Sudan',\n",
       "       'Southern Europe, unspecified', 'Spain', 'Sri Lanka', 'Sudan',\n",
       "       'Sudan (former)', 'Suriname', 'Svalbard and Jan Mayen Islands',\n",
       "       'Sweden', 'Switzerland', 'Syrian Arab Republic', 'Tajikistan',\n",
       "       'Thailand', 'Timor-Leste', 'Togo', 'Tokelau', 'Tonga',\n",
       "       'Trinidad and Tobago', 'Tunisia', 'Türkiye', 'Turkmenistan',\n",
       "       'Turks and Caicos Islands', 'Tuvalu', 'Uganda', 'Ukraine',\n",
       "       'United Arab Emirates',\n",
       "       'United Kingdom of Great Britain and Northern Ireland',\n",
       "       'United Republic of Tanzania',\n",
       "       'United States Minor Outlying Islands', 'United States of America',\n",
       "       'United States Virgin Islands', 'Uruguay', 'USSR', 'Uzbekistan',\n",
       "       'Vanuatu', 'Venezuela (Bolivarian Republic of)', 'Viet Nam',\n",
       "       'Wake Island', 'Wallis and Futuna Islands',\n",
       "       'Western Africa, unspecified',\n",
       "       'Western Europe, unspecified (population)', 'Western Sahara',\n",
       "       'Yemen', 'Yemen Ar Rp', 'Yemen Dem', 'Yugoslav SFR', 'Zambia',\n",
       "       'Zimbabwe'], dtype=object)"
      ]
     },
     "execution_count": 16,
     "metadata": {},
     "output_type": "execute_result"
    }
   ],
   "source": [
    "# Identify unique country names in \"World\" countries list\n",
    "country = countries_list['Country'].unique()\n",
    "country"
   ]
  },
  {
   "cell_type": "markdown",
   "id": "60268207",
   "metadata": {},
   "source": [
    "#### Un certain nombre de \"pays\" doivent etre retires de la liste, soit parcequ'ils ne sont en fait pas des pays mais des territoires dependant d'autres pays, ou alors parcequ'ils sont des duplicatas ou n'existent plus.\n",
    "#### On retire egalement les pays sur la liste noire du FATF-GAFI faisant l'objet d'un embargo international, et la Russie qui a interdit l'import de viandes europeennes (entre autres) depuis 2014 (suite aux sanctions imposees par l'UE a la Russie apres l'invasion de la Crimee)."
   ]
  },
  {
   "cell_type": "markdown",
   "id": "7520076f",
   "metadata": {},
   "source": [
    "#### The following territories are removed from the list :\n",
    "##### 'France' : As the company is targeting only export markets\n",
    "##### Australian territories : 'Heard and McDonald Islands', 'Norfolk Island', 'Christmas Island' and 'Cocos (Keeling) Islands' ;\n",
    "##### British territories : 'Anguilla', 'British Virgin Islands', 'Channel Islands', 'Falkland Islands (Malvinas)', 'Gibraltar', 'Guernsey', 'Isle of Man', 'Jersey', 'Montserrat', 'South Georgia and the South Sandwich Islands', 'Saint Helena, Ascension and Tristan da Cunha' and 'Pitcairn' ;\n",
    "##### Danish territories : 'Faroe Islands' and 'Greenland' ;\n",
    "##### Duplicates : 'Germany Fr', 'Germany Nl', 'China', 'Sudan (former)', 'Yemen Ar Rp' and 'Yemen Dem';\n",
    "##### Dutch territories : 'Netherlands Antilles (former)', 'Sint Maarten (Dutch part)', 'Bonaire, Sint Eustatius and Saba', 'Aruba' and 'Curaçao' ;\n",
    "##### Finnish territory : 'Åland Islands' ;\n",
    "##### French territories : 'French Guiana', 'French Guyana', 'French Polynesia', 'French Southern Territories', 'Guadeloupe', 'Martinique', 'Mayotte', 'Réunion', 'Saint Barthélemy', 'New Caledonia', 'Saint Martin (French part)', 'Saint Pierre and Miquelon', 'Saint-Martin (French part)' and 'Wallis and Futuna Islands' ;\n",
    "##### Mauritian territory : 'Chagos Archipelago' ;\n",
    "##### No longer exist : 'Ethiopia PDR' (since 1991), 'USSR' (since 1991) and 'Pacific Islands Trust Territory' (since 1994) ;\n",
    "##### Norwegian territories : 'Svalbard and Jan Mayen Islands' and 'Bouvet Island' ;\n",
    "##### Not actual countries : 'Antarctica', 'Belgium-Luxembourg', 'Caribbean, unspecified (population)', 'Micronesia, unspecified', 'Northern America, unspecified (population)', 'Northern Europe, unspecified (population)', 'Polynesia, unspecified', 'Serbia and Montenegro', 'Western Africa, unspecified', 'Western Europe, unspecified (population)', 'Western Sahara', 'South America, unspecified', and 'Southern Europe, unspecified' ;\n",
    "##### Turkish & Greek territory : 'Cyprus' ;\n",
    "##### US territories : 'American Samoa', 'Guam', 'Johnston Island', 'Midway Island', 'United States Minor Outlying Islands', 'United States Virgin Islands', 'Wake Island', 'Northern Mariana Islands' and 'Puerto Rico' ;\n",
    "##### Countries on the FATF \"black list\" : 'Iran (Islamic Republic of)', 'Myanmar', and \"Democratic People's Republic of Korea\" (Source : https://www.fatf-gafi.org/en/publications/High-risk-and-other-monitored-jurisdictions)\n",
    "##### Embargo on imports of EU meat since 2014 : Russian Federation\n"
   ]
  },
  {
   "cell_type": "code",
   "execution_count": 17,
   "id": "0931b638",
   "metadata": {},
   "outputs": [],
   "source": [
    "# list of \"countries\" that need removing from \"world\" list\n",
    "countries_out = ('Åland Islands','American Samoa','Anguilla','Antarctica','Aruba','Belgium-Luxembourg',\n",
    "                 'Bonaire, Sint Eustatius and Saba','Bouvet Island','British Virgin Islands',\n",
    "                 'Caribbean, unspecified (population)','Chagos Archipelago', 'Channel Islands','China','Christmas Island',\n",
    "                 'Cocos (Keeling) Islands','Curaçao','Cyprus',\"Democratic People's Republic of Korea\",'Ethiopia PDR',\n",
    "                 'Falkland Islands (Malvinas)','Faroe Islands','France','French Guiana','French Guyana','French Polynesia',\n",
    "                 'French Southern Territories','Germany Fr','Germany Nl','Gibraltar','Greenland','Guadeloupe',\n",
    "                 'Guam','Guernsey',\n",
    "                 'Heard and McDonald Islands','Iran (Islamic Republic of)', 'Isle of Man','Jersey','Johnston Island','Martinique','Mayotte',\n",
    "                 'Micronesia, unspecified','Midway Island','Montserrat','Myanmar','Netherlands Antilles (former)','New Caledonia',\n",
    "                 'Norfolk Island','Northern America, unspecified (population)','Northern Europe, unspecified (population)',\n",
    "                 'Northern Mariana Islands','Pacific Islands Trust Territory','Pitcairn','Polynesia, unspecified','Puerto Rico',\n",
    "                 'Réunion', 'Russian Federation',\n",
    "                 'Saint Barthélemy','Saint Helena, Ascension and Tristan da Cunha','Saint Martin (French part)',\n",
    "                 'Saint Pierre and Miquelon','Saint-Martin (French part)','Serbia and Montenegro','Sint Maarten (Dutch part)',\n",
    "                 'South America, unspecified','South Georgia and the South Sandwich Islands','Southern Europe, unspecified',\n",
    "                 'Sudan (former)','Svalbard and Jan Mayen Islands','United States Minor Outlying Islands',\n",
    "                 'United States Virgin Islands','USSR','Wake Island','Wallis and Futuna Islands','Western Africa, unspecified',\n",
    "                 'Western Europe, unspecified (population)','Western Sahara','Yemen Ar Rp','Yemen Dem')"
   ]
  },
  {
   "cell_type": "markdown",
   "id": "8dc6e2c6",
   "metadata": {},
   "source": [
    "#### Parmi ces pays, un certain nombre sont des pays insulaires isoles a faible pouvoir economique. Compte-tenu des perspectives commerciales limitees offertes par ces pays et du cout d'acheminement d'une denree telle que le poulet (qui doit etre refrigeree ou congelee), particulierement dans un contexte de cout de l'energie croissante et de forte augmentation des couts du shipping international par container, nous choisissons d'eliminer ces pays de la liste."
   ]
  },
  {
   "cell_type": "code",
   "execution_count": 18,
   "id": "bf06cd7e",
   "metadata": {},
   "outputs": [],
   "source": [
    "# create lists of small island devoloping countries for removal from analysis\n",
    "small_islands = countries.loc[countries['Country Group'] == 'Small Island Developing States']\n",
    "small_islands_list = small_islands['Country'].unique().tolist()"
   ]
  },
  {
   "cell_type": "code",
   "execution_count": 19,
   "id": "8c88400f",
   "metadata": {},
   "outputs": [],
   "source": [
    "# remove countries in list above and keep only correct ISO3 codes (3 letters and no digits)\n",
    "# https://en.wikipedia.org/wiki/ISO_3166-1_alpha-3\n",
    "countries_trim = countries_list.loc[(countries_list['Country'].isin(countries_out) == False)\n",
    "                                    & (countries_list['Country'].isin(small_islands_list) == False)\n",
    "                                   & countries_list['ISO3 Code'].str.isalpha() == True].copy()\n",
    "# rename columns\n",
    "countries_trim.rename(columns={'Country': 'country', 'ISO3 Code':'iso3'}, inplace=True)"
   ]
  },
  {
   "cell_type": "code",
   "execution_count": 20,
   "id": "707c73c3",
   "metadata": {},
   "outputs": [
    {
     "data": {
      "application/vnd.microsoft.datawrangler.viewer.v0+json": {
       "columns": [
        {
         "name": "index",
         "rawType": "int64",
         "type": "integer"
        },
        {
         "name": "country",
         "rawType": "object",
         "type": "string"
        },
        {
         "name": "iso3",
         "rawType": "object",
         "type": "string"
        },
        {
         "name": "Country Group",
         "rawType": "object",
         "type": "string"
        }
       ],
       "ref": "554196e3-67a9-4b10-bd23-a602ae603cd7",
       "rows": [],
       "shape": {
        "columns": 3,
        "rows": 0
       }
      },
      "text/html": [
       "<div>\n",
       "<style scoped>\n",
       "    .dataframe tbody tr th:only-of-type {\n",
       "        vertical-align: middle;\n",
       "    }\n",
       "\n",
       "    .dataframe tbody tr th {\n",
       "        vertical-align: top;\n",
       "    }\n",
       "\n",
       "    .dataframe thead th {\n",
       "        text-align: right;\n",
       "    }\n",
       "</style>\n",
       "<table border=\"1\" class=\"dataframe\">\n",
       "  <thead>\n",
       "    <tr style=\"text-align: right;\">\n",
       "      <th></th>\n",
       "      <th>country</th>\n",
       "      <th>iso3</th>\n",
       "      <th>Country Group</th>\n",
       "    </tr>\n",
       "  </thead>\n",
       "  <tbody>\n",
       "  </tbody>\n",
       "</table>\n",
       "</div>"
      ],
      "text/plain": [
       "Empty DataFrame\n",
       "Columns: [country, iso3, Country Group]\n",
       "Index: []"
      ]
     },
     "execution_count": 20,
     "metadata": {},
     "output_type": "execute_result"
    }
   ],
   "source": [
    "# check absence of duplicates in countries names\n",
    "countries_dup2 = countries_trim[countries_trim['country'].duplicated() == True]\n",
    "countries_dup2"
   ]
  },
  {
   "cell_type": "code",
   "execution_count": 21,
   "id": "73687b8c",
   "metadata": {},
   "outputs": [
    {
     "name": "stdout",
     "output_type": "stream",
     "text": [
      "country est une clé candidate.\n"
     ]
    },
    {
     "data": {
      "text/plain": [
       "True"
      ]
     },
     "execution_count": 21,
     "metadata": {},
     "output_type": "execute_result"
    }
   ],
   "source": [
    "# check if country name is a primary key\n",
    "isCandKey(countries_trim, 'country')"
   ]
  },
  {
   "cell_type": "code",
   "execution_count": 22,
   "id": "30d0516f",
   "metadata": {},
   "outputs": [
    {
     "data": {
      "application/vnd.microsoft.datawrangler.viewer.v0+json": {
       "columns": [
        {
         "name": "index",
         "rawType": "int64",
         "type": "integer"
        },
        {
         "name": "country",
         "rawType": "object",
         "type": "string"
        },
        {
         "name": "iso3",
         "rawType": "object",
         "type": "string"
        },
        {
         "name": "Country Group",
         "rawType": "object",
         "type": "string"
        }
       ],
       "ref": "32852874-d984-4115-b008-994678b3dc70",
       "rows": [],
       "shape": {
        "columns": 3,
        "rows": 0
       }
      },
      "text/html": [
       "<div>\n",
       "<style scoped>\n",
       "    .dataframe tbody tr th:only-of-type {\n",
       "        vertical-align: middle;\n",
       "    }\n",
       "\n",
       "    .dataframe tbody tr th {\n",
       "        vertical-align: top;\n",
       "    }\n",
       "\n",
       "    .dataframe thead th {\n",
       "        text-align: right;\n",
       "    }\n",
       "</style>\n",
       "<table border=\"1\" class=\"dataframe\">\n",
       "  <thead>\n",
       "    <tr style=\"text-align: right;\">\n",
       "      <th></th>\n",
       "      <th>country</th>\n",
       "      <th>iso3</th>\n",
       "      <th>Country Group</th>\n",
       "    </tr>\n",
       "  </thead>\n",
       "  <tbody>\n",
       "  </tbody>\n",
       "</table>\n",
       "</div>"
      ],
      "text/plain": [
       "Empty DataFrame\n",
       "Columns: [country, iso3, Country Group]\n",
       "Index: []"
      ]
     },
     "execution_count": 22,
     "metadata": {},
     "output_type": "execute_result"
    }
   ],
   "source": [
    "# check absence of duplicates in ISO3 codes\n",
    "iso3_dup2 = countries_trim[countries_trim['iso3'].duplicated() == True]\n",
    "iso3_dup2"
   ]
  },
  {
   "cell_type": "code",
   "execution_count": 23,
   "id": "aa4ff6e5",
   "metadata": {},
   "outputs": [
    {
     "name": "stdout",
     "output_type": "stream",
     "text": [
      "iso3 est une clé candidate.\n"
     ]
    },
    {
     "data": {
      "text/plain": [
       "True"
      ]
     },
     "execution_count": 23,
     "metadata": {},
     "output_type": "execute_result"
    }
   ],
   "source": [
    "# check if ISO3 code is a primary key\n",
    "isCandKey(countries_trim, 'iso3')"
   ]
  },
  {
   "cell_type": "markdown",
   "id": "8faa3574",
   "metadata": {},
   "source": [
    "#### Les pays et les codes ISO sont uniques, ces 2 colonnes constituent chacune une cle primaire pour la table countries_trim. Les noms des pays n'etant pas standardises pour toutes les sources de donnees utilisees, nous utiliserons le code ISO3 pour faire des jointures sur les tables ne provenant pas de la FAO."
   ]
  },
  {
   "cell_type": "code",
   "execution_count": 24,
   "id": "5946996c",
   "metadata": {},
   "outputs": [],
   "source": [
    "# type casting\n",
    "countries_trim['country'] = countries_trim['country'].astype('category')\n",
    "countries_trim['iso3'] = countries_trim['iso3'].astype('category')"
   ]
  },
  {
   "cell_type": "code",
   "execution_count": 25,
   "id": "4c207dd6",
   "metadata": {},
   "outputs": [
    {
     "name": "stdout",
     "output_type": "stream",
     "text": [
      "Il y a 155 pays dans la liste.\n",
      "Aucun doublon dans la table.\n"
     ]
    }
   ],
   "source": [
    "print (\"Il y a\",countries_trim['country'].nunique(), \"pays dans la liste.\")\n",
    "if (countries_trim.loc[countries_trim.duplicated() == True].shape[0]) != 0:\n",
    "    print(\"Doublons dans la table.\")\n",
    "else:\n",
    "    print (\"Aucun doublon dans la table.\")"
   ]
  },
  {
   "cell_type": "markdown",
   "id": "b5e4f36c",
   "metadata": {},
   "source": [
    "## 1.2 - Population"
   ]
  },
  {
   "cell_type": "code",
   "execution_count": 26,
   "id": "2b9884a2",
   "metadata": {},
   "outputs": [
    {
     "data": {
      "application/vnd.microsoft.datawrangler.viewer.v0+json": {
       "columns": [
        {
         "name": "index",
         "rawType": "int64",
         "type": "integer"
        },
        {
         "name": "Domain Code",
         "rawType": "object",
         "type": "string"
        },
        {
         "name": "Domain",
         "rawType": "object",
         "type": "string"
        },
        {
         "name": "Area Code (M49)",
         "rawType": "int64",
         "type": "integer"
        },
        {
         "name": "Area",
         "rawType": "object",
         "type": "string"
        },
        {
         "name": "Element Code",
         "rawType": "int64",
         "type": "integer"
        },
        {
         "name": "Element",
         "rawType": "object",
         "type": "string"
        },
        {
         "name": "Item Code",
         "rawType": "int64",
         "type": "integer"
        },
        {
         "name": "Item",
         "rawType": "object",
         "type": "string"
        },
        {
         "name": "Year Code",
         "rawType": "int64",
         "type": "integer"
        },
        {
         "name": "Year",
         "rawType": "int64",
         "type": "integer"
        },
        {
         "name": "Unit",
         "rawType": "object",
         "type": "string"
        },
        {
         "name": "Value",
         "rawType": "float64",
         "type": "float"
        },
        {
         "name": "Flag",
         "rawType": "object",
         "type": "string"
        },
        {
         "name": "Flag Description",
         "rawType": "object",
         "type": "string"
        },
        {
         "name": "Note",
         "rawType": "float64",
         "type": "float"
        }
       ],
       "ref": "60a9b940-24f5-43a0-a894-6c14ea64ba1d",
       "rows": [
        [
         "0",
         "OA",
         "Annual population",
         "4",
         "Afghanistan",
         "511",
         "Total Population - Both sexes",
         "3010",
         "Population - Est. & Proj.",
         "2020",
         "2020",
         "1000 persons",
         "38972.23",
         "X",
         "Figure from international organizations",
         null
        ],
        [
         "1",
         "OA",
         "Annual population",
         "4",
         "Afghanistan",
         "512",
         "Total Population - Male",
         "3010",
         "Population - Est. & Proj.",
         "2020",
         "2020",
         "1000 persons",
         "19692.301",
         "X",
         "Figure from international organizations",
         null
        ],
        [
         "2",
         "OA",
         "Annual population",
         "4",
         "Afghanistan",
         "513",
         "Total Population - Female",
         "3010",
         "Population - Est. & Proj.",
         "2020",
         "2020",
         "1000 persons",
         "19279.93",
         "X",
         "Figure from international organizations",
         null
        ],
        [
         "3",
         "OA",
         "Annual population",
         "4",
         "Afghanistan",
         "551",
         "Rural population",
         "3010",
         "Population - Est. & Proj.",
         "2020",
         "2020",
         "1000 persons",
         "28150.604",
         "X",
         "Figure from international organizations",
         null
        ],
        [
         "4",
         "OA",
         "Annual population",
         "4",
         "Afghanistan",
         "561",
         "Urban population",
         "3010",
         "Population - Est. & Proj.",
         "2020",
         "2020",
         "1000 persons",
         "9904.337",
         "X",
         "Figure from international organizations",
         null
        ]
       ],
       "shape": {
        "columns": 15,
        "rows": 5
       }
      },
      "text/html": [
       "<div>\n",
       "<style scoped>\n",
       "    .dataframe tbody tr th:only-of-type {\n",
       "        vertical-align: middle;\n",
       "    }\n",
       "\n",
       "    .dataframe tbody tr th {\n",
       "        vertical-align: top;\n",
       "    }\n",
       "\n",
       "    .dataframe thead th {\n",
       "        text-align: right;\n",
       "    }\n",
       "</style>\n",
       "<table border=\"1\" class=\"dataframe\">\n",
       "  <thead>\n",
       "    <tr style=\"text-align: right;\">\n",
       "      <th></th>\n",
       "      <th>Domain Code</th>\n",
       "      <th>Domain</th>\n",
       "      <th>Area Code (M49)</th>\n",
       "      <th>Area</th>\n",
       "      <th>Element Code</th>\n",
       "      <th>Element</th>\n",
       "      <th>Item Code</th>\n",
       "      <th>Item</th>\n",
       "      <th>Year Code</th>\n",
       "      <th>Year</th>\n",
       "      <th>Unit</th>\n",
       "      <th>Value</th>\n",
       "      <th>Flag</th>\n",
       "      <th>Flag Description</th>\n",
       "      <th>Note</th>\n",
       "    </tr>\n",
       "  </thead>\n",
       "  <tbody>\n",
       "    <tr>\n",
       "      <th>0</th>\n",
       "      <td>OA</td>\n",
       "      <td>Annual population</td>\n",
       "      <td>4</td>\n",
       "      <td>Afghanistan</td>\n",
       "      <td>511</td>\n",
       "      <td>Total Population - Both sexes</td>\n",
       "      <td>3010</td>\n",
       "      <td>Population - Est. &amp; Proj.</td>\n",
       "      <td>2020</td>\n",
       "      <td>2020</td>\n",
       "      <td>1000 persons</td>\n",
       "      <td>38972.230</td>\n",
       "      <td>X</td>\n",
       "      <td>Figure from international organizations</td>\n",
       "      <td>NaN</td>\n",
       "    </tr>\n",
       "    <tr>\n",
       "      <th>1</th>\n",
       "      <td>OA</td>\n",
       "      <td>Annual population</td>\n",
       "      <td>4</td>\n",
       "      <td>Afghanistan</td>\n",
       "      <td>512</td>\n",
       "      <td>Total Population - Male</td>\n",
       "      <td>3010</td>\n",
       "      <td>Population - Est. &amp; Proj.</td>\n",
       "      <td>2020</td>\n",
       "      <td>2020</td>\n",
       "      <td>1000 persons</td>\n",
       "      <td>19692.301</td>\n",
       "      <td>X</td>\n",
       "      <td>Figure from international organizations</td>\n",
       "      <td>NaN</td>\n",
       "    </tr>\n",
       "    <tr>\n",
       "      <th>2</th>\n",
       "      <td>OA</td>\n",
       "      <td>Annual population</td>\n",
       "      <td>4</td>\n",
       "      <td>Afghanistan</td>\n",
       "      <td>513</td>\n",
       "      <td>Total Population - Female</td>\n",
       "      <td>3010</td>\n",
       "      <td>Population - Est. &amp; Proj.</td>\n",
       "      <td>2020</td>\n",
       "      <td>2020</td>\n",
       "      <td>1000 persons</td>\n",
       "      <td>19279.930</td>\n",
       "      <td>X</td>\n",
       "      <td>Figure from international organizations</td>\n",
       "      <td>NaN</td>\n",
       "    </tr>\n",
       "    <tr>\n",
       "      <th>3</th>\n",
       "      <td>OA</td>\n",
       "      <td>Annual population</td>\n",
       "      <td>4</td>\n",
       "      <td>Afghanistan</td>\n",
       "      <td>551</td>\n",
       "      <td>Rural population</td>\n",
       "      <td>3010</td>\n",
       "      <td>Population - Est. &amp; Proj.</td>\n",
       "      <td>2020</td>\n",
       "      <td>2020</td>\n",
       "      <td>1000 persons</td>\n",
       "      <td>28150.604</td>\n",
       "      <td>X</td>\n",
       "      <td>Figure from international organizations</td>\n",
       "      <td>NaN</td>\n",
       "    </tr>\n",
       "    <tr>\n",
       "      <th>4</th>\n",
       "      <td>OA</td>\n",
       "      <td>Annual population</td>\n",
       "      <td>4</td>\n",
       "      <td>Afghanistan</td>\n",
       "      <td>561</td>\n",
       "      <td>Urban population</td>\n",
       "      <td>3010</td>\n",
       "      <td>Population - Est. &amp; Proj.</td>\n",
       "      <td>2020</td>\n",
       "      <td>2020</td>\n",
       "      <td>1000 persons</td>\n",
       "      <td>9904.337</td>\n",
       "      <td>X</td>\n",
       "      <td>Figure from international organizations</td>\n",
       "      <td>NaN</td>\n",
       "    </tr>\n",
       "  </tbody>\n",
       "</table>\n",
       "</div>"
      ],
      "text/plain": [
       "  Domain Code             Domain  Area Code (M49)         Area  Element Code  \\\n",
       "0          OA  Annual population                4  Afghanistan           511   \n",
       "1          OA  Annual population                4  Afghanistan           512   \n",
       "2          OA  Annual population                4  Afghanistan           513   \n",
       "3          OA  Annual population                4  Afghanistan           551   \n",
       "4          OA  Annual population                4  Afghanistan           561   \n",
       "\n",
       "                         Element  Item Code                       Item  \\\n",
       "0  Total Population - Both sexes       3010  Population - Est. & Proj.   \n",
       "1        Total Population - Male       3010  Population - Est. & Proj.   \n",
       "2      Total Population - Female       3010  Population - Est. & Proj.   \n",
       "3               Rural population       3010  Population - Est. & Proj.   \n",
       "4               Urban population       3010  Population - Est. & Proj.   \n",
       "\n",
       "   Year Code  Year          Unit      Value Flag  \\\n",
       "0       2020  2020  1000 persons  38972.230    X   \n",
       "1       2020  2020  1000 persons  19692.301    X   \n",
       "2       2020  2020  1000 persons  19279.930    X   \n",
       "3       2020  2020  1000 persons  28150.604    X   \n",
       "4       2020  2020  1000 persons   9904.337    X   \n",
       "\n",
       "                          Flag Description  Note  \n",
       "0  Figure from international organizations   NaN  \n",
       "1  Figure from international organizations   NaN  \n",
       "2  Figure from international organizations   NaN  \n",
       "3  Figure from international organizations   NaN  \n",
       "4  Figure from international organizations   NaN  "
      ]
     },
     "execution_count": 26,
     "metadata": {},
     "output_type": "execute_result"
    }
   ],
   "source": [
    "pop.head()"
   ]
  },
  {
   "cell_type": "code",
   "execution_count": 27,
   "id": "4be4b045",
   "metadata": {},
   "outputs": [
    {
     "data": {
      "text/plain": [
       "array(['Total Population - Both sexes', 'Total Population - Male',\n",
       "       'Total Population - Female', 'Rural population',\n",
       "       'Urban population'], dtype=object)"
      ]
     },
     "execution_count": 27,
     "metadata": {},
     "output_type": "execute_result"
    }
   ],
   "source": [
    "pop['Element'].unique()"
   ]
  },
  {
   "cell_type": "code",
   "execution_count": 28,
   "id": "babc364b",
   "metadata": {},
   "outputs": [
    {
     "data": {
      "application/vnd.microsoft.datawrangler.viewer.v0+json": {
       "columns": [
        {
         "name": "index",
         "rawType": "int64",
         "type": "integer"
        },
        {
         "name": "Area",
         "rawType": "object",
         "type": "string"
        },
        {
         "name": "Element",
         "rawType": "object",
         "type": "string"
        },
        {
         "name": "Value",
         "rawType": "float64",
         "type": "float"
        }
       ],
       "ref": "433008af-b725-4977-9093-785edc441a22",
       "rows": [
        [
         "0",
         "Afghanistan",
         "Total Population - Both sexes",
         "38972.23"
        ],
        [
         "4",
         "Afghanistan",
         "Urban population",
         "9904.337"
        ],
        [
         "5",
         "Albania",
         "Total Population - Both sexes",
         "2866.849"
        ],
        [
         "9",
         "Albania",
         "Urban population",
         "1827.362"
        ],
        [
         "10",
         "Algeria",
         "Total Population - Both sexes",
         "43451.666"
        ]
       ],
       "shape": {
        "columns": 3,
        "rows": 5
       }
      },
      "text/html": [
       "<div>\n",
       "<style scoped>\n",
       "    .dataframe tbody tr th:only-of-type {\n",
       "        vertical-align: middle;\n",
       "    }\n",
       "\n",
       "    .dataframe tbody tr th {\n",
       "        vertical-align: top;\n",
       "    }\n",
       "\n",
       "    .dataframe thead th {\n",
       "        text-align: right;\n",
       "    }\n",
       "</style>\n",
       "<table border=\"1\" class=\"dataframe\">\n",
       "  <thead>\n",
       "    <tr style=\"text-align: right;\">\n",
       "      <th></th>\n",
       "      <th>Area</th>\n",
       "      <th>Element</th>\n",
       "      <th>Value</th>\n",
       "    </tr>\n",
       "  </thead>\n",
       "  <tbody>\n",
       "    <tr>\n",
       "      <th>0</th>\n",
       "      <td>Afghanistan</td>\n",
       "      <td>Total Population - Both sexes</td>\n",
       "      <td>38972.230</td>\n",
       "    </tr>\n",
       "    <tr>\n",
       "      <th>4</th>\n",
       "      <td>Afghanistan</td>\n",
       "      <td>Urban population</td>\n",
       "      <td>9904.337</td>\n",
       "    </tr>\n",
       "    <tr>\n",
       "      <th>5</th>\n",
       "      <td>Albania</td>\n",
       "      <td>Total Population - Both sexes</td>\n",
       "      <td>2866.849</td>\n",
       "    </tr>\n",
       "    <tr>\n",
       "      <th>9</th>\n",
       "      <td>Albania</td>\n",
       "      <td>Urban population</td>\n",
       "      <td>1827.362</td>\n",
       "    </tr>\n",
       "    <tr>\n",
       "      <th>10</th>\n",
       "      <td>Algeria</td>\n",
       "      <td>Total Population - Both sexes</td>\n",
       "      <td>43451.666</td>\n",
       "    </tr>\n",
       "  </tbody>\n",
       "</table>\n",
       "</div>"
      ],
      "text/plain": [
       "           Area                        Element      Value\n",
       "0   Afghanistan  Total Population - Both sexes  38972.230\n",
       "4   Afghanistan               Urban population   9904.337\n",
       "5       Albania  Total Population - Both sexes   2866.849\n",
       "9       Albania               Urban population   1827.362\n",
       "10      Algeria  Total Population - Both sexes  43451.666"
      ]
     },
     "execution_count": 28,
     "metadata": {},
     "output_type": "execute_result"
    }
   ],
   "source": [
    "# keep only total and urban population columns\n",
    "pop_tr = pop.loc[(pop['Element'] == 'Total Population - Both sexes')\n",
    "                | (pop['Element'] == 'Urban population')][['Area','Element','Value']]\n",
    "pop_tr.head()"
   ]
  },
  {
   "cell_type": "code",
   "execution_count": 29,
   "id": "78fc7e1f",
   "metadata": {},
   "outputs": [
    {
     "data": {
      "application/vnd.microsoft.datawrangler.viewer.v0+json": {
       "columns": [
        {
         "name": "index",
         "rawType": "int64",
         "type": "integer"
        },
        {
         "name": "Area",
         "rawType": "object",
         "type": "string"
        },
        {
         "name": "Element",
         "rawType": "object",
         "type": "string"
        },
        {
         "name": "Value",
         "rawType": "float64",
         "type": "float"
        }
       ],
       "ref": "168d9d22-f7d1-4897-b6c2-d4c8e6cf53a2",
       "rows": [
        [
         "0",
         "Afghanistan",
         "Total Population - Both sexes",
         "38972230.0"
        ],
        [
         "4",
         "Afghanistan",
         "Urban population",
         "9904337.0"
        ],
        [
         "5",
         "Albania",
         "Total Population - Both sexes",
         "2866849.0"
        ],
        [
         "9",
         "Albania",
         "Urban population",
         "1827362.0"
        ],
        [
         "10",
         "Algeria",
         "Total Population - Both sexes",
         "43451666.0"
        ]
       ],
       "shape": {
        "columns": 3,
        "rows": 5
       }
      },
      "text/html": [
       "<div>\n",
       "<style scoped>\n",
       "    .dataframe tbody tr th:only-of-type {\n",
       "        vertical-align: middle;\n",
       "    }\n",
       "\n",
       "    .dataframe tbody tr th {\n",
       "        vertical-align: top;\n",
       "    }\n",
       "\n",
       "    .dataframe thead th {\n",
       "        text-align: right;\n",
       "    }\n",
       "</style>\n",
       "<table border=\"1\" class=\"dataframe\">\n",
       "  <thead>\n",
       "    <tr style=\"text-align: right;\">\n",
       "      <th></th>\n",
       "      <th>Area</th>\n",
       "      <th>Element</th>\n",
       "      <th>Value</th>\n",
       "    </tr>\n",
       "  </thead>\n",
       "  <tbody>\n",
       "    <tr>\n",
       "      <th>0</th>\n",
       "      <td>Afghanistan</td>\n",
       "      <td>Total Population - Both sexes</td>\n",
       "      <td>38972230.0</td>\n",
       "    </tr>\n",
       "    <tr>\n",
       "      <th>4</th>\n",
       "      <td>Afghanistan</td>\n",
       "      <td>Urban population</td>\n",
       "      <td>9904337.0</td>\n",
       "    </tr>\n",
       "    <tr>\n",
       "      <th>5</th>\n",
       "      <td>Albania</td>\n",
       "      <td>Total Population - Both sexes</td>\n",
       "      <td>2866849.0</td>\n",
       "    </tr>\n",
       "    <tr>\n",
       "      <th>9</th>\n",
       "      <td>Albania</td>\n",
       "      <td>Urban population</td>\n",
       "      <td>1827362.0</td>\n",
       "    </tr>\n",
       "    <tr>\n",
       "      <th>10</th>\n",
       "      <td>Algeria</td>\n",
       "      <td>Total Population - Both sexes</td>\n",
       "      <td>43451666.0</td>\n",
       "    </tr>\n",
       "  </tbody>\n",
       "</table>\n",
       "</div>"
      ],
      "text/plain": [
       "           Area                        Element       Value\n",
       "0   Afghanistan  Total Population - Both sexes  38972230.0\n",
       "4   Afghanistan               Urban population   9904337.0\n",
       "5       Albania  Total Population - Both sexes   2866849.0\n",
       "9       Albania               Urban population   1827362.0\n",
       "10      Algeria  Total Population - Both sexes  43451666.0"
      ]
     },
     "execution_count": 29,
     "metadata": {},
     "output_type": "execute_result"
    }
   ],
   "source": [
    "# convert values in inhabitants instead of thousands of inhabitants\n",
    "pop_tr['Value'] = pop_tr['Value'] * 1000\n",
    "pop_tr.head()"
   ]
  },
  {
   "cell_type": "code",
   "execution_count": 30,
   "id": "4a8c13d9",
   "metadata": {},
   "outputs": [
    {
     "data": {
      "application/vnd.microsoft.datawrangler.viewer.v0+json": {
       "columns": [
        {
         "name": "index",
         "rawType": "int64",
         "type": "integer"
        },
        {
         "name": "country_pop",
         "rawType": "object",
         "type": "string"
        },
        {
         "name": "Element",
         "rawType": "object",
         "type": "string"
        },
        {
         "name": "millions_pop",
         "rawType": "int64",
         "type": "integer"
        }
       ],
       "ref": "d8ab6225-8a42-46e1-a0a3-1d9085491cb4",
       "rows": [
        [
         "0",
         "Afghanistan",
         "Total Population - Both sexes",
         "38972230"
        ],
        [
         "4",
         "Afghanistan",
         "Urban population",
         "9904337"
        ],
        [
         "5",
         "Albania",
         "Total Population - Both sexes",
         "2866849"
        ],
        [
         "9",
         "Albania",
         "Urban population",
         "1827362"
        ],
        [
         "10",
         "Algeria",
         "Total Population - Both sexes",
         "43451666"
        ]
       ],
       "shape": {
        "columns": 3,
        "rows": 5
       }
      },
      "text/html": [
       "<div>\n",
       "<style scoped>\n",
       "    .dataframe tbody tr th:only-of-type {\n",
       "        vertical-align: middle;\n",
       "    }\n",
       "\n",
       "    .dataframe tbody tr th {\n",
       "        vertical-align: top;\n",
       "    }\n",
       "\n",
       "    .dataframe thead th {\n",
       "        text-align: right;\n",
       "    }\n",
       "</style>\n",
       "<table border=\"1\" class=\"dataframe\">\n",
       "  <thead>\n",
       "    <tr style=\"text-align: right;\">\n",
       "      <th></th>\n",
       "      <th>country_pop</th>\n",
       "      <th>Element</th>\n",
       "      <th>millions_pop</th>\n",
       "    </tr>\n",
       "  </thead>\n",
       "  <tbody>\n",
       "    <tr>\n",
       "      <th>0</th>\n",
       "      <td>Afghanistan</td>\n",
       "      <td>Total Population - Both sexes</td>\n",
       "      <td>38972230</td>\n",
       "    </tr>\n",
       "    <tr>\n",
       "      <th>4</th>\n",
       "      <td>Afghanistan</td>\n",
       "      <td>Urban population</td>\n",
       "      <td>9904337</td>\n",
       "    </tr>\n",
       "    <tr>\n",
       "      <th>5</th>\n",
       "      <td>Albania</td>\n",
       "      <td>Total Population - Both sexes</td>\n",
       "      <td>2866849</td>\n",
       "    </tr>\n",
       "    <tr>\n",
       "      <th>9</th>\n",
       "      <td>Albania</td>\n",
       "      <td>Urban population</td>\n",
       "      <td>1827362</td>\n",
       "    </tr>\n",
       "    <tr>\n",
       "      <th>10</th>\n",
       "      <td>Algeria</td>\n",
       "      <td>Total Population - Both sexes</td>\n",
       "      <td>43451666</td>\n",
       "    </tr>\n",
       "  </tbody>\n",
       "</table>\n",
       "</div>"
      ],
      "text/plain": [
       "    country_pop                        Element  millions_pop\n",
       "0   Afghanistan  Total Population - Both sexes      38972230\n",
       "4   Afghanistan               Urban population       9904337\n",
       "5       Albania  Total Population - Both sexes       2866849\n",
       "9       Albania               Urban population       1827362\n",
       "10      Algeria  Total Population - Both sexes      43451666"
      ]
     },
     "execution_count": 30,
     "metadata": {},
     "output_type": "execute_result"
    }
   ],
   "source": [
    "# type casting and renaming columns\n",
    "pop_tr['Value'] = pop_tr['Value'].astype(int)\n",
    "pop_tr['Area'] = pop_tr['Area'].astype(str)\n",
    "pop_tr['Element'] = pop_tr['Element'].astype(str)\n",
    "pop_tr.rename(columns={'Area': 'country_pop', 'Value':'millions_pop'}, inplace=True)\n",
    "pop_tr.head()"
   ]
  },
  {
   "cell_type": "code",
   "execution_count": 31,
   "id": "d94324d0",
   "metadata": {},
   "outputs": [
    {
     "data": {
      "application/vnd.microsoft.datawrangler.viewer.v0+json": {
       "columns": [
        {
         "name": "index",
         "rawType": "int64",
         "type": "integer"
        },
        {
         "name": "country_pop",
         "rawType": "category",
         "type": "unknown"
        },
        {
         "name": "total_pop",
         "rawType": "float64",
         "type": "float"
        },
        {
         "name": "urban_pop",
         "rawType": "float64",
         "type": "float"
        }
       ],
       "ref": "05ca1798-b3b5-4b5b-8e47-e0b58e756d94",
       "rows": [
        [
         "0",
         "Afghanistan",
         "38972230.0",
         "9904337.0"
        ],
        [
         "1",
         "Albania",
         "2866849.0",
         "1827362.0"
        ],
        [
         "2",
         "Algeria",
         "43451666.0",
         "31950910.0"
        ],
        [
         "3",
         "American Samoa",
         "46189.0",
         "48630.0"
        ],
        [
         "4",
         "Andorra",
         "77700.0",
         "67857.0"
        ]
       ],
       "shape": {
        "columns": 3,
        "rows": 5
       }
      },
      "text/html": [
       "<div>\n",
       "<style scoped>\n",
       "    .dataframe tbody tr th:only-of-type {\n",
       "        vertical-align: middle;\n",
       "    }\n",
       "\n",
       "    .dataframe tbody tr th {\n",
       "        vertical-align: top;\n",
       "    }\n",
       "\n",
       "    .dataframe thead th {\n",
       "        text-align: right;\n",
       "    }\n",
       "</style>\n",
       "<table border=\"1\" class=\"dataframe\">\n",
       "  <thead>\n",
       "    <tr style=\"text-align: right;\">\n",
       "      <th>Element</th>\n",
       "      <th>country_pop</th>\n",
       "      <th>total_pop</th>\n",
       "      <th>urban_pop</th>\n",
       "    </tr>\n",
       "  </thead>\n",
       "  <tbody>\n",
       "    <tr>\n",
       "      <th>0</th>\n",
       "      <td>Afghanistan</td>\n",
       "      <td>38972230.0</td>\n",
       "      <td>9904337.0</td>\n",
       "    </tr>\n",
       "    <tr>\n",
       "      <th>1</th>\n",
       "      <td>Albania</td>\n",
       "      <td>2866849.0</td>\n",
       "      <td>1827362.0</td>\n",
       "    </tr>\n",
       "    <tr>\n",
       "      <th>2</th>\n",
       "      <td>Algeria</td>\n",
       "      <td>43451666.0</td>\n",
       "      <td>31950910.0</td>\n",
       "    </tr>\n",
       "    <tr>\n",
       "      <th>3</th>\n",
       "      <td>American Samoa</td>\n",
       "      <td>46189.0</td>\n",
       "      <td>48630.0</td>\n",
       "    </tr>\n",
       "    <tr>\n",
       "      <th>4</th>\n",
       "      <td>Andorra</td>\n",
       "      <td>77700.0</td>\n",
       "      <td>67857.0</td>\n",
       "    </tr>\n",
       "  </tbody>\n",
       "</table>\n",
       "</div>"
      ],
      "text/plain": [
       "Element     country_pop   total_pop   urban_pop\n",
       "0           Afghanistan  38972230.0   9904337.0\n",
       "1               Albania   2866849.0   1827362.0\n",
       "2               Algeria  43451666.0  31950910.0\n",
       "3        American Samoa     46189.0     48630.0\n",
       "4               Andorra     77700.0     67857.0"
      ]
     },
     "execution_count": 31,
     "metadata": {},
     "output_type": "execute_result"
    }
   ],
   "source": [
    "# display information on 1 single line for each country\n",
    "pop_trim = pop_tr.pivot(index='country_pop', columns='Element', values='millions_pop').reset_index()\n",
    "pop_trim.rename(columns={'Total Population - Both sexes': 'total_pop', 'Urban population':'urban_pop'}, inplace=True)\n",
    "pop_trim['country_pop'] = pop_trim['country_pop'].astype('category')\n",
    "pop_trim.head()"
   ]
  },
  {
   "cell_type": "code",
   "execution_count": 32,
   "id": "d8e66c73",
   "metadata": {},
   "outputs": [
    {
     "name": "stdout",
     "output_type": "stream",
     "text": [
      "Il y a 236 pays dans le fichier de population.\n",
      "Aucun doublon dans la table.\n"
     ]
    }
   ],
   "source": [
    "print (\"Il y a\",pop_trim['country_pop'].nunique(), \"pays dans le fichier de population.\")\n",
    "if (pop_trim.loc[pop_trim.duplicated() == True].shape[0]) != 0:\n",
    "    print(\"Doublons dans la table.\")\n",
    "else:\n",
    "    print (\"Aucun doublon dans la table.\")"
   ]
  },
  {
   "cell_type": "markdown",
   "id": "7b6728ea",
   "metadata": {},
   "source": [
    "## 1.3 - GDP"
   ]
  },
  {
   "cell_type": "code",
   "execution_count": 33,
   "id": "53dcf74f",
   "metadata": {},
   "outputs": [
    {
     "data": {
      "application/vnd.microsoft.datawrangler.viewer.v0+json": {
       "columns": [
        {
         "name": "index",
         "rawType": "int64",
         "type": "integer"
        },
        {
         "name": "Domain Code",
         "rawType": "object",
         "type": "string"
        },
        {
         "name": "Domain",
         "rawType": "object",
         "type": "string"
        },
        {
         "name": "Area Code (M49)",
         "rawType": "int64",
         "type": "integer"
        },
        {
         "name": "Area",
         "rawType": "object",
         "type": "string"
        },
        {
         "name": "Element Code",
         "rawType": "int64",
         "type": "integer"
        },
        {
         "name": "Element",
         "rawType": "object",
         "type": "string"
        },
        {
         "name": "Item Code",
         "rawType": "int64",
         "type": "integer"
        },
        {
         "name": "Item",
         "rawType": "object",
         "type": "string"
        },
        {
         "name": "Year Code",
         "rawType": "int64",
         "type": "integer"
        },
        {
         "name": "Year",
         "rawType": "int64",
         "type": "integer"
        },
        {
         "name": "Unit",
         "rawType": "object",
         "type": "string"
        },
        {
         "name": "Value",
         "rawType": "float64",
         "type": "float"
        },
        {
         "name": "Flag",
         "rawType": "object",
         "type": "string"
        },
        {
         "name": "Flag Description",
         "rawType": "object",
         "type": "string"
        },
        {
         "name": "Note",
         "rawType": "float64",
         "type": "float"
        }
       ],
       "ref": "f2121cd4-0828-488d-b8fa-c0261788c2d5",
       "rows": [
        [
         "0",
         "MK",
         "Macro Indicators",
         "4",
         "Afghanistan",
         "6110",
         "Value US$",
         "22008",
         "Gross Domestic Product",
         "2020",
         "2020",
         "millions",
         "20143.44179",
         "X",
         "Figure from international organizations",
         null
        ],
        [
         "1",
         "MK",
         "Macro Indicators",
         "4",
         "Afghanistan",
         "6119",
         "Value US$ per capita",
         "22008",
         "Gross Domestic Product",
         "2020",
         "2020",
         "US$",
         "516.866543",
         "X",
         "Figure from international organizations",
         null
        ],
        [
         "2",
         "MK",
         "Macro Indicators",
         "4",
         "Afghanistan",
         "6129",
         "Annual growth US$",
         "22008",
         "Gross Domestic Product",
         "2020",
         "2020",
         "%",
         "6.553742",
         "X",
         "Figure from international organizations",
         null
        ],
        [
         "3",
         "MK",
         "Macro Indicators",
         "4",
         "Afghanistan",
         "6110",
         "Value US$",
         "22011",
         "Gross National Income",
         "2020",
         "2020",
         "millions",
         "20332.38376",
         "X",
         "Figure from international organizations",
         null
        ],
        [
         "4",
         "MK",
         "Macro Indicators",
         "4",
         "Afghanistan",
         "6119",
         "Value US$ per capita",
         "22011",
         "Gross National Income",
         "2020",
         "2020",
         "US$",
         "521.714661",
         "X",
         "Figure from international organizations",
         null
        ]
       ],
       "shape": {
        "columns": 15,
        "rows": 5
       }
      },
      "text/html": [
       "<div>\n",
       "<style scoped>\n",
       "    .dataframe tbody tr th:only-of-type {\n",
       "        vertical-align: middle;\n",
       "    }\n",
       "\n",
       "    .dataframe tbody tr th {\n",
       "        vertical-align: top;\n",
       "    }\n",
       "\n",
       "    .dataframe thead th {\n",
       "        text-align: right;\n",
       "    }\n",
       "</style>\n",
       "<table border=\"1\" class=\"dataframe\">\n",
       "  <thead>\n",
       "    <tr style=\"text-align: right;\">\n",
       "      <th></th>\n",
       "      <th>Domain Code</th>\n",
       "      <th>Domain</th>\n",
       "      <th>Area Code (M49)</th>\n",
       "      <th>Area</th>\n",
       "      <th>Element Code</th>\n",
       "      <th>Element</th>\n",
       "      <th>Item Code</th>\n",
       "      <th>Item</th>\n",
       "      <th>Year Code</th>\n",
       "      <th>Year</th>\n",
       "      <th>Unit</th>\n",
       "      <th>Value</th>\n",
       "      <th>Flag</th>\n",
       "      <th>Flag Description</th>\n",
       "      <th>Note</th>\n",
       "    </tr>\n",
       "  </thead>\n",
       "  <tbody>\n",
       "    <tr>\n",
       "      <th>0</th>\n",
       "      <td>MK</td>\n",
       "      <td>Macro Indicators</td>\n",
       "      <td>4</td>\n",
       "      <td>Afghanistan</td>\n",
       "      <td>6110</td>\n",
       "      <td>Value US$</td>\n",
       "      <td>22008</td>\n",
       "      <td>Gross Domestic Product</td>\n",
       "      <td>2020</td>\n",
       "      <td>2020</td>\n",
       "      <td>millions</td>\n",
       "      <td>20143.441790</td>\n",
       "      <td>X</td>\n",
       "      <td>Figure from international organizations</td>\n",
       "      <td>NaN</td>\n",
       "    </tr>\n",
       "    <tr>\n",
       "      <th>1</th>\n",
       "      <td>MK</td>\n",
       "      <td>Macro Indicators</td>\n",
       "      <td>4</td>\n",
       "      <td>Afghanistan</td>\n",
       "      <td>6119</td>\n",
       "      <td>Value US$ per capita</td>\n",
       "      <td>22008</td>\n",
       "      <td>Gross Domestic Product</td>\n",
       "      <td>2020</td>\n",
       "      <td>2020</td>\n",
       "      <td>US$</td>\n",
       "      <td>516.866543</td>\n",
       "      <td>X</td>\n",
       "      <td>Figure from international organizations</td>\n",
       "      <td>NaN</td>\n",
       "    </tr>\n",
       "    <tr>\n",
       "      <th>2</th>\n",
       "      <td>MK</td>\n",
       "      <td>Macro Indicators</td>\n",
       "      <td>4</td>\n",
       "      <td>Afghanistan</td>\n",
       "      <td>6129</td>\n",
       "      <td>Annual growth US$</td>\n",
       "      <td>22008</td>\n",
       "      <td>Gross Domestic Product</td>\n",
       "      <td>2020</td>\n",
       "      <td>2020</td>\n",
       "      <td>%</td>\n",
       "      <td>6.553742</td>\n",
       "      <td>X</td>\n",
       "      <td>Figure from international organizations</td>\n",
       "      <td>NaN</td>\n",
       "    </tr>\n",
       "    <tr>\n",
       "      <th>3</th>\n",
       "      <td>MK</td>\n",
       "      <td>Macro Indicators</td>\n",
       "      <td>4</td>\n",
       "      <td>Afghanistan</td>\n",
       "      <td>6110</td>\n",
       "      <td>Value US$</td>\n",
       "      <td>22011</td>\n",
       "      <td>Gross National Income</td>\n",
       "      <td>2020</td>\n",
       "      <td>2020</td>\n",
       "      <td>millions</td>\n",
       "      <td>20332.383760</td>\n",
       "      <td>X</td>\n",
       "      <td>Figure from international organizations</td>\n",
       "      <td>NaN</td>\n",
       "    </tr>\n",
       "    <tr>\n",
       "      <th>4</th>\n",
       "      <td>MK</td>\n",
       "      <td>Macro Indicators</td>\n",
       "      <td>4</td>\n",
       "      <td>Afghanistan</td>\n",
       "      <td>6119</td>\n",
       "      <td>Value US$ per capita</td>\n",
       "      <td>22011</td>\n",
       "      <td>Gross National Income</td>\n",
       "      <td>2020</td>\n",
       "      <td>2020</td>\n",
       "      <td>US$</td>\n",
       "      <td>521.714661</td>\n",
       "      <td>X</td>\n",
       "      <td>Figure from international organizations</td>\n",
       "      <td>NaN</td>\n",
       "    </tr>\n",
       "  </tbody>\n",
       "</table>\n",
       "</div>"
      ],
      "text/plain": [
       "  Domain Code            Domain  Area Code (M49)         Area  Element Code  \\\n",
       "0          MK  Macro Indicators                4  Afghanistan          6110   \n",
       "1          MK  Macro Indicators                4  Afghanistan          6119   \n",
       "2          MK  Macro Indicators                4  Afghanistan          6129   \n",
       "3          MK  Macro Indicators                4  Afghanistan          6110   \n",
       "4          MK  Macro Indicators                4  Afghanistan          6119   \n",
       "\n",
       "                Element  Item Code                    Item  Year Code  Year  \\\n",
       "0             Value US$      22008  Gross Domestic Product       2020  2020   \n",
       "1  Value US$ per capita      22008  Gross Domestic Product       2020  2020   \n",
       "2     Annual growth US$      22008  Gross Domestic Product       2020  2020   \n",
       "3             Value US$      22011   Gross National Income       2020  2020   \n",
       "4  Value US$ per capita      22011   Gross National Income       2020  2020   \n",
       "\n",
       "       Unit         Value Flag                         Flag Description  Note  \n",
       "0  millions  20143.441790    X  Figure from international organizations   NaN  \n",
       "1       US$    516.866543    X  Figure from international organizations   NaN  \n",
       "2         %      6.553742    X  Figure from international organizations   NaN  \n",
       "3  millions  20332.383760    X  Figure from international organizations   NaN  \n",
       "4       US$    521.714661    X  Figure from international organizations   NaN  "
      ]
     },
     "execution_count": 33,
     "metadata": {},
     "output_type": "execute_result"
    }
   ],
   "source": [
    "gdp.head()"
   ]
  },
  {
   "cell_type": "code",
   "execution_count": 34,
   "id": "9f3bf841",
   "metadata": {},
   "outputs": [
    {
     "data": {
      "text/plain": [
       "array(['Gross Domestic Product', 'Gross National Income'], dtype=object)"
      ]
     },
     "execution_count": 34,
     "metadata": {},
     "output_type": "execute_result"
    }
   ],
   "source": [
    "gdp['Item'].unique()"
   ]
  },
  {
   "cell_type": "code",
   "execution_count": 35,
   "id": "eadb746b",
   "metadata": {},
   "outputs": [
    {
     "data": {
      "text/plain": [
       "array(['Value US$', 'Value US$ per capita', 'Annual growth US$'],\n",
       "      dtype=object)"
      ]
     },
     "execution_count": 35,
     "metadata": {},
     "output_type": "execute_result"
    }
   ],
   "source": [
    "gdp['Element'].unique()"
   ]
  },
  {
   "cell_type": "code",
   "execution_count": 36,
   "id": "7371fe51",
   "metadata": {},
   "outputs": [],
   "source": [
    "# keep only GDP growth and GDP per capita columns\n",
    "gdp_tr = gdp.loc[((gdp['Element'] == 'Value US$ per capita') & (gdp['Item'] == 'Gross Domestic Product'))\n",
    "                |((gdp['Element'] == 'Annual growth US$') & (gdp['Item'] == 'Gross Domestic Product'))\n",
    "                ][['Area','Element','Value']]\n",
    "gdp_trim = gdp_tr.pivot(index='Area', columns='Element', values='Value').reset_index()"
   ]
  },
  {
   "cell_type": "code",
   "execution_count": 37,
   "id": "c84a1dce",
   "metadata": {},
   "outputs": [],
   "source": [
    "# renaming columns and type casting\n",
    "gdp_trim.rename(columns={'Area': 'country_gdp', 'Annual growth US$':'gdp_growth_%', 'Value US$ per capita':'gdp_per_cap_US$'\n",
    "                        }, inplace=True)\n",
    "gdp_trim['gdp_growth_%'] = gdp_trim['gdp_growth_%'].astype(float)\n",
    "gdp_trim['gdp_per_cap_US$'] = gdp_trim['gdp_per_cap_US$'].astype(float)\n",
    "gdp_trim['country_gdp'] = gdp_trim['country_gdp'].astype('category')"
   ]
  },
  {
   "cell_type": "code",
   "execution_count": 38,
   "id": "0297d687",
   "metadata": {},
   "outputs": [
    {
     "name": "stdout",
     "output_type": "stream",
     "text": [
      "Il y a 211 pays dans le fichier PIB.\n",
      "Aucun doublon dans la table.\n"
     ]
    }
   ],
   "source": [
    "print(\"Il y a\", gdp_trim['country_gdp'].nunique(),\"pays dans le fichier PIB.\")\n",
    "if (gdp_trim.loc[gdp_trim.duplicated() == True].shape[0]) != 0:\n",
    "    print(\"Doublons dans la table.\")\n",
    "else:\n",
    "    print (\"Aucun doublon dans la table.\")"
   ]
  },
  {
   "cell_type": "markdown",
   "id": "9b263de3",
   "metadata": {},
   "source": [
    "## 1.4 - Balance du commerce exterieur de la filiere poulet"
   ]
  },
  {
   "cell_type": "code",
   "execution_count": 39,
   "id": "487326a8",
   "metadata": {},
   "outputs": [
    {
     "data": {
      "application/vnd.microsoft.datawrangler.viewer.v0+json": {
       "columns": [
        {
         "name": "index",
         "rawType": "int64",
         "type": "integer"
        },
        {
         "name": "Domain Code",
         "rawType": "object",
         "type": "string"
        },
        {
         "name": "Domain",
         "rawType": "object",
         "type": "string"
        },
        {
         "name": "Area Code (M49)",
         "rawType": "int64",
         "type": "integer"
        },
        {
         "name": "Area",
         "rawType": "object",
         "type": "string"
        },
        {
         "name": "Element Code",
         "rawType": "int64",
         "type": "integer"
        },
        {
         "name": "Element",
         "rawType": "object",
         "type": "string"
        },
        {
         "name": "Item Code (CPC)",
         "rawType": "float64",
         "type": "float"
        },
        {
         "name": "Item",
         "rawType": "object",
         "type": "string"
        },
        {
         "name": "Year Code",
         "rawType": "int64",
         "type": "integer"
        },
        {
         "name": "Year",
         "rawType": "int64",
         "type": "integer"
        },
        {
         "name": "Unit",
         "rawType": "object",
         "type": "string"
        },
        {
         "name": "Value",
         "rawType": "float64",
         "type": "float"
        },
        {
         "name": "Flag",
         "rawType": "object",
         "type": "string"
        },
        {
         "name": "Flag Description",
         "rawType": "object",
         "type": "string"
        }
       ],
       "ref": "6ae8725f-5e0e-4be3-a87d-49a658ce239d",
       "rows": [
        [
         "0",
         "TCL",
         "Crops and livestock products",
         "4",
         "Afghanistan",
         "5609",
         "Import Quantity",
         "2151.0",
         "Chickens",
         "2020",
         "2020",
         "1000 Head",
         "31341.0",
         "T",
         "Unofficial figure"
        ],
        [
         "1",
         "TCL",
         "Crops and livestock products",
         "4",
         "Afghanistan",
         "5622",
         "Import Value",
         "2151.0",
         "Chickens",
         "2020",
         "2020",
         "1000 US$",
         "10666.0",
         "T",
         "Unofficial figure"
        ],
        [
         "2",
         "TCL",
         "Crops and livestock products",
         "4",
         "Afghanistan",
         "5610",
         "Import Quantity",
         "21160.01",
         "Edible offals and liver of chickens and guinea fowl, fresh, chilled or frozen",
         "2020",
         "2020",
         "tonnes",
         "1.23",
         "T",
         "Unofficial figure"
        ],
        [
         "3",
         "TCL",
         "Crops and livestock products",
         "4",
         "Afghanistan",
         "5622",
         "Import Value",
         "21160.01",
         "Edible offals and liver of chickens and guinea fowl, fresh, chilled or frozen",
         "2020",
         "2020",
         "1000 US$",
         "4.0",
         "T",
         "Unofficial figure"
        ],
        [
         "4",
         "TCL",
         "Crops and livestock products",
         "4",
         "Afghanistan",
         "5610",
         "Import Quantity",
         "21121.0",
         "Meat of chickens, fresh or chilled",
         "2020",
         "2020",
         "tonnes",
         "35617.07",
         "T",
         "Unofficial figure"
        ],
        [
         "5",
         "TCL",
         "Crops and livestock products",
         "4",
         "Afghanistan",
         "5622",
         "Import Value",
         "21121.0",
         "Meat of chickens, fresh or chilled",
         "2020",
         "2020",
         "1000 US$",
         "40590.0",
         "T",
         "Unofficial figure"
        ],
        [
         "6",
         "TCL",
         "Crops and livestock products",
         "4",
         "Afghanistan",
         "5910",
         "Export Quantity",
         "21121.0",
         "Meat of chickens, fresh or chilled",
         "2020",
         "2020",
         "tonnes",
         "0.24",
         "T",
         "Unofficial figure"
        ],
        [
         "7",
         "TCL",
         "Crops and livestock products",
         "4",
         "Afghanistan",
         "5922",
         "Export Value",
         "21121.0",
         "Meat of chickens, fresh or chilled",
         "2020",
         "2020",
         "1000 US$",
         "1.0",
         "T",
         "Unofficial figure"
        ],
        [
         "8",
         "TCL",
         "Crops and livestock products",
         "8",
         "Albania",
         "5609",
         "Import Quantity",
         "2151.0",
         "Chickens",
         "2020",
         "2020",
         "1000 Head",
         "644.0",
         "A",
         "Official figure"
        ],
        [
         "9",
         "TCL",
         "Crops and livestock products",
         "8",
         "Albania",
         "5622",
         "Import Value",
         "2151.0",
         "Chickens",
         "2020",
         "2020",
         "1000 US$",
         "4591.0",
         "A",
         "Official figure"
        ],
        [
         "10",
         "TCL",
         "Crops and livestock products",
         "8",
         "Albania",
         "5610",
         "Import Quantity",
         "21160.01",
         "Edible offals and liver of chickens and guinea fowl, fresh, chilled or frozen",
         "2020",
         "2020",
         "tonnes",
         "2469.93",
         "A",
         "Official figure"
        ],
        [
         "11",
         "TCL",
         "Crops and livestock products",
         "8",
         "Albania",
         "5622",
         "Import Value",
         "21160.01",
         "Edible offals and liver of chickens and guinea fowl, fresh, chilled or frozen",
         "2020",
         "2020",
         "1000 US$",
         "1960.0",
         "A",
         "Official figure"
        ],
        [
         "12",
         "TCL",
         "Crops and livestock products",
         "8",
         "Albania",
         "5610",
         "Import Quantity",
         "21121.0",
         "Meat of chickens, fresh or chilled",
         "2020",
         "2020",
         "tonnes",
         "23503.19",
         "A",
         "Official figure"
        ],
        [
         "13",
         "TCL",
         "Crops and livestock products",
         "8",
         "Albania",
         "5622",
         "Import Value",
         "21121.0",
         "Meat of chickens, fresh or chilled",
         "2020",
         "2020",
         "1000 US$",
         "23709.0",
         "A",
         "Official figure"
        ],
        [
         "14",
         "TCL",
         "Crops and livestock products",
         "12",
         "Algeria",
         "5609",
         "Import Quantity",
         "2151.0",
         "Chickens",
         "2020",
         "2020",
         "1000 Head",
         "5248.0",
         "T",
         "Unofficial figure"
        ]
       ],
       "shape": {
        "columns": 14,
        "rows": 15
       }
      },
      "text/html": [
       "<div>\n",
       "<style scoped>\n",
       "    .dataframe tbody tr th:only-of-type {\n",
       "        vertical-align: middle;\n",
       "    }\n",
       "\n",
       "    .dataframe tbody tr th {\n",
       "        vertical-align: top;\n",
       "    }\n",
       "\n",
       "    .dataframe thead th {\n",
       "        text-align: right;\n",
       "    }\n",
       "</style>\n",
       "<table border=\"1\" class=\"dataframe\">\n",
       "  <thead>\n",
       "    <tr style=\"text-align: right;\">\n",
       "      <th></th>\n",
       "      <th>Domain Code</th>\n",
       "      <th>Domain</th>\n",
       "      <th>Area Code (M49)</th>\n",
       "      <th>Area</th>\n",
       "      <th>Element Code</th>\n",
       "      <th>Element</th>\n",
       "      <th>Item Code (CPC)</th>\n",
       "      <th>Item</th>\n",
       "      <th>Year Code</th>\n",
       "      <th>Year</th>\n",
       "      <th>Unit</th>\n",
       "      <th>Value</th>\n",
       "      <th>Flag</th>\n",
       "      <th>Flag Description</th>\n",
       "    </tr>\n",
       "  </thead>\n",
       "  <tbody>\n",
       "    <tr>\n",
       "      <th>0</th>\n",
       "      <td>TCL</td>\n",
       "      <td>Crops and livestock products</td>\n",
       "      <td>4</td>\n",
       "      <td>Afghanistan</td>\n",
       "      <td>5609</td>\n",
       "      <td>Import Quantity</td>\n",
       "      <td>2151.00</td>\n",
       "      <td>Chickens</td>\n",
       "      <td>2020</td>\n",
       "      <td>2020</td>\n",
       "      <td>1000 Head</td>\n",
       "      <td>31341.00</td>\n",
       "      <td>T</td>\n",
       "      <td>Unofficial figure</td>\n",
       "    </tr>\n",
       "    <tr>\n",
       "      <th>1</th>\n",
       "      <td>TCL</td>\n",
       "      <td>Crops and livestock products</td>\n",
       "      <td>4</td>\n",
       "      <td>Afghanistan</td>\n",
       "      <td>5622</td>\n",
       "      <td>Import Value</td>\n",
       "      <td>2151.00</td>\n",
       "      <td>Chickens</td>\n",
       "      <td>2020</td>\n",
       "      <td>2020</td>\n",
       "      <td>1000 US$</td>\n",
       "      <td>10666.00</td>\n",
       "      <td>T</td>\n",
       "      <td>Unofficial figure</td>\n",
       "    </tr>\n",
       "    <tr>\n",
       "      <th>2</th>\n",
       "      <td>TCL</td>\n",
       "      <td>Crops and livestock products</td>\n",
       "      <td>4</td>\n",
       "      <td>Afghanistan</td>\n",
       "      <td>5610</td>\n",
       "      <td>Import Quantity</td>\n",
       "      <td>21160.01</td>\n",
       "      <td>Edible offals and liver of chickens and guinea fowl, fresh, chilled or frozen</td>\n",
       "      <td>2020</td>\n",
       "      <td>2020</td>\n",
       "      <td>tonnes</td>\n",
       "      <td>1.23</td>\n",
       "      <td>T</td>\n",
       "      <td>Unofficial figure</td>\n",
       "    </tr>\n",
       "    <tr>\n",
       "      <th>3</th>\n",
       "      <td>TCL</td>\n",
       "      <td>Crops and livestock products</td>\n",
       "      <td>4</td>\n",
       "      <td>Afghanistan</td>\n",
       "      <td>5622</td>\n",
       "      <td>Import Value</td>\n",
       "      <td>21160.01</td>\n",
       "      <td>Edible offals and liver of chickens and guinea fowl, fresh, chilled or frozen</td>\n",
       "      <td>2020</td>\n",
       "      <td>2020</td>\n",
       "      <td>1000 US$</td>\n",
       "      <td>4.00</td>\n",
       "      <td>T</td>\n",
       "      <td>Unofficial figure</td>\n",
       "    </tr>\n",
       "    <tr>\n",
       "      <th>4</th>\n",
       "      <td>TCL</td>\n",
       "      <td>Crops and livestock products</td>\n",
       "      <td>4</td>\n",
       "      <td>Afghanistan</td>\n",
       "      <td>5610</td>\n",
       "      <td>Import Quantity</td>\n",
       "      <td>21121.00</td>\n",
       "      <td>Meat of chickens, fresh or chilled</td>\n",
       "      <td>2020</td>\n",
       "      <td>2020</td>\n",
       "      <td>tonnes</td>\n",
       "      <td>35617.07</td>\n",
       "      <td>T</td>\n",
       "      <td>Unofficial figure</td>\n",
       "    </tr>\n",
       "    <tr>\n",
       "      <th>5</th>\n",
       "      <td>TCL</td>\n",
       "      <td>Crops and livestock products</td>\n",
       "      <td>4</td>\n",
       "      <td>Afghanistan</td>\n",
       "      <td>5622</td>\n",
       "      <td>Import Value</td>\n",
       "      <td>21121.00</td>\n",
       "      <td>Meat of chickens, fresh or chilled</td>\n",
       "      <td>2020</td>\n",
       "      <td>2020</td>\n",
       "      <td>1000 US$</td>\n",
       "      <td>40590.00</td>\n",
       "      <td>T</td>\n",
       "      <td>Unofficial figure</td>\n",
       "    </tr>\n",
       "    <tr>\n",
       "      <th>6</th>\n",
       "      <td>TCL</td>\n",
       "      <td>Crops and livestock products</td>\n",
       "      <td>4</td>\n",
       "      <td>Afghanistan</td>\n",
       "      <td>5910</td>\n",
       "      <td>Export Quantity</td>\n",
       "      <td>21121.00</td>\n",
       "      <td>Meat of chickens, fresh or chilled</td>\n",
       "      <td>2020</td>\n",
       "      <td>2020</td>\n",
       "      <td>tonnes</td>\n",
       "      <td>0.24</td>\n",
       "      <td>T</td>\n",
       "      <td>Unofficial figure</td>\n",
       "    </tr>\n",
       "    <tr>\n",
       "      <th>7</th>\n",
       "      <td>TCL</td>\n",
       "      <td>Crops and livestock products</td>\n",
       "      <td>4</td>\n",
       "      <td>Afghanistan</td>\n",
       "      <td>5922</td>\n",
       "      <td>Export Value</td>\n",
       "      <td>21121.00</td>\n",
       "      <td>Meat of chickens, fresh or chilled</td>\n",
       "      <td>2020</td>\n",
       "      <td>2020</td>\n",
       "      <td>1000 US$</td>\n",
       "      <td>1.00</td>\n",
       "      <td>T</td>\n",
       "      <td>Unofficial figure</td>\n",
       "    </tr>\n",
       "    <tr>\n",
       "      <th>8</th>\n",
       "      <td>TCL</td>\n",
       "      <td>Crops and livestock products</td>\n",
       "      <td>8</td>\n",
       "      <td>Albania</td>\n",
       "      <td>5609</td>\n",
       "      <td>Import Quantity</td>\n",
       "      <td>2151.00</td>\n",
       "      <td>Chickens</td>\n",
       "      <td>2020</td>\n",
       "      <td>2020</td>\n",
       "      <td>1000 Head</td>\n",
       "      <td>644.00</td>\n",
       "      <td>A</td>\n",
       "      <td>Official figure</td>\n",
       "    </tr>\n",
       "    <tr>\n",
       "      <th>9</th>\n",
       "      <td>TCL</td>\n",
       "      <td>Crops and livestock products</td>\n",
       "      <td>8</td>\n",
       "      <td>Albania</td>\n",
       "      <td>5622</td>\n",
       "      <td>Import Value</td>\n",
       "      <td>2151.00</td>\n",
       "      <td>Chickens</td>\n",
       "      <td>2020</td>\n",
       "      <td>2020</td>\n",
       "      <td>1000 US$</td>\n",
       "      <td>4591.00</td>\n",
       "      <td>A</td>\n",
       "      <td>Official figure</td>\n",
       "    </tr>\n",
       "    <tr>\n",
       "      <th>10</th>\n",
       "      <td>TCL</td>\n",
       "      <td>Crops and livestock products</td>\n",
       "      <td>8</td>\n",
       "      <td>Albania</td>\n",
       "      <td>5610</td>\n",
       "      <td>Import Quantity</td>\n",
       "      <td>21160.01</td>\n",
       "      <td>Edible offals and liver of chickens and guinea fowl, fresh, chilled or frozen</td>\n",
       "      <td>2020</td>\n",
       "      <td>2020</td>\n",
       "      <td>tonnes</td>\n",
       "      <td>2469.93</td>\n",
       "      <td>A</td>\n",
       "      <td>Official figure</td>\n",
       "    </tr>\n",
       "    <tr>\n",
       "      <th>11</th>\n",
       "      <td>TCL</td>\n",
       "      <td>Crops and livestock products</td>\n",
       "      <td>8</td>\n",
       "      <td>Albania</td>\n",
       "      <td>5622</td>\n",
       "      <td>Import Value</td>\n",
       "      <td>21160.01</td>\n",
       "      <td>Edible offals and liver of chickens and guinea fowl, fresh, chilled or frozen</td>\n",
       "      <td>2020</td>\n",
       "      <td>2020</td>\n",
       "      <td>1000 US$</td>\n",
       "      <td>1960.00</td>\n",
       "      <td>A</td>\n",
       "      <td>Official figure</td>\n",
       "    </tr>\n",
       "    <tr>\n",
       "      <th>12</th>\n",
       "      <td>TCL</td>\n",
       "      <td>Crops and livestock products</td>\n",
       "      <td>8</td>\n",
       "      <td>Albania</td>\n",
       "      <td>5610</td>\n",
       "      <td>Import Quantity</td>\n",
       "      <td>21121.00</td>\n",
       "      <td>Meat of chickens, fresh or chilled</td>\n",
       "      <td>2020</td>\n",
       "      <td>2020</td>\n",
       "      <td>tonnes</td>\n",
       "      <td>23503.19</td>\n",
       "      <td>A</td>\n",
       "      <td>Official figure</td>\n",
       "    </tr>\n",
       "    <tr>\n",
       "      <th>13</th>\n",
       "      <td>TCL</td>\n",
       "      <td>Crops and livestock products</td>\n",
       "      <td>8</td>\n",
       "      <td>Albania</td>\n",
       "      <td>5622</td>\n",
       "      <td>Import Value</td>\n",
       "      <td>21121.00</td>\n",
       "      <td>Meat of chickens, fresh or chilled</td>\n",
       "      <td>2020</td>\n",
       "      <td>2020</td>\n",
       "      <td>1000 US$</td>\n",
       "      <td>23709.00</td>\n",
       "      <td>A</td>\n",
       "      <td>Official figure</td>\n",
       "    </tr>\n",
       "    <tr>\n",
       "      <th>14</th>\n",
       "      <td>TCL</td>\n",
       "      <td>Crops and livestock products</td>\n",
       "      <td>12</td>\n",
       "      <td>Algeria</td>\n",
       "      <td>5609</td>\n",
       "      <td>Import Quantity</td>\n",
       "      <td>2151.00</td>\n",
       "      <td>Chickens</td>\n",
       "      <td>2020</td>\n",
       "      <td>2020</td>\n",
       "      <td>1000 Head</td>\n",
       "      <td>5248.00</td>\n",
       "      <td>T</td>\n",
       "      <td>Unofficial figure</td>\n",
       "    </tr>\n",
       "  </tbody>\n",
       "</table>\n",
       "</div>"
      ],
      "text/plain": [
       "   Domain Code                        Domain  Area Code (M49)         Area  \\\n",
       "0          TCL  Crops and livestock products                4  Afghanistan   \n",
       "1          TCL  Crops and livestock products                4  Afghanistan   \n",
       "2          TCL  Crops and livestock products                4  Afghanistan   \n",
       "3          TCL  Crops and livestock products                4  Afghanistan   \n",
       "4          TCL  Crops and livestock products                4  Afghanistan   \n",
       "5          TCL  Crops and livestock products                4  Afghanistan   \n",
       "6          TCL  Crops and livestock products                4  Afghanistan   \n",
       "7          TCL  Crops and livestock products                4  Afghanistan   \n",
       "8          TCL  Crops and livestock products                8      Albania   \n",
       "9          TCL  Crops and livestock products                8      Albania   \n",
       "10         TCL  Crops and livestock products                8      Albania   \n",
       "11         TCL  Crops and livestock products                8      Albania   \n",
       "12         TCL  Crops and livestock products                8      Albania   \n",
       "13         TCL  Crops and livestock products                8      Albania   \n",
       "14         TCL  Crops and livestock products               12      Algeria   \n",
       "\n",
       "    Element Code          Element  Item Code (CPC)  \\\n",
       "0           5609  Import Quantity          2151.00   \n",
       "1           5622     Import Value          2151.00   \n",
       "2           5610  Import Quantity         21160.01   \n",
       "3           5622     Import Value         21160.01   \n",
       "4           5610  Import Quantity         21121.00   \n",
       "5           5622     Import Value         21121.00   \n",
       "6           5910  Export Quantity         21121.00   \n",
       "7           5922     Export Value         21121.00   \n",
       "8           5609  Import Quantity          2151.00   \n",
       "9           5622     Import Value          2151.00   \n",
       "10          5610  Import Quantity         21160.01   \n",
       "11          5622     Import Value         21160.01   \n",
       "12          5610  Import Quantity         21121.00   \n",
       "13          5622     Import Value         21121.00   \n",
       "14          5609  Import Quantity          2151.00   \n",
       "\n",
       "                                                                             Item  \\\n",
       "0                                                                        Chickens   \n",
       "1                                                                        Chickens   \n",
       "2   Edible offals and liver of chickens and guinea fowl, fresh, chilled or frozen   \n",
       "3   Edible offals and liver of chickens and guinea fowl, fresh, chilled or frozen   \n",
       "4                                              Meat of chickens, fresh or chilled   \n",
       "5                                              Meat of chickens, fresh or chilled   \n",
       "6                                              Meat of chickens, fresh or chilled   \n",
       "7                                              Meat of chickens, fresh or chilled   \n",
       "8                                                                        Chickens   \n",
       "9                                                                        Chickens   \n",
       "10  Edible offals and liver of chickens and guinea fowl, fresh, chilled or frozen   \n",
       "11  Edible offals and liver of chickens and guinea fowl, fresh, chilled or frozen   \n",
       "12                                             Meat of chickens, fresh or chilled   \n",
       "13                                             Meat of chickens, fresh or chilled   \n",
       "14                                                                       Chickens   \n",
       "\n",
       "    Year Code  Year       Unit     Value Flag   Flag Description  \n",
       "0        2020  2020  1000 Head  31341.00    T  Unofficial figure  \n",
       "1        2020  2020   1000 US$  10666.00    T  Unofficial figure  \n",
       "2        2020  2020     tonnes      1.23    T  Unofficial figure  \n",
       "3        2020  2020   1000 US$      4.00    T  Unofficial figure  \n",
       "4        2020  2020     tonnes  35617.07    T  Unofficial figure  \n",
       "5        2020  2020   1000 US$  40590.00    T  Unofficial figure  \n",
       "6        2020  2020     tonnes      0.24    T  Unofficial figure  \n",
       "7        2020  2020   1000 US$      1.00    T  Unofficial figure  \n",
       "8        2020  2020  1000 Head    644.00    A    Official figure  \n",
       "9        2020  2020   1000 US$   4591.00    A    Official figure  \n",
       "10       2020  2020     tonnes   2469.93    A    Official figure  \n",
       "11       2020  2020   1000 US$   1960.00    A    Official figure  \n",
       "12       2020  2020     tonnes  23503.19    A    Official figure  \n",
       "13       2020  2020   1000 US$  23709.00    A    Official figure  \n",
       "14       2020  2020  1000 Head   5248.00    T  Unofficial figure  "
      ]
     },
     "execution_count": 39,
     "metadata": {},
     "output_type": "execute_result"
    }
   ],
   "source": [
    "trade.head(15)"
   ]
  },
  {
   "cell_type": "code",
   "execution_count": 40,
   "id": "f63a8061",
   "metadata": {},
   "outputs": [
    {
     "data": {
      "text/plain": [
       "array(['Import Quantity', 'Import Value', 'Export Quantity',\n",
       "       'Export Value'], dtype=object)"
      ]
     },
     "execution_count": 40,
     "metadata": {},
     "output_type": "execute_result"
    }
   ],
   "source": [
    "trade['Element'].unique()"
   ]
  },
  {
   "cell_type": "code",
   "execution_count": 41,
   "id": "f11a5020",
   "metadata": {},
   "outputs": [],
   "source": [
    "# select only imports and exports values\n",
    "trade_tr = trade.loc[(trade['Element'] == 'Import Value') \n",
    "                     | ((trade['Element'] == 'Export Value'))][['Area','Element','Item','Value']]\n",
    "\n",
    "# convert values expressed in thousands of dollars to dollars\n",
    "trade_tr['Value'] = trade_tr['Value'] * 1000"
   ]
  },
  {
   "cell_type": "code",
   "execution_count": 42,
   "id": "47ff2336",
   "metadata": {},
   "outputs": [],
   "source": [
    "# create column for net imports with exports as negative values and imports as positive values\n",
    "trade_tr.loc[(trade_tr['Element'] == 'Export Value'), 'net_value'] = trade_tr['Value']*-1\n",
    "trade_tr.loc[(trade_tr['Element'] == 'Import Value'), 'net_value'] = trade_tr['Value']"
   ]
  },
  {
   "cell_type": "code",
   "execution_count": 43,
   "id": "f6c24062",
   "metadata": {},
   "outputs": [
    {
     "data": {
      "application/vnd.microsoft.datawrangler.viewer.v0+json": {
       "columns": [
        {
         "name": "index",
         "rawType": "int64",
         "type": "integer"
        },
        {
         "name": "Area",
         "rawType": "object",
         "type": "string"
        },
        {
         "name": "Element",
         "rawType": "object",
         "type": "string"
        },
        {
         "name": "net_value",
         "rawType": "float64",
         "type": "float"
        }
       ],
       "ref": "3b40a5e6-016c-4d0d-a173-f97719bfde40",
       "rows": [
        [
         "0",
         "Afghanistan",
         "Export Value",
         "-1000.0"
        ],
        [
         "1",
         "Afghanistan",
         "Import Value",
         "51260000.0"
        ],
        [
         "2",
         "Albania",
         "Import Value",
         "30260000.0"
        ],
        [
         "3",
         "Algeria",
         "Export Value",
         "-727000.0"
        ],
        [
         "4",
         "Algeria",
         "Import Value",
         "26991000.0"
        ],
        [
         "5",
         "Angola",
         "Export Value",
         "-193000.0"
        ],
        [
         "6",
         "Angola",
         "Import Value",
         "196496000.0"
        ],
        [
         "7",
         "Antigua and Barbuda",
         "Export Value",
         "-110000.0"
        ],
        [
         "8",
         "Antigua and Barbuda",
         "Import Value",
         "9820000.0"
        ],
        [
         "9",
         "Argentina",
         "Export Value",
         "-246749000.0"
        ],
        [
         "10",
         "Argentina",
         "Import Value",
         "23374000.0"
        ],
        [
         "11",
         "Armenia",
         "Export Value",
         "-2000.0"
        ],
        [
         "12",
         "Armenia",
         "Import Value",
         "33341000.0"
        ],
        [
         "13",
         "Australia",
         "Export Value",
         "-51918000.0"
        ],
        [
         "14",
         "Australia",
         "Import Value",
         "1737000.0"
        ],
        [
         "15",
         "Austria",
         "Export Value",
         "-196619000.0"
        ],
        [
         "16",
         "Austria",
         "Import Value",
         "187578000.0"
        ],
        [
         "17",
         "Azerbaijan",
         "Export Value",
         "-46000.0"
        ],
        [
         "18",
         "Azerbaijan",
         "Import Value",
         "35564000.0"
        ],
        [
         "19",
         "Bahamas",
         "Import Value",
         "26395000.0"
        ],
        [
         "20",
         "Bahrain",
         "Export Value",
         "-2087000.0"
        ],
        [
         "21",
         "Bahrain",
         "Import Value",
         "120814000.0"
        ],
        [
         "22",
         "Bangladesh",
         "Import Value",
         "21819000.0"
        ],
        [
         "23",
         "Barbados",
         "Export Value",
         "-778000.0"
        ],
        [
         "24",
         "Barbados",
         "Import Value",
         "2626000.0"
        ],
        [
         "25",
         "Belarus",
         "Export Value",
         "-291870000.0"
        ],
        [
         "26",
         "Belarus",
         "Import Value",
         "43804000.0"
        ],
        [
         "27",
         "Belgium",
         "Export Value",
         "-972172000.0"
        ],
        [
         "28",
         "Belgium",
         "Import Value",
         "586621000.0"
        ],
        [
         "29",
         "Belize",
         "Export Value",
         "-20000.0"
        ],
        [
         "30",
         "Belize",
         "Import Value",
         "766000.0"
        ],
        [
         "31",
         "Benin",
         "Export Value",
         "0.0"
        ],
        [
         "32",
         "Benin",
         "Import Value",
         "44782000.0"
        ],
        [
         "33",
         "Bhutan",
         "Import Value",
         "2393000.0"
        ],
        [
         "34",
         "Bolivia (Plurinational State of)",
         "Export Value",
         "-265000.0"
        ],
        [
         "35",
         "Bolivia (Plurinational State of)",
         "Import Value",
         "12402000.0"
        ],
        [
         "36",
         "Bosnia and Herzegovina",
         "Export Value",
         "-7312000.0"
        ],
        [
         "37",
         "Bosnia and Herzegovina",
         "Import Value",
         "11103000.0"
        ],
        [
         "38",
         "Botswana",
         "Export Value",
         "-5000.0"
        ],
        [
         "39",
         "Botswana",
         "Import Value",
         "8986000.0"
        ],
        [
         "40",
         "Brazil",
         "Export Value",
         "-5559980000.0"
        ],
        [
         "41",
         "Brazil",
         "Import Value",
         "10983000.0"
        ],
        [
         "42",
         "Brunei Darussalam",
         "Import Value",
         "2778000.0"
        ],
        [
         "43",
         "Bulgaria",
         "Export Value",
         "-56159000.0"
        ],
        [
         "44",
         "Bulgaria",
         "Import Value",
         "99367000.0"
        ],
        [
         "45",
         "Burkina Faso",
         "Export Value",
         "-1000.0"
        ],
        [
         "46",
         "Burkina Faso",
         "Import Value",
         "569000.0"
        ],
        [
         "47",
         "Burundi",
         "Export Value",
         "-2000.0"
        ],
        [
         "48",
         "Burundi",
         "Import Value",
         "54000.0"
        ],
        [
         "49",
         "Cabo Verde",
         "Import Value",
         "14465000.0"
        ]
       ],
       "shape": {
        "columns": 3,
        "rows": 338
       }
      },
      "text/html": [
       "<div>\n",
       "<style scoped>\n",
       "    .dataframe tbody tr th:only-of-type {\n",
       "        vertical-align: middle;\n",
       "    }\n",
       "\n",
       "    .dataframe tbody tr th {\n",
       "        vertical-align: top;\n",
       "    }\n",
       "\n",
       "    .dataframe thead th {\n",
       "        text-align: right;\n",
       "    }\n",
       "</style>\n",
       "<table border=\"1\" class=\"dataframe\">\n",
       "  <thead>\n",
       "    <tr style=\"text-align: right;\">\n",
       "      <th></th>\n",
       "      <th>Area</th>\n",
       "      <th>Element</th>\n",
       "      <th>net_value</th>\n",
       "    </tr>\n",
       "  </thead>\n",
       "  <tbody>\n",
       "    <tr>\n",
       "      <th>0</th>\n",
       "      <td>Afghanistan</td>\n",
       "      <td>Export Value</td>\n",
       "      <td>-1000.0</td>\n",
       "    </tr>\n",
       "    <tr>\n",
       "      <th>1</th>\n",
       "      <td>Afghanistan</td>\n",
       "      <td>Import Value</td>\n",
       "      <td>51260000.0</td>\n",
       "    </tr>\n",
       "    <tr>\n",
       "      <th>2</th>\n",
       "      <td>Albania</td>\n",
       "      <td>Import Value</td>\n",
       "      <td>30260000.0</td>\n",
       "    </tr>\n",
       "    <tr>\n",
       "      <th>3</th>\n",
       "      <td>Algeria</td>\n",
       "      <td>Export Value</td>\n",
       "      <td>-727000.0</td>\n",
       "    </tr>\n",
       "    <tr>\n",
       "      <th>4</th>\n",
       "      <td>Algeria</td>\n",
       "      <td>Import Value</td>\n",
       "      <td>26991000.0</td>\n",
       "    </tr>\n",
       "    <tr>\n",
       "      <th>...</th>\n",
       "      <td>...</td>\n",
       "      <td>...</td>\n",
       "      <td>...</td>\n",
       "    </tr>\n",
       "    <tr>\n",
       "      <th>333</th>\n",
       "      <td>Yemen</td>\n",
       "      <td>Import Value</td>\n",
       "      <td>211282000.0</td>\n",
       "    </tr>\n",
       "    <tr>\n",
       "      <th>334</th>\n",
       "      <td>Zambia</td>\n",
       "      <td>Export Value</td>\n",
       "      <td>-17743000.0</td>\n",
       "    </tr>\n",
       "    <tr>\n",
       "      <th>335</th>\n",
       "      <td>Zambia</td>\n",
       "      <td>Import Value</td>\n",
       "      <td>25450000.0</td>\n",
       "    </tr>\n",
       "    <tr>\n",
       "      <th>336</th>\n",
       "      <td>Zimbabwe</td>\n",
       "      <td>Export Value</td>\n",
       "      <td>-1201000.0</td>\n",
       "    </tr>\n",
       "    <tr>\n",
       "      <th>337</th>\n",
       "      <td>Zimbabwe</td>\n",
       "      <td>Import Value</td>\n",
       "      <td>4117000.0</td>\n",
       "    </tr>\n",
       "  </tbody>\n",
       "</table>\n",
       "<p>338 rows × 3 columns</p>\n",
       "</div>"
      ],
      "text/plain": [
       "            Area       Element    net_value\n",
       "0    Afghanistan  Export Value      -1000.0\n",
       "1    Afghanistan  Import Value   51260000.0\n",
       "2        Albania  Import Value   30260000.0\n",
       "3        Algeria  Export Value    -727000.0\n",
       "4        Algeria  Import Value   26991000.0\n",
       "..           ...           ...          ...\n",
       "333        Yemen  Import Value  211282000.0\n",
       "334       Zambia  Export Value  -17743000.0\n",
       "335       Zambia  Import Value   25450000.0\n",
       "336     Zimbabwe  Export Value   -1201000.0\n",
       "337     Zimbabwe  Import Value    4117000.0\n",
       "\n",
       "[338 rows x 3 columns]"
      ]
     },
     "execution_count": 43,
     "metadata": {},
     "output_type": "execute_result"
    }
   ],
   "source": [
    "# sum columns to get total value of imports and exports of poultry products by country\n",
    "trade_tr.groupby(['Area','Element'])['net_value'].sum().reset_index()"
   ]
  },
  {
   "cell_type": "code",
   "execution_count": 44,
   "id": "47ff0f03",
   "metadata": {},
   "outputs": [],
   "source": [
    "# sum column by country to get value of net imports\n",
    "trade_trim = trade_tr.groupby(['Area'])['net_value'].sum().reset_index()"
   ]
  },
  {
   "cell_type": "code",
   "execution_count": 45,
   "id": "26f01797",
   "metadata": {},
   "outputs": [],
   "source": [
    "# rename columns and type casting\n",
    "trade_trim.rename(columns={'Area': 'country_trade', 'net_value':'net_imports_poultry_US$'}, inplace=True)\n",
    "trade_trim['country_trade'] = trade_trim['country_trade'].astype('category')\n",
    "trade_trim['net_imports_poultry_US$'] = trade_trim['net_imports_poultry_US$'].astype(float)"
   ]
  },
  {
   "cell_type": "code",
   "execution_count": 46,
   "id": "119702b4",
   "metadata": {},
   "outputs": [
    {
     "name": "stdout",
     "output_type": "stream",
     "text": [
      "Il y a 196 pays dans le fichier des importations nettes de produits volaillers.\n",
      "Aucun doublon dans la table.\n"
     ]
    }
   ],
   "source": [
    "print(\"Il y a\", trade_trim['country_trade'].nunique(), \"pays dans le fichier des importations nettes de produits volaillers.\")\n",
    "if (trade_trim.loc[trade_trim.duplicated() == True].shape[0]) != 0:\n",
    "    print(\"Doublons dans la table.\")\n",
    "else:\n",
    "    print (\"Aucun doublon dans la table.\")"
   ]
  },
  {
   "cell_type": "markdown",
   "id": "e08dd6f5",
   "metadata": {},
   "source": [
    "## 1.5 - Indicateur de stabilite politique & structurelle"
   ]
  },
  {
   "cell_type": "markdown",
   "id": "15317b1e",
   "metadata": {},
   "source": [
    "#### cf. https://databank.worldbank.org/metadataglossary/worldwide-governance-indicators/series/PV.EST pour la definition et l'interpretation de l'indice de stabilite."
   ]
  },
  {
   "cell_type": "code",
   "execution_count": 47,
   "id": "572dd399",
   "metadata": {},
   "outputs": [
    {
     "data": {
      "application/vnd.microsoft.datawrangler.viewer.v0+json": {
       "columns": [
        {
         "name": "index",
         "rawType": "int64",
         "type": "integer"
        },
        {
         "name": "Domain Code",
         "rawType": "object",
         "type": "string"
        },
        {
         "name": "Domain",
         "rawType": "object",
         "type": "string"
        },
        {
         "name": "Area Code (M49)",
         "rawType": "int64",
         "type": "integer"
        },
        {
         "name": "Area",
         "rawType": "object",
         "type": "string"
        },
        {
         "name": "Element Code",
         "rawType": "int64",
         "type": "integer"
        },
        {
         "name": "Element",
         "rawType": "object",
         "type": "string"
        },
        {
         "name": "Item Code",
         "rawType": "int64",
         "type": "integer"
        },
        {
         "name": "Item",
         "rawType": "object",
         "type": "string"
        },
        {
         "name": "Year Code",
         "rawType": "int64",
         "type": "integer"
        },
        {
         "name": "Year",
         "rawType": "object",
         "type": "string"
        },
        {
         "name": "Unit",
         "rawType": "object",
         "type": "string"
        },
        {
         "name": "Value",
         "rawType": "float64",
         "type": "float"
        },
        {
         "name": "Flag",
         "rawType": "object",
         "type": "string"
        },
        {
         "name": "Flag Description",
         "rawType": "object",
         "type": "string"
        },
        {
         "name": "Note",
         "rawType": "float64",
         "type": "float"
        }
       ],
       "ref": "77189eb6-2855-46c6-abaa-44a0c2db0acb",
       "rows": [
        [
         "0",
         "FS",
         "Suite of Food Security Indicators",
         "4",
         "Afghanistan",
         "6123",
         "Value",
         "21013",
         "Average protein supply (g/cap/day) (3-year average)",
         "20192021",
         "2019-2021",
         "g/capita/day",
         null,
         "O",
         "Missing value",
         null
        ],
        [
         "1",
         "FS",
         "Suite of Food Security Indicators",
         "4",
         "Afghanistan",
         "6123",
         "Value",
         "21014",
         "Average supply of protein of animal origin (g/cap/day) (3-year average)",
         "20192021",
         "2019-2021",
         "g/capita/day",
         null,
         "O",
         "Missing value",
         null
        ],
        [
         "2",
         "FS",
         "Suite of Food Security Indicators",
         "4",
         "Afghanistan",
         "6126",
         "Value",
         "22013",
         "Gross domestic product per capita, PPP, (constant 2017 international $)",
         "2020",
         "2020",
         "I$",
         "1970.6",
         "X",
         "Figure from international organizations",
         null
        ],
        [
         "3",
         "FS",
         "Suite of Food Security Indicators",
         "4",
         "Afghanistan",
         "6125",
         "Value",
         "21032",
         "Political stability and absence of violence/terrorism (index)",
         "2020",
         "2020",
         "index",
         "-2.73",
         "X",
         "Figure from international organizations",
         null
        ],
        [
         "4",
         "FS",
         "Suite of Food Security Indicators",
         "8",
         "Albania",
         "6123",
         "Value",
         "21013",
         "Average protein supply (g/cap/day) (3-year average)",
         "20192021",
         "2019-2021",
         "g/capita/day",
         null,
         "O",
         "Missing value",
         null
        ]
       ],
       "shape": {
        "columns": 15,
        "rows": 5
       }
      },
      "text/html": [
       "<div>\n",
       "<style scoped>\n",
       "    .dataframe tbody tr th:only-of-type {\n",
       "        vertical-align: middle;\n",
       "    }\n",
       "\n",
       "    .dataframe tbody tr th {\n",
       "        vertical-align: top;\n",
       "    }\n",
       "\n",
       "    .dataframe thead th {\n",
       "        text-align: right;\n",
       "    }\n",
       "</style>\n",
       "<table border=\"1\" class=\"dataframe\">\n",
       "  <thead>\n",
       "    <tr style=\"text-align: right;\">\n",
       "      <th></th>\n",
       "      <th>Domain Code</th>\n",
       "      <th>Domain</th>\n",
       "      <th>Area Code (M49)</th>\n",
       "      <th>Area</th>\n",
       "      <th>Element Code</th>\n",
       "      <th>Element</th>\n",
       "      <th>Item Code</th>\n",
       "      <th>Item</th>\n",
       "      <th>Year Code</th>\n",
       "      <th>Year</th>\n",
       "      <th>Unit</th>\n",
       "      <th>Value</th>\n",
       "      <th>Flag</th>\n",
       "      <th>Flag Description</th>\n",
       "      <th>Note</th>\n",
       "    </tr>\n",
       "  </thead>\n",
       "  <tbody>\n",
       "    <tr>\n",
       "      <th>0</th>\n",
       "      <td>FS</td>\n",
       "      <td>Suite of Food Security Indicators</td>\n",
       "      <td>4</td>\n",
       "      <td>Afghanistan</td>\n",
       "      <td>6123</td>\n",
       "      <td>Value</td>\n",
       "      <td>21013</td>\n",
       "      <td>Average protein supply (g/cap/day) (3-year average)</td>\n",
       "      <td>20192021</td>\n",
       "      <td>2019-2021</td>\n",
       "      <td>g/capita/day</td>\n",
       "      <td>NaN</td>\n",
       "      <td>O</td>\n",
       "      <td>Missing value</td>\n",
       "      <td>NaN</td>\n",
       "    </tr>\n",
       "    <tr>\n",
       "      <th>1</th>\n",
       "      <td>FS</td>\n",
       "      <td>Suite of Food Security Indicators</td>\n",
       "      <td>4</td>\n",
       "      <td>Afghanistan</td>\n",
       "      <td>6123</td>\n",
       "      <td>Value</td>\n",
       "      <td>21014</td>\n",
       "      <td>Average supply of protein of animal origin (g/cap/day) (3-year average)</td>\n",
       "      <td>20192021</td>\n",
       "      <td>2019-2021</td>\n",
       "      <td>g/capita/day</td>\n",
       "      <td>NaN</td>\n",
       "      <td>O</td>\n",
       "      <td>Missing value</td>\n",
       "      <td>NaN</td>\n",
       "    </tr>\n",
       "    <tr>\n",
       "      <th>2</th>\n",
       "      <td>FS</td>\n",
       "      <td>Suite of Food Security Indicators</td>\n",
       "      <td>4</td>\n",
       "      <td>Afghanistan</td>\n",
       "      <td>6126</td>\n",
       "      <td>Value</td>\n",
       "      <td>22013</td>\n",
       "      <td>Gross domestic product per capita, PPP, (constant 2017 international $)</td>\n",
       "      <td>2020</td>\n",
       "      <td>2020</td>\n",
       "      <td>I$</td>\n",
       "      <td>1970.60</td>\n",
       "      <td>X</td>\n",
       "      <td>Figure from international organizations</td>\n",
       "      <td>NaN</td>\n",
       "    </tr>\n",
       "    <tr>\n",
       "      <th>3</th>\n",
       "      <td>FS</td>\n",
       "      <td>Suite of Food Security Indicators</td>\n",
       "      <td>4</td>\n",
       "      <td>Afghanistan</td>\n",
       "      <td>6125</td>\n",
       "      <td>Value</td>\n",
       "      <td>21032</td>\n",
       "      <td>Political stability and absence of violence/terrorism (index)</td>\n",
       "      <td>2020</td>\n",
       "      <td>2020</td>\n",
       "      <td>index</td>\n",
       "      <td>-2.73</td>\n",
       "      <td>X</td>\n",
       "      <td>Figure from international organizations</td>\n",
       "      <td>NaN</td>\n",
       "    </tr>\n",
       "    <tr>\n",
       "      <th>4</th>\n",
       "      <td>FS</td>\n",
       "      <td>Suite of Food Security Indicators</td>\n",
       "      <td>8</td>\n",
       "      <td>Albania</td>\n",
       "      <td>6123</td>\n",
       "      <td>Value</td>\n",
       "      <td>21013</td>\n",
       "      <td>Average protein supply (g/cap/day) (3-year average)</td>\n",
       "      <td>20192021</td>\n",
       "      <td>2019-2021</td>\n",
       "      <td>g/capita/day</td>\n",
       "      <td>NaN</td>\n",
       "      <td>O</td>\n",
       "      <td>Missing value</td>\n",
       "      <td>NaN</td>\n",
       "    </tr>\n",
       "  </tbody>\n",
       "</table>\n",
       "</div>"
      ],
      "text/plain": [
       "  Domain Code                             Domain  Area Code (M49)  \\\n",
       "0          FS  Suite of Food Security Indicators                4   \n",
       "1          FS  Suite of Food Security Indicators                4   \n",
       "2          FS  Suite of Food Security Indicators                4   \n",
       "3          FS  Suite of Food Security Indicators                4   \n",
       "4          FS  Suite of Food Security Indicators                8   \n",
       "\n",
       "          Area  Element Code Element  Item Code  \\\n",
       "0  Afghanistan          6123   Value      21013   \n",
       "1  Afghanistan          6123   Value      21014   \n",
       "2  Afghanistan          6126   Value      22013   \n",
       "3  Afghanistan          6125   Value      21032   \n",
       "4      Albania          6123   Value      21013   \n",
       "\n",
       "                                                                      Item  \\\n",
       "0                      Average protein supply (g/cap/day) (3-year average)   \n",
       "1  Average supply of protein of animal origin (g/cap/day) (3-year average)   \n",
       "2  Gross domestic product per capita, PPP, (constant 2017 international $)   \n",
       "3            Political stability and absence of violence/terrorism (index)   \n",
       "4                      Average protein supply (g/cap/day) (3-year average)   \n",
       "\n",
       "   Year Code       Year          Unit    Value Flag  \\\n",
       "0   20192021  2019-2021  g/capita/day      NaN    O   \n",
       "1   20192021  2019-2021  g/capita/day      NaN    O   \n",
       "2       2020       2020            I$  1970.60    X   \n",
       "3       2020       2020         index    -2.73    X   \n",
       "4   20192021  2019-2021  g/capita/day      NaN    O   \n",
       "\n",
       "                          Flag Description  Note  \n",
       "0                            Missing value   NaN  \n",
       "1                            Missing value   NaN  \n",
       "2  Figure from international organizations   NaN  \n",
       "3  Figure from international organizations   NaN  \n",
       "4                            Missing value   NaN  "
      ]
     },
     "execution_count": 47,
     "metadata": {},
     "output_type": "execute_result"
    }
   ],
   "source": [
    "stability.head()"
   ]
  },
  {
   "cell_type": "code",
   "execution_count": 48,
   "id": "1f7182a9",
   "metadata": {},
   "outputs": [
    {
     "data": {
      "text/plain": [
       "array(['Average protein supply (g/cap/day) (3-year average)',\n",
       "       'Average supply of protein of animal origin (g/cap/day) (3-year average)',\n",
       "       'Gross domestic product per capita, PPP, (constant 2017 international $)',\n",
       "       'Political stability and absence of violence/terrorism (index)'],\n",
       "      dtype=object)"
      ]
     },
     "execution_count": 48,
     "metadata": {},
     "output_type": "execute_result"
    }
   ],
   "source": [
    "stability['Item'].unique()"
   ]
  },
  {
   "cell_type": "code",
   "execution_count": 49,
   "id": "0bd86afd",
   "metadata": {},
   "outputs": [
    {
     "data": {
      "application/vnd.microsoft.datawrangler.viewer.v0+json": {
       "columns": [
        {
         "name": "index",
         "rawType": "int64",
         "type": "integer"
        },
        {
         "name": "Area",
         "rawType": "object",
         "type": "string"
        },
        {
         "name": "Political stability and absence of violence/terrorism (index)",
         "rawType": "float64",
         "type": "float"
        }
       ],
       "ref": "1c4d69da-e70d-419f-a7a8-e798e3759282",
       "rows": [
        [
         "0",
         "Afghanistan",
         "-2.73"
        ],
        [
         "1",
         "Albania",
         "0.08"
        ],
        [
         "2",
         "Algeria",
         "-0.86"
        ],
        [
         "3",
         "American Samoa",
         "1.17"
        ],
        [
         "4",
         "Andorra",
         "1.62"
        ]
       ],
       "shape": {
        "columns": 2,
        "rows": 5
       }
      },
      "text/html": [
       "<div>\n",
       "<style scoped>\n",
       "    .dataframe tbody tr th:only-of-type {\n",
       "        vertical-align: middle;\n",
       "    }\n",
       "\n",
       "    .dataframe tbody tr th {\n",
       "        vertical-align: top;\n",
       "    }\n",
       "\n",
       "    .dataframe thead th {\n",
       "        text-align: right;\n",
       "    }\n",
       "</style>\n",
       "<table border=\"1\" class=\"dataframe\">\n",
       "  <thead>\n",
       "    <tr style=\"text-align: right;\">\n",
       "      <th>Item</th>\n",
       "      <th>Area</th>\n",
       "      <th>Political stability and absence of violence/terrorism (index)</th>\n",
       "    </tr>\n",
       "  </thead>\n",
       "  <tbody>\n",
       "    <tr>\n",
       "      <th>0</th>\n",
       "      <td>Afghanistan</td>\n",
       "      <td>-2.73</td>\n",
       "    </tr>\n",
       "    <tr>\n",
       "      <th>1</th>\n",
       "      <td>Albania</td>\n",
       "      <td>0.08</td>\n",
       "    </tr>\n",
       "    <tr>\n",
       "      <th>2</th>\n",
       "      <td>Algeria</td>\n",
       "      <td>-0.86</td>\n",
       "    </tr>\n",
       "    <tr>\n",
       "      <th>3</th>\n",
       "      <td>American Samoa</td>\n",
       "      <td>1.17</td>\n",
       "    </tr>\n",
       "    <tr>\n",
       "      <th>4</th>\n",
       "      <td>Andorra</td>\n",
       "      <td>1.62</td>\n",
       "    </tr>\n",
       "  </tbody>\n",
       "</table>\n",
       "</div>"
      ],
      "text/plain": [
       "Item            Area  \\\n",
       "0        Afghanistan   \n",
       "1            Albania   \n",
       "2            Algeria   \n",
       "3     American Samoa   \n",
       "4            Andorra   \n",
       "\n",
       "Item  Political stability and absence of violence/terrorism (index)  \n",
       "0                                                             -2.73  \n",
       "1                                                              0.08  \n",
       "2                                                             -0.86  \n",
       "3                                                              1.17  \n",
       "4                                                              1.62  "
      ]
     },
     "execution_count": 49,
     "metadata": {},
     "output_type": "execute_result"
    }
   ],
   "source": [
    "# select only stability index columns\n",
    "stability_tr = stability.loc[(stability['Item'] == 'Political stability and absence of violence/terrorism (index)')\n",
    "                            ][['Area','Item','Value']]\n",
    "# display data on 1 single line per country\n",
    "stability_trim = stability_tr.pivot(index='Area', columns='Item', values='Value').reset_index()\n",
    "stability_trim.head()"
   ]
  },
  {
   "cell_type": "code",
   "execution_count": 50,
   "id": "5341fc0b",
   "metadata": {},
   "outputs": [],
   "source": [
    "stability_trim.rename(columns={'Area': 'country_stability',\n",
    "                               'Political stability and absence of violence/terrorism (index)':'safety_stability_index'}\n",
    "                      , inplace=True)\n",
    "stability_trim['safety_stability_index'] = stability_trim['safety_stability_index'].astype(float)\n",
    "stability_trim['country_stability'] = stability_trim['country_stability'].astype('category')"
   ]
  },
  {
   "cell_type": "code",
   "execution_count": 51,
   "id": "5b1e7da3",
   "metadata": {},
   "outputs": [
    {
     "name": "stdout",
     "output_type": "stream",
     "text": [
      "<class 'pandas.core.frame.DataFrame'>\n",
      "RangeIndex: 199 entries, 0 to 198\n",
      "Data columns (total 2 columns):\n",
      " #   Column                  Non-Null Count  Dtype   \n",
      "---  ------                  --------------  -----   \n",
      " 0   country_stability       199 non-null    category\n",
      " 1   safety_stability_index  199 non-null    float64 \n",
      "dtypes: category(1), float64(1)\n",
      "memory usage: 11.7 KB\n"
     ]
    }
   ],
   "source": [
    "stability_trim.info()"
   ]
  },
  {
   "cell_type": "code",
   "execution_count": 52,
   "id": "ed184d57",
   "metadata": {},
   "outputs": [
    {
     "name": "stdout",
     "output_type": "stream",
     "text": [
      "Il y a 199 pays dans le fichier d'indicateur de stabilite politique et structurelle.\n",
      "Aucun doublon dans la table.\n"
     ]
    }
   ],
   "source": [
    "print(\"Il y a\", stability_trim['country_stability'].nunique(),\"pays dans le fichier d'indicateur de stabilite politique et structurelle.\")\n",
    "if (stability_trim.loc[stability_trim.duplicated() == True].shape[0]) != 0:\n",
    "    print(\"Doublons dans la table.\")\n",
    "else:\n",
    "    print (\"Aucun doublon dans la table.\")"
   ]
  },
  {
   "cell_type": "markdown",
   "id": "a5b11a8e",
   "metadata": {},
   "source": [
    "## 1.6 - Disponibilite alimentaire totale des produits volaillers et des proteines de volaille"
   ]
  },
  {
   "cell_type": "code",
   "execution_count": 53,
   "id": "3707e2ec",
   "metadata": {},
   "outputs": [
    {
     "data": {
      "application/vnd.microsoft.datawrangler.viewer.v0+json": {
       "columns": [
        {
         "name": "index",
         "rawType": "int64",
         "type": "integer"
        },
        {
         "name": "Domain Code",
         "rawType": "object",
         "type": "string"
        },
        {
         "name": "Domain",
         "rawType": "object",
         "type": "string"
        },
        {
         "name": "Area Code (M49)",
         "rawType": "int64",
         "type": "integer"
        },
        {
         "name": "Area",
         "rawType": "object",
         "type": "string"
        },
        {
         "name": "Element Code",
         "rawType": "int64",
         "type": "integer"
        },
        {
         "name": "Element",
         "rawType": "object",
         "type": "string"
        },
        {
         "name": "Item Code (CPC)",
         "rawType": "object",
         "type": "string"
        },
        {
         "name": "Item",
         "rawType": "object",
         "type": "string"
        },
        {
         "name": "Year Code",
         "rawType": "int64",
         "type": "integer"
        },
        {
         "name": "Year",
         "rawType": "int64",
         "type": "integer"
        },
        {
         "name": "Unit",
         "rawType": "object",
         "type": "string"
        },
        {
         "name": "Value",
         "rawType": "float64",
         "type": "float"
        },
        {
         "name": "Flag",
         "rawType": "object",
         "type": "string"
        },
        {
         "name": "Flag Description",
         "rawType": "object",
         "type": "string"
        }
       ],
       "ref": "1529cc8b-3b54-4415-8991-9e6d5beb492f",
       "rows": [
        [
         "0",
         "SCL",
         "Supply Utilization Accounts (2010-)",
         "4",
         "Afghanistan",
         "5610",
         "Import Quantity",
         "21160.01",
         "Edible offals and liver of chickens and guinea fowl, fresh, chilled or frozen",
         "2020",
         "2020",
         "tonnes",
         "1.23",
         "T",
         "Unofficial figure"
        ],
        [
         "1",
         "SCL",
         "Supply Utilization Accounts (2010-)",
         "4",
         "Afghanistan",
         "5166",
         "Residuals",
         "21160.01",
         "Edible offals and liver of chickens and guinea fowl, fresh, chilled or frozen",
         "2020",
         "2020",
         "tonnes",
         "0.0",
         "I",
         "Imputed value"
        ],
        [
         "2",
         "SCL",
         "Supply Utilization Accounts (2010-)",
         "4",
         "Afghanistan",
         "5141",
         "Food supply quantity (tonnes)",
         "21160.01",
         "Edible offals and liver of chickens and guinea fowl, fresh, chilled or frozen",
         "2020",
         "2020",
         "tonnes",
         "1.23",
         "E",
         "Estimated value"
        ],
        [
         "3",
         "SCL",
         "Supply Utilization Accounts (2010-)",
         "4",
         "Afghanistan",
         "664",
         "Food supply (kcal/capita/day)",
         "21160.01",
         "Edible offals and liver of chickens and guinea fowl, fresh, chilled or frozen",
         "2020",
         "2020",
         "kcal/capita/day",
         "0.0",
         "I",
         "Imputed value"
        ],
        [
         "4",
         "SCL",
         "Supply Utilization Accounts (2010-)",
         "4",
         "Afghanistan",
         "665",
         "Food supply quantity (g/capita/day)",
         "21160.01",
         "Edible offals and liver of chickens and guinea fowl, fresh, chilled or frozen",
         "2020",
         "2020",
         "g/capita/day",
         "0.0",
         "I",
         "Imputed value"
        ],
        [
         "5",
         "SCL",
         "Supply Utilization Accounts (2010-)",
         "4",
         "Afghanistan",
         "674",
         "Protein supply quantity (g/capita/day)",
         "21160.01",
         "Edible offals and liver of chickens and guinea fowl, fresh, chilled or frozen",
         "2020",
         "2020",
         "g/capita/day",
         "0.0",
         "I",
         "Imputed value"
        ],
        [
         "6",
         "SCL",
         "Supply Utilization Accounts (2010-)",
         "4",
         "Afghanistan",
         "684",
         "Fat supply quantity (g/capita/day)",
         "21160.01",
         "Edible offals and liver of chickens and guinea fowl, fresh, chilled or frozen",
         "2020",
         "2020",
         "g/capita/day",
         "0.0",
         "I",
         "Imputed value"
        ],
        [
         "7",
         "SCL",
         "Supply Utilization Accounts (2010-)",
         "4",
         "Afghanistan",
         "261",
         "Calories/Year",
         "21160.01",
         "Edible offals and liver of chickens and guinea fowl, fresh, chilled or frozen",
         "2020",
         "2020",
         "million kcal",
         "1.53",
         "I",
         "Imputed value"
        ],
        [
         "8",
         "SCL",
         "Supply Utilization Accounts (2010-)",
         "4",
         "Afghanistan",
         "271",
         "Proteins/Year",
         "21160.01",
         "Edible offals and liver of chickens and guinea fowl, fresh, chilled or frozen",
         "2020",
         "2020",
         "tonnes",
         "0.22",
         "I",
         "Imputed value"
        ],
        [
         "9",
         "SCL",
         "Supply Utilization Accounts (2010-)",
         "4",
         "Afghanistan",
         "281",
         "Fats/Year",
         "21160.01",
         "Edible offals and liver of chickens and guinea fowl, fresh, chilled or frozen",
         "2020",
         "2020",
         "tonnes",
         "0.05",
         "I",
         "Imputed value"
        ],
        [
         "10",
         "SCL",
         "Supply Utilization Accounts (2010-)",
         "4",
         "Afghanistan",
         "5166",
         "Residuals",
         "21511.03",
         "Fat of poultry",
         "2020",
         "2020",
         "tonnes",
         "0.0",
         "I",
         "Imputed value"
        ],
        [
         "11",
         "SCL",
         "Supply Utilization Accounts (2010-)",
         "4",
         "Afghanistan",
         "5113",
         "Opening stocks",
         "21121",
         "Meat of chickens, fresh or chilled",
         "2020",
         "2020",
         "tonnes",
         "3183.07",
         "E",
         "Estimated value"
        ],
        [
         "12",
         "SCL",
         "Supply Utilization Accounts (2010-)",
         "4",
         "Afghanistan",
         "5510",
         "Production",
         "21121",
         "Meat of chickens, fresh or chilled",
         "2020",
         "2020",
         "tonnes",
         "27938.44",
         "I",
         "Imputed value"
        ],
        [
         "13",
         "SCL",
         "Supply Utilization Accounts (2010-)",
         "4",
         "Afghanistan",
         "5610",
         "Import Quantity",
         "21121",
         "Meat of chickens, fresh or chilled",
         "2020",
         "2020",
         "tonnes",
         "35616.91",
         "T",
         "Unofficial figure"
        ],
        [
         "14",
         "SCL",
         "Supply Utilization Accounts (2010-)",
         "4",
         "Afghanistan",
         "5071",
         "Stock Variation",
         "21121",
         "Meat of chickens, fresh or chilled",
         "2020",
         "2020",
         "tonnes",
         "-2471.01",
         "E",
         "Estimated value"
        ],
        [
         "15",
         "SCL",
         "Supply Utilization Accounts (2010-)",
         "4",
         "Afghanistan",
         "5910",
         "Export Quantity",
         "21121",
         "Meat of chickens, fresh or chilled",
         "2020",
         "2020",
         "tonnes",
         "0.24",
         "T",
         "Unofficial figure"
        ],
        [
         "16",
         "SCL",
         "Supply Utilization Accounts (2010-)",
         "4",
         "Afghanistan",
         "5166",
         "Residuals",
         "21121",
         "Meat of chickens, fresh or chilled",
         "2020",
         "2020",
         "tonnes",
         "0.0",
         "I",
         "Imputed value"
        ],
        [
         "17",
         "SCL",
         "Supply Utilization Accounts (2010-)",
         "4",
         "Afghanistan",
         "5141",
         "Food supply quantity (tonnes)",
         "21121",
         "Meat of chickens, fresh or chilled",
         "2020",
         "2020",
         "tonnes",
         "66026.13",
         "I",
         "Imputed value"
        ],
        [
         "18",
         "SCL",
         "Supply Utilization Accounts (2010-)",
         "4",
         "Afghanistan",
         "664",
         "Food supply (kcal/capita/day)",
         "21121",
         "Meat of chickens, fresh or chilled",
         "2020",
         "2020",
         "kcal/capita/day",
         "5.9",
         "I",
         "Imputed value"
        ],
        [
         "19",
         "SCL",
         "Supply Utilization Accounts (2010-)",
         "4",
         "Afghanistan",
         "665",
         "Food supply quantity (g/capita/day)",
         "21121",
         "Meat of chickens, fresh or chilled",
         "2020",
         "2020",
         "g/capita/day",
         "4.65",
         "I",
         "Imputed value"
        ],
        [
         "20",
         "SCL",
         "Supply Utilization Accounts (2010-)",
         "4",
         "Afghanistan",
         "674",
         "Protein supply quantity (g/capita/day)",
         "21121",
         "Meat of chickens, fresh or chilled",
         "2020",
         "2020",
         "g/capita/day",
         "0.6",
         "I",
         "Imputed value"
        ],
        [
         "21",
         "SCL",
         "Supply Utilization Accounts (2010-)",
         "4",
         "Afghanistan",
         "684",
         "Fat supply quantity (g/capita/day)",
         "21121",
         "Meat of chickens, fresh or chilled",
         "2020",
         "2020",
         "g/capita/day",
         "0.37",
         "I",
         "Imputed value"
        ],
        [
         "22",
         "SCL",
         "Supply Utilization Accounts (2010-)",
         "4",
         "Afghanistan",
         "261",
         "Calories/Year",
         "21121",
         "Meat of chickens, fresh or chilled",
         "2020",
         "2020",
         "million kcal",
         "83853.18",
         "I",
         "Imputed value"
        ],
        [
         "23",
         "SCL",
         "Supply Utilization Accounts (2010-)",
         "4",
         "Afghanistan",
         "271",
         "Proteins/Year",
         "21121",
         "Meat of chickens, fresh or chilled",
         "2020",
         "2020",
         "tonnes",
         "8583.4",
         "I",
         "Imputed value"
        ],
        [
         "24",
         "SCL",
         "Supply Utilization Accounts (2010-)",
         "4",
         "Afghanistan",
         "281",
         "Fats/Year",
         "21121",
         "Meat of chickens, fresh or chilled",
         "2020",
         "2020",
         "tonnes",
         "5216.06",
         "I",
         "Imputed value"
        ],
        [
         "25",
         "SCL",
         "Supply Utilization Accounts (2010-)",
         "4",
         "Afghanistan",
         "5166",
         "Residuals",
         "21522",
         "Poultry fat, rendered",
         "2020",
         "2020",
         "tonnes",
         "0.0",
         "I",
         "Imputed value"
        ],
        [
         "26",
         "SCL",
         "Supply Utilization Accounts (2010-)",
         "4",
         "Afghanistan",
         "5610",
         "Import Quantity",
         "F1061",
         "Poultry meat preparations",
         "2020",
         "2020",
         "tonnes",
         "303.41",
         "T",
         "Unofficial figure"
        ],
        [
         "27",
         "SCL",
         "Supply Utilization Accounts (2010-)",
         "4",
         "Afghanistan",
         "5910",
         "Export Quantity",
         "F1061",
         "Poultry meat preparations",
         "2020",
         "2020",
         "tonnes",
         "0.0",
         "T",
         "Unofficial figure"
        ],
        [
         "28",
         "SCL",
         "Supply Utilization Accounts (2010-)",
         "4",
         "Afghanistan",
         "5166",
         "Residuals",
         "F1061",
         "Poultry meat preparations",
         "2020",
         "2020",
         "tonnes",
         "0.0",
         "I",
         "Imputed value"
        ],
        [
         "29",
         "SCL",
         "Supply Utilization Accounts (2010-)",
         "4",
         "Afghanistan",
         "5141",
         "Food supply quantity (tonnes)",
         "F1061",
         "Poultry meat preparations",
         "2020",
         "2020",
         "tonnes",
         "303.41",
         "E",
         "Estimated value"
        ],
        [
         "30",
         "SCL",
         "Supply Utilization Accounts (2010-)",
         "4",
         "Afghanistan",
         "664",
         "Food supply (kcal/capita/day)",
         "F1061",
         "Poultry meat preparations",
         "2020",
         "2020",
         "kcal/capita/day",
         "0.04",
         "I",
         "Imputed value"
        ],
        [
         "31",
         "SCL",
         "Supply Utilization Accounts (2010-)",
         "4",
         "Afghanistan",
         "665",
         "Food supply quantity (g/capita/day)",
         "F1061",
         "Poultry meat preparations",
         "2020",
         "2020",
         "g/capita/day",
         "0.02",
         "I",
         "Imputed value"
        ],
        [
         "32",
         "SCL",
         "Supply Utilization Accounts (2010-)",
         "4",
         "Afghanistan",
         "674",
         "Protein supply quantity (g/capita/day)",
         "F1061",
         "Poultry meat preparations",
         "2020",
         "2020",
         "g/capita/day",
         "0.0",
         "I",
         "Imputed value"
        ],
        [
         "33",
         "SCL",
         "Supply Utilization Accounts (2010-)",
         "4",
         "Afghanistan",
         "684",
         "Fat supply quantity (g/capita/day)",
         "F1061",
         "Poultry meat preparations",
         "2020",
         "2020",
         "g/capita/day",
         "0.0",
         "I",
         "Imputed value"
        ],
        [
         "34",
         "SCL",
         "Supply Utilization Accounts (2010-)",
         "4",
         "Afghanistan",
         "261",
         "Calories/Year",
         "F1061",
         "Poultry meat preparations",
         "2020",
         "2020",
         "million kcal",
         "500.62",
         "I",
         "Imputed value"
        ],
        [
         "35",
         "SCL",
         "Supply Utilization Accounts (2010-)",
         "4",
         "Afghanistan",
         "271",
         "Proteins/Year",
         "F1061",
         "Poultry meat preparations",
         "2020",
         "2020",
         "tonnes",
         "66.14",
         "I",
         "Imputed value"
        ],
        [
         "36",
         "SCL",
         "Supply Utilization Accounts (2010-)",
         "4",
         "Afghanistan",
         "281",
         "Fats/Year",
         "F1061",
         "Poultry meat preparations",
         "2020",
         "2020",
         "tonnes",
         "24.27",
         "I",
         "Imputed value"
        ],
        [
         "37",
         "SCL",
         "Supply Utilization Accounts (2010-)",
         "8",
         "Albania",
         "5610",
         "Import Quantity",
         "21160.01",
         "Edible offals and liver of chickens and guinea fowl, fresh, chilled or frozen",
         "2020",
         "2020",
         "tonnes",
         "2469.93",
         "A",
         "Official figure"
        ],
        [
         "38",
         "SCL",
         "Supply Utilization Accounts (2010-)",
         "8",
         "Albania",
         "5166",
         "Residuals",
         "21160.01",
         "Edible offals and liver of chickens and guinea fowl, fresh, chilled or frozen",
         "2020",
         "2020",
         "tonnes",
         "0.0",
         "I",
         "Imputed value"
        ],
        [
         "39",
         "SCL",
         "Supply Utilization Accounts (2010-)",
         "8",
         "Albania",
         "5141",
         "Food supply quantity (tonnes)",
         "21160.01",
         "Edible offals and liver of chickens and guinea fowl, fresh, chilled or frozen",
         "2020",
         "2020",
         "tonnes",
         "2469.93",
         "E",
         "Estimated value"
        ],
        [
         "40",
         "SCL",
         "Supply Utilization Accounts (2010-)",
         "8",
         "Albania",
         "664",
         "Food supply (kcal/capita/day)",
         "21160.01",
         "Edible offals and liver of chickens and guinea fowl, fresh, chilled or frozen",
         "2020",
         "2020",
         "kcal/capita/day",
         "2.94",
         "I",
         "Imputed value"
        ],
        [
         "41",
         "SCL",
         "Supply Utilization Accounts (2010-)",
         "8",
         "Albania",
         "665",
         "Food supply quantity (g/capita/day)",
         "21160.01",
         "Edible offals and liver of chickens and guinea fowl, fresh, chilled or frozen",
         "2020",
         "2020",
         "g/capita/day",
         "2.35",
         "I",
         "Imputed value"
        ],
        [
         "42",
         "SCL",
         "Supply Utilization Accounts (2010-)",
         "8",
         "Albania",
         "674",
         "Protein supply quantity (g/capita/day)",
         "21160.01",
         "Edible offals and liver of chickens and guinea fowl, fresh, chilled or frozen",
         "2020",
         "2020",
         "g/capita/day",
         "0.42",
         "I",
         "Imputed value"
        ],
        [
         "43",
         "SCL",
         "Supply Utilization Accounts (2010-)",
         "8",
         "Albania",
         "684",
         "Fat supply quantity (g/capita/day)",
         "21160.01",
         "Edible offals and liver of chickens and guinea fowl, fresh, chilled or frozen",
         "2020",
         "2020",
         "g/capita/day",
         "0.09",
         "I",
         "Imputed value"
        ],
        [
         "44",
         "SCL",
         "Supply Utilization Accounts (2010-)",
         "8",
         "Albania",
         "261",
         "Calories/Year",
         "21160.01",
         "Edible offals and liver of chickens and guinea fowl, fresh, chilled or frozen",
         "2020",
         "2020",
         "million kcal",
         "3087.42",
         "I",
         "Imputed value"
        ],
        [
         "45",
         "SCL",
         "Supply Utilization Accounts (2010-)",
         "8",
         "Albania",
         "271",
         "Proteins/Year",
         "21160.01",
         "Edible offals and liver of chickens and guinea fowl, fresh, chilled or frozen",
         "2020",
         "2020",
         "tonnes",
         "444.59",
         "I",
         "Imputed value"
        ],
        [
         "46",
         "SCL",
         "Supply Utilization Accounts (2010-)",
         "8",
         "Albania",
         "281",
         "Fats/Year",
         "21160.01",
         "Edible offals and liver of chickens and guinea fowl, fresh, chilled or frozen",
         "2020",
         "2020",
         "tonnes",
         "96.33",
         "I",
         "Imputed value"
        ],
        [
         "47",
         "SCL",
         "Supply Utilization Accounts (2010-)",
         "8",
         "Albania",
         "5166",
         "Residuals",
         "21511.03",
         "Fat of poultry",
         "2020",
         "2020",
         "tonnes",
         "0.0",
         "I",
         "Imputed value"
        ],
        [
         "48",
         "SCL",
         "Supply Utilization Accounts (2010-)",
         "8",
         "Albania",
         "5141",
         "Food supply quantity (tonnes)",
         "21511.03",
         "Fat of poultry",
         "2020",
         "2020",
         "tonnes",
         "0.0",
         "E",
         "Estimated value"
        ],
        [
         "49",
         "SCL",
         "Supply Utilization Accounts (2010-)",
         "8",
         "Albania",
         "664",
         "Food supply (kcal/capita/day)",
         "21511.03",
         "Fat of poultry",
         "2020",
         "2020",
         "kcal/capita/day",
         "0.0",
         "I",
         "Imputed value"
        ]
       ],
       "shape": {
        "columns": 14,
        "rows": 60
       }
      },
      "text/html": [
       "<div>\n",
       "<style scoped>\n",
       "    .dataframe tbody tr th:only-of-type {\n",
       "        vertical-align: middle;\n",
       "    }\n",
       "\n",
       "    .dataframe tbody tr th {\n",
       "        vertical-align: top;\n",
       "    }\n",
       "\n",
       "    .dataframe thead th {\n",
       "        text-align: right;\n",
       "    }\n",
       "</style>\n",
       "<table border=\"1\" class=\"dataframe\">\n",
       "  <thead>\n",
       "    <tr style=\"text-align: right;\">\n",
       "      <th></th>\n",
       "      <th>Domain Code</th>\n",
       "      <th>Domain</th>\n",
       "      <th>Area Code (M49)</th>\n",
       "      <th>Area</th>\n",
       "      <th>Element Code</th>\n",
       "      <th>Element</th>\n",
       "      <th>Item Code (CPC)</th>\n",
       "      <th>Item</th>\n",
       "      <th>Year Code</th>\n",
       "      <th>Year</th>\n",
       "      <th>Unit</th>\n",
       "      <th>Value</th>\n",
       "      <th>Flag</th>\n",
       "      <th>Flag Description</th>\n",
       "    </tr>\n",
       "  </thead>\n",
       "  <tbody>\n",
       "    <tr>\n",
       "      <th>0</th>\n",
       "      <td>SCL</td>\n",
       "      <td>Supply Utilization Accounts (2010-)</td>\n",
       "      <td>4</td>\n",
       "      <td>Afghanistan</td>\n",
       "      <td>5610</td>\n",
       "      <td>Import Quantity</td>\n",
       "      <td>21160.01</td>\n",
       "      <td>Edible offals and liver of chickens and guinea fowl, fresh, chilled or frozen</td>\n",
       "      <td>2020</td>\n",
       "      <td>2020</td>\n",
       "      <td>tonnes</td>\n",
       "      <td>1.23</td>\n",
       "      <td>T</td>\n",
       "      <td>Unofficial figure</td>\n",
       "    </tr>\n",
       "    <tr>\n",
       "      <th>1</th>\n",
       "      <td>SCL</td>\n",
       "      <td>Supply Utilization Accounts (2010-)</td>\n",
       "      <td>4</td>\n",
       "      <td>Afghanistan</td>\n",
       "      <td>5166</td>\n",
       "      <td>Residuals</td>\n",
       "      <td>21160.01</td>\n",
       "      <td>Edible offals and liver of chickens and guinea fowl, fresh, chilled or frozen</td>\n",
       "      <td>2020</td>\n",
       "      <td>2020</td>\n",
       "      <td>tonnes</td>\n",
       "      <td>0.00</td>\n",
       "      <td>I</td>\n",
       "      <td>Imputed value</td>\n",
       "    </tr>\n",
       "    <tr>\n",
       "      <th>2</th>\n",
       "      <td>SCL</td>\n",
       "      <td>Supply Utilization Accounts (2010-)</td>\n",
       "      <td>4</td>\n",
       "      <td>Afghanistan</td>\n",
       "      <td>5141</td>\n",
       "      <td>Food supply quantity (tonnes)</td>\n",
       "      <td>21160.01</td>\n",
       "      <td>Edible offals and liver of chickens and guinea fowl, fresh, chilled or frozen</td>\n",
       "      <td>2020</td>\n",
       "      <td>2020</td>\n",
       "      <td>tonnes</td>\n",
       "      <td>1.23</td>\n",
       "      <td>E</td>\n",
       "      <td>Estimated value</td>\n",
       "    </tr>\n",
       "    <tr>\n",
       "      <th>3</th>\n",
       "      <td>SCL</td>\n",
       "      <td>Supply Utilization Accounts (2010-)</td>\n",
       "      <td>4</td>\n",
       "      <td>Afghanistan</td>\n",
       "      <td>664</td>\n",
       "      <td>Food supply (kcal/capita/day)</td>\n",
       "      <td>21160.01</td>\n",
       "      <td>Edible offals and liver of chickens and guinea fowl, fresh, chilled or frozen</td>\n",
       "      <td>2020</td>\n",
       "      <td>2020</td>\n",
       "      <td>kcal/capita/day</td>\n",
       "      <td>0.00</td>\n",
       "      <td>I</td>\n",
       "      <td>Imputed value</td>\n",
       "    </tr>\n",
       "    <tr>\n",
       "      <th>4</th>\n",
       "      <td>SCL</td>\n",
       "      <td>Supply Utilization Accounts (2010-)</td>\n",
       "      <td>4</td>\n",
       "      <td>Afghanistan</td>\n",
       "      <td>665</td>\n",
       "      <td>Food supply quantity (g/capita/day)</td>\n",
       "      <td>21160.01</td>\n",
       "      <td>Edible offals and liver of chickens and guinea fowl, fresh, chilled or frozen</td>\n",
       "      <td>2020</td>\n",
       "      <td>2020</td>\n",
       "      <td>g/capita/day</td>\n",
       "      <td>0.00</td>\n",
       "      <td>I</td>\n",
       "      <td>Imputed value</td>\n",
       "    </tr>\n",
       "    <tr>\n",
       "      <th>5</th>\n",
       "      <td>SCL</td>\n",
       "      <td>Supply Utilization Accounts (2010-)</td>\n",
       "      <td>4</td>\n",
       "      <td>Afghanistan</td>\n",
       "      <td>674</td>\n",
       "      <td>Protein supply quantity (g/capita/day)</td>\n",
       "      <td>21160.01</td>\n",
       "      <td>Edible offals and liver of chickens and guinea fowl, fresh, chilled or frozen</td>\n",
       "      <td>2020</td>\n",
       "      <td>2020</td>\n",
       "      <td>g/capita/day</td>\n",
       "      <td>0.00</td>\n",
       "      <td>I</td>\n",
       "      <td>Imputed value</td>\n",
       "    </tr>\n",
       "    <tr>\n",
       "      <th>6</th>\n",
       "      <td>SCL</td>\n",
       "      <td>Supply Utilization Accounts (2010-)</td>\n",
       "      <td>4</td>\n",
       "      <td>Afghanistan</td>\n",
       "      <td>684</td>\n",
       "      <td>Fat supply quantity (g/capita/day)</td>\n",
       "      <td>21160.01</td>\n",
       "      <td>Edible offals and liver of chickens and guinea fowl, fresh, chilled or frozen</td>\n",
       "      <td>2020</td>\n",
       "      <td>2020</td>\n",
       "      <td>g/capita/day</td>\n",
       "      <td>0.00</td>\n",
       "      <td>I</td>\n",
       "      <td>Imputed value</td>\n",
       "    </tr>\n",
       "    <tr>\n",
       "      <th>7</th>\n",
       "      <td>SCL</td>\n",
       "      <td>Supply Utilization Accounts (2010-)</td>\n",
       "      <td>4</td>\n",
       "      <td>Afghanistan</td>\n",
       "      <td>261</td>\n",
       "      <td>Calories/Year</td>\n",
       "      <td>21160.01</td>\n",
       "      <td>Edible offals and liver of chickens and guinea fowl, fresh, chilled or frozen</td>\n",
       "      <td>2020</td>\n",
       "      <td>2020</td>\n",
       "      <td>million kcal</td>\n",
       "      <td>1.53</td>\n",
       "      <td>I</td>\n",
       "      <td>Imputed value</td>\n",
       "    </tr>\n",
       "    <tr>\n",
       "      <th>8</th>\n",
       "      <td>SCL</td>\n",
       "      <td>Supply Utilization Accounts (2010-)</td>\n",
       "      <td>4</td>\n",
       "      <td>Afghanistan</td>\n",
       "      <td>271</td>\n",
       "      <td>Proteins/Year</td>\n",
       "      <td>21160.01</td>\n",
       "      <td>Edible offals and liver of chickens and guinea fowl, fresh, chilled or frozen</td>\n",
       "      <td>2020</td>\n",
       "      <td>2020</td>\n",
       "      <td>tonnes</td>\n",
       "      <td>0.22</td>\n",
       "      <td>I</td>\n",
       "      <td>Imputed value</td>\n",
       "    </tr>\n",
       "    <tr>\n",
       "      <th>9</th>\n",
       "      <td>SCL</td>\n",
       "      <td>Supply Utilization Accounts (2010-)</td>\n",
       "      <td>4</td>\n",
       "      <td>Afghanistan</td>\n",
       "      <td>281</td>\n",
       "      <td>Fats/Year</td>\n",
       "      <td>21160.01</td>\n",
       "      <td>Edible offals and liver of chickens and guinea fowl, fresh, chilled or frozen</td>\n",
       "      <td>2020</td>\n",
       "      <td>2020</td>\n",
       "      <td>tonnes</td>\n",
       "      <td>0.05</td>\n",
       "      <td>I</td>\n",
       "      <td>Imputed value</td>\n",
       "    </tr>\n",
       "    <tr>\n",
       "      <th>10</th>\n",
       "      <td>SCL</td>\n",
       "      <td>Supply Utilization Accounts (2010-)</td>\n",
       "      <td>4</td>\n",
       "      <td>Afghanistan</td>\n",
       "      <td>5166</td>\n",
       "      <td>Residuals</td>\n",
       "      <td>21511.03</td>\n",
       "      <td>Fat of poultry</td>\n",
       "      <td>2020</td>\n",
       "      <td>2020</td>\n",
       "      <td>tonnes</td>\n",
       "      <td>0.00</td>\n",
       "      <td>I</td>\n",
       "      <td>Imputed value</td>\n",
       "    </tr>\n",
       "    <tr>\n",
       "      <th>11</th>\n",
       "      <td>SCL</td>\n",
       "      <td>Supply Utilization Accounts (2010-)</td>\n",
       "      <td>4</td>\n",
       "      <td>Afghanistan</td>\n",
       "      <td>5113</td>\n",
       "      <td>Opening stocks</td>\n",
       "      <td>21121</td>\n",
       "      <td>Meat of chickens, fresh or chilled</td>\n",
       "      <td>2020</td>\n",
       "      <td>2020</td>\n",
       "      <td>tonnes</td>\n",
       "      <td>3183.07</td>\n",
       "      <td>E</td>\n",
       "      <td>Estimated value</td>\n",
       "    </tr>\n",
       "    <tr>\n",
       "      <th>12</th>\n",
       "      <td>SCL</td>\n",
       "      <td>Supply Utilization Accounts (2010-)</td>\n",
       "      <td>4</td>\n",
       "      <td>Afghanistan</td>\n",
       "      <td>5510</td>\n",
       "      <td>Production</td>\n",
       "      <td>21121</td>\n",
       "      <td>Meat of chickens, fresh or chilled</td>\n",
       "      <td>2020</td>\n",
       "      <td>2020</td>\n",
       "      <td>tonnes</td>\n",
       "      <td>27938.44</td>\n",
       "      <td>I</td>\n",
       "      <td>Imputed value</td>\n",
       "    </tr>\n",
       "    <tr>\n",
       "      <th>13</th>\n",
       "      <td>SCL</td>\n",
       "      <td>Supply Utilization Accounts (2010-)</td>\n",
       "      <td>4</td>\n",
       "      <td>Afghanistan</td>\n",
       "      <td>5610</td>\n",
       "      <td>Import Quantity</td>\n",
       "      <td>21121</td>\n",
       "      <td>Meat of chickens, fresh or chilled</td>\n",
       "      <td>2020</td>\n",
       "      <td>2020</td>\n",
       "      <td>tonnes</td>\n",
       "      <td>35616.91</td>\n",
       "      <td>T</td>\n",
       "      <td>Unofficial figure</td>\n",
       "    </tr>\n",
       "    <tr>\n",
       "      <th>14</th>\n",
       "      <td>SCL</td>\n",
       "      <td>Supply Utilization Accounts (2010-)</td>\n",
       "      <td>4</td>\n",
       "      <td>Afghanistan</td>\n",
       "      <td>5071</td>\n",
       "      <td>Stock Variation</td>\n",
       "      <td>21121</td>\n",
       "      <td>Meat of chickens, fresh or chilled</td>\n",
       "      <td>2020</td>\n",
       "      <td>2020</td>\n",
       "      <td>tonnes</td>\n",
       "      <td>-2471.01</td>\n",
       "      <td>E</td>\n",
       "      <td>Estimated value</td>\n",
       "    </tr>\n",
       "    <tr>\n",
       "      <th>15</th>\n",
       "      <td>SCL</td>\n",
       "      <td>Supply Utilization Accounts (2010-)</td>\n",
       "      <td>4</td>\n",
       "      <td>Afghanistan</td>\n",
       "      <td>5910</td>\n",
       "      <td>Export Quantity</td>\n",
       "      <td>21121</td>\n",
       "      <td>Meat of chickens, fresh or chilled</td>\n",
       "      <td>2020</td>\n",
       "      <td>2020</td>\n",
       "      <td>tonnes</td>\n",
       "      <td>0.24</td>\n",
       "      <td>T</td>\n",
       "      <td>Unofficial figure</td>\n",
       "    </tr>\n",
       "    <tr>\n",
       "      <th>16</th>\n",
       "      <td>SCL</td>\n",
       "      <td>Supply Utilization Accounts (2010-)</td>\n",
       "      <td>4</td>\n",
       "      <td>Afghanistan</td>\n",
       "      <td>5166</td>\n",
       "      <td>Residuals</td>\n",
       "      <td>21121</td>\n",
       "      <td>Meat of chickens, fresh or chilled</td>\n",
       "      <td>2020</td>\n",
       "      <td>2020</td>\n",
       "      <td>tonnes</td>\n",
       "      <td>0.00</td>\n",
       "      <td>I</td>\n",
       "      <td>Imputed value</td>\n",
       "    </tr>\n",
       "    <tr>\n",
       "      <th>17</th>\n",
       "      <td>SCL</td>\n",
       "      <td>Supply Utilization Accounts (2010-)</td>\n",
       "      <td>4</td>\n",
       "      <td>Afghanistan</td>\n",
       "      <td>5141</td>\n",
       "      <td>Food supply quantity (tonnes)</td>\n",
       "      <td>21121</td>\n",
       "      <td>Meat of chickens, fresh or chilled</td>\n",
       "      <td>2020</td>\n",
       "      <td>2020</td>\n",
       "      <td>tonnes</td>\n",
       "      <td>66026.13</td>\n",
       "      <td>I</td>\n",
       "      <td>Imputed value</td>\n",
       "    </tr>\n",
       "    <tr>\n",
       "      <th>18</th>\n",
       "      <td>SCL</td>\n",
       "      <td>Supply Utilization Accounts (2010-)</td>\n",
       "      <td>4</td>\n",
       "      <td>Afghanistan</td>\n",
       "      <td>664</td>\n",
       "      <td>Food supply (kcal/capita/day)</td>\n",
       "      <td>21121</td>\n",
       "      <td>Meat of chickens, fresh or chilled</td>\n",
       "      <td>2020</td>\n",
       "      <td>2020</td>\n",
       "      <td>kcal/capita/day</td>\n",
       "      <td>5.90</td>\n",
       "      <td>I</td>\n",
       "      <td>Imputed value</td>\n",
       "    </tr>\n",
       "    <tr>\n",
       "      <th>19</th>\n",
       "      <td>SCL</td>\n",
       "      <td>Supply Utilization Accounts (2010-)</td>\n",
       "      <td>4</td>\n",
       "      <td>Afghanistan</td>\n",
       "      <td>665</td>\n",
       "      <td>Food supply quantity (g/capita/day)</td>\n",
       "      <td>21121</td>\n",
       "      <td>Meat of chickens, fresh or chilled</td>\n",
       "      <td>2020</td>\n",
       "      <td>2020</td>\n",
       "      <td>g/capita/day</td>\n",
       "      <td>4.65</td>\n",
       "      <td>I</td>\n",
       "      <td>Imputed value</td>\n",
       "    </tr>\n",
       "    <tr>\n",
       "      <th>20</th>\n",
       "      <td>SCL</td>\n",
       "      <td>Supply Utilization Accounts (2010-)</td>\n",
       "      <td>4</td>\n",
       "      <td>Afghanistan</td>\n",
       "      <td>674</td>\n",
       "      <td>Protein supply quantity (g/capita/day)</td>\n",
       "      <td>21121</td>\n",
       "      <td>Meat of chickens, fresh or chilled</td>\n",
       "      <td>2020</td>\n",
       "      <td>2020</td>\n",
       "      <td>g/capita/day</td>\n",
       "      <td>0.60</td>\n",
       "      <td>I</td>\n",
       "      <td>Imputed value</td>\n",
       "    </tr>\n",
       "    <tr>\n",
       "      <th>21</th>\n",
       "      <td>SCL</td>\n",
       "      <td>Supply Utilization Accounts (2010-)</td>\n",
       "      <td>4</td>\n",
       "      <td>Afghanistan</td>\n",
       "      <td>684</td>\n",
       "      <td>Fat supply quantity (g/capita/day)</td>\n",
       "      <td>21121</td>\n",
       "      <td>Meat of chickens, fresh or chilled</td>\n",
       "      <td>2020</td>\n",
       "      <td>2020</td>\n",
       "      <td>g/capita/day</td>\n",
       "      <td>0.37</td>\n",
       "      <td>I</td>\n",
       "      <td>Imputed value</td>\n",
       "    </tr>\n",
       "    <tr>\n",
       "      <th>22</th>\n",
       "      <td>SCL</td>\n",
       "      <td>Supply Utilization Accounts (2010-)</td>\n",
       "      <td>4</td>\n",
       "      <td>Afghanistan</td>\n",
       "      <td>261</td>\n",
       "      <td>Calories/Year</td>\n",
       "      <td>21121</td>\n",
       "      <td>Meat of chickens, fresh or chilled</td>\n",
       "      <td>2020</td>\n",
       "      <td>2020</td>\n",
       "      <td>million kcal</td>\n",
       "      <td>83853.18</td>\n",
       "      <td>I</td>\n",
       "      <td>Imputed value</td>\n",
       "    </tr>\n",
       "    <tr>\n",
       "      <th>23</th>\n",
       "      <td>SCL</td>\n",
       "      <td>Supply Utilization Accounts (2010-)</td>\n",
       "      <td>4</td>\n",
       "      <td>Afghanistan</td>\n",
       "      <td>271</td>\n",
       "      <td>Proteins/Year</td>\n",
       "      <td>21121</td>\n",
       "      <td>Meat of chickens, fresh or chilled</td>\n",
       "      <td>2020</td>\n",
       "      <td>2020</td>\n",
       "      <td>tonnes</td>\n",
       "      <td>8583.40</td>\n",
       "      <td>I</td>\n",
       "      <td>Imputed value</td>\n",
       "    </tr>\n",
       "    <tr>\n",
       "      <th>24</th>\n",
       "      <td>SCL</td>\n",
       "      <td>Supply Utilization Accounts (2010-)</td>\n",
       "      <td>4</td>\n",
       "      <td>Afghanistan</td>\n",
       "      <td>281</td>\n",
       "      <td>Fats/Year</td>\n",
       "      <td>21121</td>\n",
       "      <td>Meat of chickens, fresh or chilled</td>\n",
       "      <td>2020</td>\n",
       "      <td>2020</td>\n",
       "      <td>tonnes</td>\n",
       "      <td>5216.06</td>\n",
       "      <td>I</td>\n",
       "      <td>Imputed value</td>\n",
       "    </tr>\n",
       "    <tr>\n",
       "      <th>25</th>\n",
       "      <td>SCL</td>\n",
       "      <td>Supply Utilization Accounts (2010-)</td>\n",
       "      <td>4</td>\n",
       "      <td>Afghanistan</td>\n",
       "      <td>5166</td>\n",
       "      <td>Residuals</td>\n",
       "      <td>21522</td>\n",
       "      <td>Poultry fat, rendered</td>\n",
       "      <td>2020</td>\n",
       "      <td>2020</td>\n",
       "      <td>tonnes</td>\n",
       "      <td>0.00</td>\n",
       "      <td>I</td>\n",
       "      <td>Imputed value</td>\n",
       "    </tr>\n",
       "    <tr>\n",
       "      <th>26</th>\n",
       "      <td>SCL</td>\n",
       "      <td>Supply Utilization Accounts (2010-)</td>\n",
       "      <td>4</td>\n",
       "      <td>Afghanistan</td>\n",
       "      <td>5610</td>\n",
       "      <td>Import Quantity</td>\n",
       "      <td>F1061</td>\n",
       "      <td>Poultry meat preparations</td>\n",
       "      <td>2020</td>\n",
       "      <td>2020</td>\n",
       "      <td>tonnes</td>\n",
       "      <td>303.41</td>\n",
       "      <td>T</td>\n",
       "      <td>Unofficial figure</td>\n",
       "    </tr>\n",
       "    <tr>\n",
       "      <th>27</th>\n",
       "      <td>SCL</td>\n",
       "      <td>Supply Utilization Accounts (2010-)</td>\n",
       "      <td>4</td>\n",
       "      <td>Afghanistan</td>\n",
       "      <td>5910</td>\n",
       "      <td>Export Quantity</td>\n",
       "      <td>F1061</td>\n",
       "      <td>Poultry meat preparations</td>\n",
       "      <td>2020</td>\n",
       "      <td>2020</td>\n",
       "      <td>tonnes</td>\n",
       "      <td>0.00</td>\n",
       "      <td>T</td>\n",
       "      <td>Unofficial figure</td>\n",
       "    </tr>\n",
       "    <tr>\n",
       "      <th>28</th>\n",
       "      <td>SCL</td>\n",
       "      <td>Supply Utilization Accounts (2010-)</td>\n",
       "      <td>4</td>\n",
       "      <td>Afghanistan</td>\n",
       "      <td>5166</td>\n",
       "      <td>Residuals</td>\n",
       "      <td>F1061</td>\n",
       "      <td>Poultry meat preparations</td>\n",
       "      <td>2020</td>\n",
       "      <td>2020</td>\n",
       "      <td>tonnes</td>\n",
       "      <td>0.00</td>\n",
       "      <td>I</td>\n",
       "      <td>Imputed value</td>\n",
       "    </tr>\n",
       "    <tr>\n",
       "      <th>29</th>\n",
       "      <td>SCL</td>\n",
       "      <td>Supply Utilization Accounts (2010-)</td>\n",
       "      <td>4</td>\n",
       "      <td>Afghanistan</td>\n",
       "      <td>5141</td>\n",
       "      <td>Food supply quantity (tonnes)</td>\n",
       "      <td>F1061</td>\n",
       "      <td>Poultry meat preparations</td>\n",
       "      <td>2020</td>\n",
       "      <td>2020</td>\n",
       "      <td>tonnes</td>\n",
       "      <td>303.41</td>\n",
       "      <td>E</td>\n",
       "      <td>Estimated value</td>\n",
       "    </tr>\n",
       "    <tr>\n",
       "      <th>30</th>\n",
       "      <td>SCL</td>\n",
       "      <td>Supply Utilization Accounts (2010-)</td>\n",
       "      <td>4</td>\n",
       "      <td>Afghanistan</td>\n",
       "      <td>664</td>\n",
       "      <td>Food supply (kcal/capita/day)</td>\n",
       "      <td>F1061</td>\n",
       "      <td>Poultry meat preparations</td>\n",
       "      <td>2020</td>\n",
       "      <td>2020</td>\n",
       "      <td>kcal/capita/day</td>\n",
       "      <td>0.04</td>\n",
       "      <td>I</td>\n",
       "      <td>Imputed value</td>\n",
       "    </tr>\n",
       "    <tr>\n",
       "      <th>31</th>\n",
       "      <td>SCL</td>\n",
       "      <td>Supply Utilization Accounts (2010-)</td>\n",
       "      <td>4</td>\n",
       "      <td>Afghanistan</td>\n",
       "      <td>665</td>\n",
       "      <td>Food supply quantity (g/capita/day)</td>\n",
       "      <td>F1061</td>\n",
       "      <td>Poultry meat preparations</td>\n",
       "      <td>2020</td>\n",
       "      <td>2020</td>\n",
       "      <td>g/capita/day</td>\n",
       "      <td>0.02</td>\n",
       "      <td>I</td>\n",
       "      <td>Imputed value</td>\n",
       "    </tr>\n",
       "    <tr>\n",
       "      <th>32</th>\n",
       "      <td>SCL</td>\n",
       "      <td>Supply Utilization Accounts (2010-)</td>\n",
       "      <td>4</td>\n",
       "      <td>Afghanistan</td>\n",
       "      <td>674</td>\n",
       "      <td>Protein supply quantity (g/capita/day)</td>\n",
       "      <td>F1061</td>\n",
       "      <td>Poultry meat preparations</td>\n",
       "      <td>2020</td>\n",
       "      <td>2020</td>\n",
       "      <td>g/capita/day</td>\n",
       "      <td>0.00</td>\n",
       "      <td>I</td>\n",
       "      <td>Imputed value</td>\n",
       "    </tr>\n",
       "    <tr>\n",
       "      <th>33</th>\n",
       "      <td>SCL</td>\n",
       "      <td>Supply Utilization Accounts (2010-)</td>\n",
       "      <td>4</td>\n",
       "      <td>Afghanistan</td>\n",
       "      <td>684</td>\n",
       "      <td>Fat supply quantity (g/capita/day)</td>\n",
       "      <td>F1061</td>\n",
       "      <td>Poultry meat preparations</td>\n",
       "      <td>2020</td>\n",
       "      <td>2020</td>\n",
       "      <td>g/capita/day</td>\n",
       "      <td>0.00</td>\n",
       "      <td>I</td>\n",
       "      <td>Imputed value</td>\n",
       "    </tr>\n",
       "    <tr>\n",
       "      <th>34</th>\n",
       "      <td>SCL</td>\n",
       "      <td>Supply Utilization Accounts (2010-)</td>\n",
       "      <td>4</td>\n",
       "      <td>Afghanistan</td>\n",
       "      <td>261</td>\n",
       "      <td>Calories/Year</td>\n",
       "      <td>F1061</td>\n",
       "      <td>Poultry meat preparations</td>\n",
       "      <td>2020</td>\n",
       "      <td>2020</td>\n",
       "      <td>million kcal</td>\n",
       "      <td>500.62</td>\n",
       "      <td>I</td>\n",
       "      <td>Imputed value</td>\n",
       "    </tr>\n",
       "    <tr>\n",
       "      <th>35</th>\n",
       "      <td>SCL</td>\n",
       "      <td>Supply Utilization Accounts (2010-)</td>\n",
       "      <td>4</td>\n",
       "      <td>Afghanistan</td>\n",
       "      <td>271</td>\n",
       "      <td>Proteins/Year</td>\n",
       "      <td>F1061</td>\n",
       "      <td>Poultry meat preparations</td>\n",
       "      <td>2020</td>\n",
       "      <td>2020</td>\n",
       "      <td>tonnes</td>\n",
       "      <td>66.14</td>\n",
       "      <td>I</td>\n",
       "      <td>Imputed value</td>\n",
       "    </tr>\n",
       "    <tr>\n",
       "      <th>36</th>\n",
       "      <td>SCL</td>\n",
       "      <td>Supply Utilization Accounts (2010-)</td>\n",
       "      <td>4</td>\n",
       "      <td>Afghanistan</td>\n",
       "      <td>281</td>\n",
       "      <td>Fats/Year</td>\n",
       "      <td>F1061</td>\n",
       "      <td>Poultry meat preparations</td>\n",
       "      <td>2020</td>\n",
       "      <td>2020</td>\n",
       "      <td>tonnes</td>\n",
       "      <td>24.27</td>\n",
       "      <td>I</td>\n",
       "      <td>Imputed value</td>\n",
       "    </tr>\n",
       "    <tr>\n",
       "      <th>37</th>\n",
       "      <td>SCL</td>\n",
       "      <td>Supply Utilization Accounts (2010-)</td>\n",
       "      <td>8</td>\n",
       "      <td>Albania</td>\n",
       "      <td>5610</td>\n",
       "      <td>Import Quantity</td>\n",
       "      <td>21160.01</td>\n",
       "      <td>Edible offals and liver of chickens and guinea fowl, fresh, chilled or frozen</td>\n",
       "      <td>2020</td>\n",
       "      <td>2020</td>\n",
       "      <td>tonnes</td>\n",
       "      <td>2469.93</td>\n",
       "      <td>A</td>\n",
       "      <td>Official figure</td>\n",
       "    </tr>\n",
       "    <tr>\n",
       "      <th>38</th>\n",
       "      <td>SCL</td>\n",
       "      <td>Supply Utilization Accounts (2010-)</td>\n",
       "      <td>8</td>\n",
       "      <td>Albania</td>\n",
       "      <td>5166</td>\n",
       "      <td>Residuals</td>\n",
       "      <td>21160.01</td>\n",
       "      <td>Edible offals and liver of chickens and guinea fowl, fresh, chilled or frozen</td>\n",
       "      <td>2020</td>\n",
       "      <td>2020</td>\n",
       "      <td>tonnes</td>\n",
       "      <td>0.00</td>\n",
       "      <td>I</td>\n",
       "      <td>Imputed value</td>\n",
       "    </tr>\n",
       "    <tr>\n",
       "      <th>39</th>\n",
       "      <td>SCL</td>\n",
       "      <td>Supply Utilization Accounts (2010-)</td>\n",
       "      <td>8</td>\n",
       "      <td>Albania</td>\n",
       "      <td>5141</td>\n",
       "      <td>Food supply quantity (tonnes)</td>\n",
       "      <td>21160.01</td>\n",
       "      <td>Edible offals and liver of chickens and guinea fowl, fresh, chilled or frozen</td>\n",
       "      <td>2020</td>\n",
       "      <td>2020</td>\n",
       "      <td>tonnes</td>\n",
       "      <td>2469.93</td>\n",
       "      <td>E</td>\n",
       "      <td>Estimated value</td>\n",
       "    </tr>\n",
       "    <tr>\n",
       "      <th>40</th>\n",
       "      <td>SCL</td>\n",
       "      <td>Supply Utilization Accounts (2010-)</td>\n",
       "      <td>8</td>\n",
       "      <td>Albania</td>\n",
       "      <td>664</td>\n",
       "      <td>Food supply (kcal/capita/day)</td>\n",
       "      <td>21160.01</td>\n",
       "      <td>Edible offals and liver of chickens and guinea fowl, fresh, chilled or frozen</td>\n",
       "      <td>2020</td>\n",
       "      <td>2020</td>\n",
       "      <td>kcal/capita/day</td>\n",
       "      <td>2.94</td>\n",
       "      <td>I</td>\n",
       "      <td>Imputed value</td>\n",
       "    </tr>\n",
       "    <tr>\n",
       "      <th>41</th>\n",
       "      <td>SCL</td>\n",
       "      <td>Supply Utilization Accounts (2010-)</td>\n",
       "      <td>8</td>\n",
       "      <td>Albania</td>\n",
       "      <td>665</td>\n",
       "      <td>Food supply quantity (g/capita/day)</td>\n",
       "      <td>21160.01</td>\n",
       "      <td>Edible offals and liver of chickens and guinea fowl, fresh, chilled or frozen</td>\n",
       "      <td>2020</td>\n",
       "      <td>2020</td>\n",
       "      <td>g/capita/day</td>\n",
       "      <td>2.35</td>\n",
       "      <td>I</td>\n",
       "      <td>Imputed value</td>\n",
       "    </tr>\n",
       "    <tr>\n",
       "      <th>42</th>\n",
       "      <td>SCL</td>\n",
       "      <td>Supply Utilization Accounts (2010-)</td>\n",
       "      <td>8</td>\n",
       "      <td>Albania</td>\n",
       "      <td>674</td>\n",
       "      <td>Protein supply quantity (g/capita/day)</td>\n",
       "      <td>21160.01</td>\n",
       "      <td>Edible offals and liver of chickens and guinea fowl, fresh, chilled or frozen</td>\n",
       "      <td>2020</td>\n",
       "      <td>2020</td>\n",
       "      <td>g/capita/day</td>\n",
       "      <td>0.42</td>\n",
       "      <td>I</td>\n",
       "      <td>Imputed value</td>\n",
       "    </tr>\n",
       "    <tr>\n",
       "      <th>43</th>\n",
       "      <td>SCL</td>\n",
       "      <td>Supply Utilization Accounts (2010-)</td>\n",
       "      <td>8</td>\n",
       "      <td>Albania</td>\n",
       "      <td>684</td>\n",
       "      <td>Fat supply quantity (g/capita/day)</td>\n",
       "      <td>21160.01</td>\n",
       "      <td>Edible offals and liver of chickens and guinea fowl, fresh, chilled or frozen</td>\n",
       "      <td>2020</td>\n",
       "      <td>2020</td>\n",
       "      <td>g/capita/day</td>\n",
       "      <td>0.09</td>\n",
       "      <td>I</td>\n",
       "      <td>Imputed value</td>\n",
       "    </tr>\n",
       "    <tr>\n",
       "      <th>44</th>\n",
       "      <td>SCL</td>\n",
       "      <td>Supply Utilization Accounts (2010-)</td>\n",
       "      <td>8</td>\n",
       "      <td>Albania</td>\n",
       "      <td>261</td>\n",
       "      <td>Calories/Year</td>\n",
       "      <td>21160.01</td>\n",
       "      <td>Edible offals and liver of chickens and guinea fowl, fresh, chilled or frozen</td>\n",
       "      <td>2020</td>\n",
       "      <td>2020</td>\n",
       "      <td>million kcal</td>\n",
       "      <td>3087.42</td>\n",
       "      <td>I</td>\n",
       "      <td>Imputed value</td>\n",
       "    </tr>\n",
       "    <tr>\n",
       "      <th>45</th>\n",
       "      <td>SCL</td>\n",
       "      <td>Supply Utilization Accounts (2010-)</td>\n",
       "      <td>8</td>\n",
       "      <td>Albania</td>\n",
       "      <td>271</td>\n",
       "      <td>Proteins/Year</td>\n",
       "      <td>21160.01</td>\n",
       "      <td>Edible offals and liver of chickens and guinea fowl, fresh, chilled or frozen</td>\n",
       "      <td>2020</td>\n",
       "      <td>2020</td>\n",
       "      <td>tonnes</td>\n",
       "      <td>444.59</td>\n",
       "      <td>I</td>\n",
       "      <td>Imputed value</td>\n",
       "    </tr>\n",
       "    <tr>\n",
       "      <th>46</th>\n",
       "      <td>SCL</td>\n",
       "      <td>Supply Utilization Accounts (2010-)</td>\n",
       "      <td>8</td>\n",
       "      <td>Albania</td>\n",
       "      <td>281</td>\n",
       "      <td>Fats/Year</td>\n",
       "      <td>21160.01</td>\n",
       "      <td>Edible offals and liver of chickens and guinea fowl, fresh, chilled or frozen</td>\n",
       "      <td>2020</td>\n",
       "      <td>2020</td>\n",
       "      <td>tonnes</td>\n",
       "      <td>96.33</td>\n",
       "      <td>I</td>\n",
       "      <td>Imputed value</td>\n",
       "    </tr>\n",
       "    <tr>\n",
       "      <th>47</th>\n",
       "      <td>SCL</td>\n",
       "      <td>Supply Utilization Accounts (2010-)</td>\n",
       "      <td>8</td>\n",
       "      <td>Albania</td>\n",
       "      <td>5166</td>\n",
       "      <td>Residuals</td>\n",
       "      <td>21511.03</td>\n",
       "      <td>Fat of poultry</td>\n",
       "      <td>2020</td>\n",
       "      <td>2020</td>\n",
       "      <td>tonnes</td>\n",
       "      <td>0.00</td>\n",
       "      <td>I</td>\n",
       "      <td>Imputed value</td>\n",
       "    </tr>\n",
       "    <tr>\n",
       "      <th>48</th>\n",
       "      <td>SCL</td>\n",
       "      <td>Supply Utilization Accounts (2010-)</td>\n",
       "      <td>8</td>\n",
       "      <td>Albania</td>\n",
       "      <td>5141</td>\n",
       "      <td>Food supply quantity (tonnes)</td>\n",
       "      <td>21511.03</td>\n",
       "      <td>Fat of poultry</td>\n",
       "      <td>2020</td>\n",
       "      <td>2020</td>\n",
       "      <td>tonnes</td>\n",
       "      <td>0.00</td>\n",
       "      <td>E</td>\n",
       "      <td>Estimated value</td>\n",
       "    </tr>\n",
       "    <tr>\n",
       "      <th>49</th>\n",
       "      <td>SCL</td>\n",
       "      <td>Supply Utilization Accounts (2010-)</td>\n",
       "      <td>8</td>\n",
       "      <td>Albania</td>\n",
       "      <td>664</td>\n",
       "      <td>Food supply (kcal/capita/day)</td>\n",
       "      <td>21511.03</td>\n",
       "      <td>Fat of poultry</td>\n",
       "      <td>2020</td>\n",
       "      <td>2020</td>\n",
       "      <td>kcal/capita/day</td>\n",
       "      <td>0.00</td>\n",
       "      <td>I</td>\n",
       "      <td>Imputed value</td>\n",
       "    </tr>\n",
       "    <tr>\n",
       "      <th>50</th>\n",
       "      <td>SCL</td>\n",
       "      <td>Supply Utilization Accounts (2010-)</td>\n",
       "      <td>8</td>\n",
       "      <td>Albania</td>\n",
       "      <td>665</td>\n",
       "      <td>Food supply quantity (g/capita/day)</td>\n",
       "      <td>21511.03</td>\n",
       "      <td>Fat of poultry</td>\n",
       "      <td>2020</td>\n",
       "      <td>2020</td>\n",
       "      <td>g/capita/day</td>\n",
       "      <td>0.00</td>\n",
       "      <td>I</td>\n",
       "      <td>Imputed value</td>\n",
       "    </tr>\n",
       "    <tr>\n",
       "      <th>51</th>\n",
       "      <td>SCL</td>\n",
       "      <td>Supply Utilization Accounts (2010-)</td>\n",
       "      <td>8</td>\n",
       "      <td>Albania</td>\n",
       "      <td>674</td>\n",
       "      <td>Protein supply quantity (g/capita/day)</td>\n",
       "      <td>21511.03</td>\n",
       "      <td>Fat of poultry</td>\n",
       "      <td>2020</td>\n",
       "      <td>2020</td>\n",
       "      <td>g/capita/day</td>\n",
       "      <td>0.00</td>\n",
       "      <td>I</td>\n",
       "      <td>Imputed value</td>\n",
       "    </tr>\n",
       "    <tr>\n",
       "      <th>52</th>\n",
       "      <td>SCL</td>\n",
       "      <td>Supply Utilization Accounts (2010-)</td>\n",
       "      <td>8</td>\n",
       "      <td>Albania</td>\n",
       "      <td>684</td>\n",
       "      <td>Fat supply quantity (g/capita/day)</td>\n",
       "      <td>21511.03</td>\n",
       "      <td>Fat of poultry</td>\n",
       "      <td>2020</td>\n",
       "      <td>2020</td>\n",
       "      <td>g/capita/day</td>\n",
       "      <td>0.00</td>\n",
       "      <td>I</td>\n",
       "      <td>Imputed value</td>\n",
       "    </tr>\n",
       "    <tr>\n",
       "      <th>53</th>\n",
       "      <td>SCL</td>\n",
       "      <td>Supply Utilization Accounts (2010-)</td>\n",
       "      <td>8</td>\n",
       "      <td>Albania</td>\n",
       "      <td>261</td>\n",
       "      <td>Calories/Year</td>\n",
       "      <td>21511.03</td>\n",
       "      <td>Fat of poultry</td>\n",
       "      <td>2020</td>\n",
       "      <td>2020</td>\n",
       "      <td>million kcal</td>\n",
       "      <td>0.00</td>\n",
       "      <td>I</td>\n",
       "      <td>Imputed value</td>\n",
       "    </tr>\n",
       "    <tr>\n",
       "      <th>54</th>\n",
       "      <td>SCL</td>\n",
       "      <td>Supply Utilization Accounts (2010-)</td>\n",
       "      <td>8</td>\n",
       "      <td>Albania</td>\n",
       "      <td>271</td>\n",
       "      <td>Proteins/Year</td>\n",
       "      <td>21511.03</td>\n",
       "      <td>Fat of poultry</td>\n",
       "      <td>2020</td>\n",
       "      <td>2020</td>\n",
       "      <td>tonnes</td>\n",
       "      <td>0.00</td>\n",
       "      <td>I</td>\n",
       "      <td>Imputed value</td>\n",
       "    </tr>\n",
       "    <tr>\n",
       "      <th>55</th>\n",
       "      <td>SCL</td>\n",
       "      <td>Supply Utilization Accounts (2010-)</td>\n",
       "      <td>8</td>\n",
       "      <td>Albania</td>\n",
       "      <td>281</td>\n",
       "      <td>Fats/Year</td>\n",
       "      <td>21511.03</td>\n",
       "      <td>Fat of poultry</td>\n",
       "      <td>2020</td>\n",
       "      <td>2020</td>\n",
       "      <td>tonnes</td>\n",
       "      <td>0.00</td>\n",
       "      <td>I</td>\n",
       "      <td>Imputed value</td>\n",
       "    </tr>\n",
       "    <tr>\n",
       "      <th>56</th>\n",
       "      <td>SCL</td>\n",
       "      <td>Supply Utilization Accounts (2010-)</td>\n",
       "      <td>8</td>\n",
       "      <td>Albania</td>\n",
       "      <td>5113</td>\n",
       "      <td>Opening stocks</td>\n",
       "      <td>21121</td>\n",
       "      <td>Meat of chickens, fresh or chilled</td>\n",
       "      <td>2020</td>\n",
       "      <td>2020</td>\n",
       "      <td>tonnes</td>\n",
       "      <td>7762.60</td>\n",
       "      <td>I</td>\n",
       "      <td>Imputed value</td>\n",
       "    </tr>\n",
       "    <tr>\n",
       "      <th>57</th>\n",
       "      <td>SCL</td>\n",
       "      <td>Supply Utilization Accounts (2010-)</td>\n",
       "      <td>8</td>\n",
       "      <td>Albania</td>\n",
       "      <td>5510</td>\n",
       "      <td>Production</td>\n",
       "      <td>21121</td>\n",
       "      <td>Meat of chickens, fresh or chilled</td>\n",
       "      <td>2020</td>\n",
       "      <td>2020</td>\n",
       "      <td>tonnes</td>\n",
       "      <td>12233.91</td>\n",
       "      <td>A</td>\n",
       "      <td>Official figure</td>\n",
       "    </tr>\n",
       "    <tr>\n",
       "      <th>58</th>\n",
       "      <td>SCL</td>\n",
       "      <td>Supply Utilization Accounts (2010-)</td>\n",
       "      <td>8</td>\n",
       "      <td>Albania</td>\n",
       "      <td>5610</td>\n",
       "      <td>Import Quantity</td>\n",
       "      <td>21121</td>\n",
       "      <td>Meat of chickens, fresh or chilled</td>\n",
       "      <td>2020</td>\n",
       "      <td>2020</td>\n",
       "      <td>tonnes</td>\n",
       "      <td>23503.19</td>\n",
       "      <td>A</td>\n",
       "      <td>Official figure</td>\n",
       "    </tr>\n",
       "    <tr>\n",
       "      <th>59</th>\n",
       "      <td>SCL</td>\n",
       "      <td>Supply Utilization Accounts (2010-)</td>\n",
       "      <td>8</td>\n",
       "      <td>Albania</td>\n",
       "      <td>5071</td>\n",
       "      <td>Stock Variation</td>\n",
       "      <td>21121</td>\n",
       "      <td>Meat of chickens, fresh or chilled</td>\n",
       "      <td>2020</td>\n",
       "      <td>2020</td>\n",
       "      <td>tonnes</td>\n",
       "      <td>0.00</td>\n",
       "      <td>I</td>\n",
       "      <td>Imputed value</td>\n",
       "    </tr>\n",
       "  </tbody>\n",
       "</table>\n",
       "</div>"
      ],
      "text/plain": [
       "   Domain Code                               Domain  Area Code (M49)  \\\n",
       "0          SCL  Supply Utilization Accounts (2010-)                4   \n",
       "1          SCL  Supply Utilization Accounts (2010-)                4   \n",
       "2          SCL  Supply Utilization Accounts (2010-)                4   \n",
       "3          SCL  Supply Utilization Accounts (2010-)                4   \n",
       "4          SCL  Supply Utilization Accounts (2010-)                4   \n",
       "5          SCL  Supply Utilization Accounts (2010-)                4   \n",
       "6          SCL  Supply Utilization Accounts (2010-)                4   \n",
       "7          SCL  Supply Utilization Accounts (2010-)                4   \n",
       "8          SCL  Supply Utilization Accounts (2010-)                4   \n",
       "9          SCL  Supply Utilization Accounts (2010-)                4   \n",
       "10         SCL  Supply Utilization Accounts (2010-)                4   \n",
       "11         SCL  Supply Utilization Accounts (2010-)                4   \n",
       "12         SCL  Supply Utilization Accounts (2010-)                4   \n",
       "13         SCL  Supply Utilization Accounts (2010-)                4   \n",
       "14         SCL  Supply Utilization Accounts (2010-)                4   \n",
       "15         SCL  Supply Utilization Accounts (2010-)                4   \n",
       "16         SCL  Supply Utilization Accounts (2010-)                4   \n",
       "17         SCL  Supply Utilization Accounts (2010-)                4   \n",
       "18         SCL  Supply Utilization Accounts (2010-)                4   \n",
       "19         SCL  Supply Utilization Accounts (2010-)                4   \n",
       "20         SCL  Supply Utilization Accounts (2010-)                4   \n",
       "21         SCL  Supply Utilization Accounts (2010-)                4   \n",
       "22         SCL  Supply Utilization Accounts (2010-)                4   \n",
       "23         SCL  Supply Utilization Accounts (2010-)                4   \n",
       "24         SCL  Supply Utilization Accounts (2010-)                4   \n",
       "25         SCL  Supply Utilization Accounts (2010-)                4   \n",
       "26         SCL  Supply Utilization Accounts (2010-)                4   \n",
       "27         SCL  Supply Utilization Accounts (2010-)                4   \n",
       "28         SCL  Supply Utilization Accounts (2010-)                4   \n",
       "29         SCL  Supply Utilization Accounts (2010-)                4   \n",
       "30         SCL  Supply Utilization Accounts (2010-)                4   \n",
       "31         SCL  Supply Utilization Accounts (2010-)                4   \n",
       "32         SCL  Supply Utilization Accounts (2010-)                4   \n",
       "33         SCL  Supply Utilization Accounts (2010-)                4   \n",
       "34         SCL  Supply Utilization Accounts (2010-)                4   \n",
       "35         SCL  Supply Utilization Accounts (2010-)                4   \n",
       "36         SCL  Supply Utilization Accounts (2010-)                4   \n",
       "37         SCL  Supply Utilization Accounts (2010-)                8   \n",
       "38         SCL  Supply Utilization Accounts (2010-)                8   \n",
       "39         SCL  Supply Utilization Accounts (2010-)                8   \n",
       "40         SCL  Supply Utilization Accounts (2010-)                8   \n",
       "41         SCL  Supply Utilization Accounts (2010-)                8   \n",
       "42         SCL  Supply Utilization Accounts (2010-)                8   \n",
       "43         SCL  Supply Utilization Accounts (2010-)                8   \n",
       "44         SCL  Supply Utilization Accounts (2010-)                8   \n",
       "45         SCL  Supply Utilization Accounts (2010-)                8   \n",
       "46         SCL  Supply Utilization Accounts (2010-)                8   \n",
       "47         SCL  Supply Utilization Accounts (2010-)                8   \n",
       "48         SCL  Supply Utilization Accounts (2010-)                8   \n",
       "49         SCL  Supply Utilization Accounts (2010-)                8   \n",
       "50         SCL  Supply Utilization Accounts (2010-)                8   \n",
       "51         SCL  Supply Utilization Accounts (2010-)                8   \n",
       "52         SCL  Supply Utilization Accounts (2010-)                8   \n",
       "53         SCL  Supply Utilization Accounts (2010-)                8   \n",
       "54         SCL  Supply Utilization Accounts (2010-)                8   \n",
       "55         SCL  Supply Utilization Accounts (2010-)                8   \n",
       "56         SCL  Supply Utilization Accounts (2010-)                8   \n",
       "57         SCL  Supply Utilization Accounts (2010-)                8   \n",
       "58         SCL  Supply Utilization Accounts (2010-)                8   \n",
       "59         SCL  Supply Utilization Accounts (2010-)                8   \n",
       "\n",
       "           Area  Element Code                                 Element  \\\n",
       "0   Afghanistan          5610                         Import Quantity   \n",
       "1   Afghanistan          5166                               Residuals   \n",
       "2   Afghanistan          5141           Food supply quantity (tonnes)   \n",
       "3   Afghanistan           664           Food supply (kcal/capita/day)   \n",
       "4   Afghanistan           665     Food supply quantity (g/capita/day)   \n",
       "5   Afghanistan           674  Protein supply quantity (g/capita/day)   \n",
       "6   Afghanistan           684      Fat supply quantity (g/capita/day)   \n",
       "7   Afghanistan           261                           Calories/Year   \n",
       "8   Afghanistan           271                           Proteins/Year   \n",
       "9   Afghanistan           281                               Fats/Year   \n",
       "10  Afghanistan          5166                               Residuals   \n",
       "11  Afghanistan          5113                          Opening stocks   \n",
       "12  Afghanistan          5510                              Production   \n",
       "13  Afghanistan          5610                         Import Quantity   \n",
       "14  Afghanistan          5071                         Stock Variation   \n",
       "15  Afghanistan          5910                         Export Quantity   \n",
       "16  Afghanistan          5166                               Residuals   \n",
       "17  Afghanistan          5141           Food supply quantity (tonnes)   \n",
       "18  Afghanistan           664           Food supply (kcal/capita/day)   \n",
       "19  Afghanistan           665     Food supply quantity (g/capita/day)   \n",
       "20  Afghanistan           674  Protein supply quantity (g/capita/day)   \n",
       "21  Afghanistan           684      Fat supply quantity (g/capita/day)   \n",
       "22  Afghanistan           261                           Calories/Year   \n",
       "23  Afghanistan           271                           Proteins/Year   \n",
       "24  Afghanistan           281                               Fats/Year   \n",
       "25  Afghanistan          5166                               Residuals   \n",
       "26  Afghanistan          5610                         Import Quantity   \n",
       "27  Afghanistan          5910                         Export Quantity   \n",
       "28  Afghanistan          5166                               Residuals   \n",
       "29  Afghanistan          5141           Food supply quantity (tonnes)   \n",
       "30  Afghanistan           664           Food supply (kcal/capita/day)   \n",
       "31  Afghanistan           665     Food supply quantity (g/capita/day)   \n",
       "32  Afghanistan           674  Protein supply quantity (g/capita/day)   \n",
       "33  Afghanistan           684      Fat supply quantity (g/capita/day)   \n",
       "34  Afghanistan           261                           Calories/Year   \n",
       "35  Afghanistan           271                           Proteins/Year   \n",
       "36  Afghanistan           281                               Fats/Year   \n",
       "37      Albania          5610                         Import Quantity   \n",
       "38      Albania          5166                               Residuals   \n",
       "39      Albania          5141           Food supply quantity (tonnes)   \n",
       "40      Albania           664           Food supply (kcal/capita/day)   \n",
       "41      Albania           665     Food supply quantity (g/capita/day)   \n",
       "42      Albania           674  Protein supply quantity (g/capita/day)   \n",
       "43      Albania           684      Fat supply quantity (g/capita/day)   \n",
       "44      Albania           261                           Calories/Year   \n",
       "45      Albania           271                           Proteins/Year   \n",
       "46      Albania           281                               Fats/Year   \n",
       "47      Albania          5166                               Residuals   \n",
       "48      Albania          5141           Food supply quantity (tonnes)   \n",
       "49      Albania           664           Food supply (kcal/capita/day)   \n",
       "50      Albania           665     Food supply quantity (g/capita/day)   \n",
       "51      Albania           674  Protein supply quantity (g/capita/day)   \n",
       "52      Albania           684      Fat supply quantity (g/capita/day)   \n",
       "53      Albania           261                           Calories/Year   \n",
       "54      Albania           271                           Proteins/Year   \n",
       "55      Albania           281                               Fats/Year   \n",
       "56      Albania          5113                          Opening stocks   \n",
       "57      Albania          5510                              Production   \n",
       "58      Albania          5610                         Import Quantity   \n",
       "59      Albania          5071                         Stock Variation   \n",
       "\n",
       "   Item Code (CPC)  \\\n",
       "0         21160.01   \n",
       "1         21160.01   \n",
       "2         21160.01   \n",
       "3         21160.01   \n",
       "4         21160.01   \n",
       "5         21160.01   \n",
       "6         21160.01   \n",
       "7         21160.01   \n",
       "8         21160.01   \n",
       "9         21160.01   \n",
       "10        21511.03   \n",
       "11           21121   \n",
       "12           21121   \n",
       "13           21121   \n",
       "14           21121   \n",
       "15           21121   \n",
       "16           21121   \n",
       "17           21121   \n",
       "18           21121   \n",
       "19           21121   \n",
       "20           21121   \n",
       "21           21121   \n",
       "22           21121   \n",
       "23           21121   \n",
       "24           21121   \n",
       "25           21522   \n",
       "26           F1061   \n",
       "27           F1061   \n",
       "28           F1061   \n",
       "29           F1061   \n",
       "30           F1061   \n",
       "31           F1061   \n",
       "32           F1061   \n",
       "33           F1061   \n",
       "34           F1061   \n",
       "35           F1061   \n",
       "36           F1061   \n",
       "37        21160.01   \n",
       "38        21160.01   \n",
       "39        21160.01   \n",
       "40        21160.01   \n",
       "41        21160.01   \n",
       "42        21160.01   \n",
       "43        21160.01   \n",
       "44        21160.01   \n",
       "45        21160.01   \n",
       "46        21160.01   \n",
       "47        21511.03   \n",
       "48        21511.03   \n",
       "49        21511.03   \n",
       "50        21511.03   \n",
       "51        21511.03   \n",
       "52        21511.03   \n",
       "53        21511.03   \n",
       "54        21511.03   \n",
       "55        21511.03   \n",
       "56           21121   \n",
       "57           21121   \n",
       "58           21121   \n",
       "59           21121   \n",
       "\n",
       "                                                                             Item  \\\n",
       "0   Edible offals and liver of chickens and guinea fowl, fresh, chilled or frozen   \n",
       "1   Edible offals and liver of chickens and guinea fowl, fresh, chilled or frozen   \n",
       "2   Edible offals and liver of chickens and guinea fowl, fresh, chilled or frozen   \n",
       "3   Edible offals and liver of chickens and guinea fowl, fresh, chilled or frozen   \n",
       "4   Edible offals and liver of chickens and guinea fowl, fresh, chilled or frozen   \n",
       "5   Edible offals and liver of chickens and guinea fowl, fresh, chilled or frozen   \n",
       "6   Edible offals and liver of chickens and guinea fowl, fresh, chilled or frozen   \n",
       "7   Edible offals and liver of chickens and guinea fowl, fresh, chilled or frozen   \n",
       "8   Edible offals and liver of chickens and guinea fowl, fresh, chilled or frozen   \n",
       "9   Edible offals and liver of chickens and guinea fowl, fresh, chilled or frozen   \n",
       "10                                                                 Fat of poultry   \n",
       "11                                             Meat of chickens, fresh or chilled   \n",
       "12                                             Meat of chickens, fresh or chilled   \n",
       "13                                             Meat of chickens, fresh or chilled   \n",
       "14                                             Meat of chickens, fresh or chilled   \n",
       "15                                             Meat of chickens, fresh or chilled   \n",
       "16                                             Meat of chickens, fresh or chilled   \n",
       "17                                             Meat of chickens, fresh or chilled   \n",
       "18                                             Meat of chickens, fresh or chilled   \n",
       "19                                             Meat of chickens, fresh or chilled   \n",
       "20                                             Meat of chickens, fresh or chilled   \n",
       "21                                             Meat of chickens, fresh or chilled   \n",
       "22                                             Meat of chickens, fresh or chilled   \n",
       "23                                             Meat of chickens, fresh or chilled   \n",
       "24                                             Meat of chickens, fresh or chilled   \n",
       "25                                                          Poultry fat, rendered   \n",
       "26                                                      Poultry meat preparations   \n",
       "27                                                      Poultry meat preparations   \n",
       "28                                                      Poultry meat preparations   \n",
       "29                                                      Poultry meat preparations   \n",
       "30                                                      Poultry meat preparations   \n",
       "31                                                      Poultry meat preparations   \n",
       "32                                                      Poultry meat preparations   \n",
       "33                                                      Poultry meat preparations   \n",
       "34                                                      Poultry meat preparations   \n",
       "35                                                      Poultry meat preparations   \n",
       "36                                                      Poultry meat preparations   \n",
       "37  Edible offals and liver of chickens and guinea fowl, fresh, chilled or frozen   \n",
       "38  Edible offals and liver of chickens and guinea fowl, fresh, chilled or frozen   \n",
       "39  Edible offals and liver of chickens and guinea fowl, fresh, chilled or frozen   \n",
       "40  Edible offals and liver of chickens and guinea fowl, fresh, chilled or frozen   \n",
       "41  Edible offals and liver of chickens and guinea fowl, fresh, chilled or frozen   \n",
       "42  Edible offals and liver of chickens and guinea fowl, fresh, chilled or frozen   \n",
       "43  Edible offals and liver of chickens and guinea fowl, fresh, chilled or frozen   \n",
       "44  Edible offals and liver of chickens and guinea fowl, fresh, chilled or frozen   \n",
       "45  Edible offals and liver of chickens and guinea fowl, fresh, chilled or frozen   \n",
       "46  Edible offals and liver of chickens and guinea fowl, fresh, chilled or frozen   \n",
       "47                                                                 Fat of poultry   \n",
       "48                                                                 Fat of poultry   \n",
       "49                                                                 Fat of poultry   \n",
       "50                                                                 Fat of poultry   \n",
       "51                                                                 Fat of poultry   \n",
       "52                                                                 Fat of poultry   \n",
       "53                                                                 Fat of poultry   \n",
       "54                                                                 Fat of poultry   \n",
       "55                                                                 Fat of poultry   \n",
       "56                                             Meat of chickens, fresh or chilled   \n",
       "57                                             Meat of chickens, fresh or chilled   \n",
       "58                                             Meat of chickens, fresh or chilled   \n",
       "59                                             Meat of chickens, fresh or chilled   \n",
       "\n",
       "    Year Code  Year             Unit     Value Flag   Flag Description  \n",
       "0        2020  2020           tonnes      1.23    T  Unofficial figure  \n",
       "1        2020  2020           tonnes      0.00    I      Imputed value  \n",
       "2        2020  2020           tonnes      1.23    E    Estimated value  \n",
       "3        2020  2020  kcal/capita/day      0.00    I      Imputed value  \n",
       "4        2020  2020     g/capita/day      0.00    I      Imputed value  \n",
       "5        2020  2020     g/capita/day      0.00    I      Imputed value  \n",
       "6        2020  2020     g/capita/day      0.00    I      Imputed value  \n",
       "7        2020  2020     million kcal      1.53    I      Imputed value  \n",
       "8        2020  2020           tonnes      0.22    I      Imputed value  \n",
       "9        2020  2020           tonnes      0.05    I      Imputed value  \n",
       "10       2020  2020           tonnes      0.00    I      Imputed value  \n",
       "11       2020  2020           tonnes   3183.07    E    Estimated value  \n",
       "12       2020  2020           tonnes  27938.44    I      Imputed value  \n",
       "13       2020  2020           tonnes  35616.91    T  Unofficial figure  \n",
       "14       2020  2020           tonnes  -2471.01    E    Estimated value  \n",
       "15       2020  2020           tonnes      0.24    T  Unofficial figure  \n",
       "16       2020  2020           tonnes      0.00    I      Imputed value  \n",
       "17       2020  2020           tonnes  66026.13    I      Imputed value  \n",
       "18       2020  2020  kcal/capita/day      5.90    I      Imputed value  \n",
       "19       2020  2020     g/capita/day      4.65    I      Imputed value  \n",
       "20       2020  2020     g/capita/day      0.60    I      Imputed value  \n",
       "21       2020  2020     g/capita/day      0.37    I      Imputed value  \n",
       "22       2020  2020     million kcal  83853.18    I      Imputed value  \n",
       "23       2020  2020           tonnes   8583.40    I      Imputed value  \n",
       "24       2020  2020           tonnes   5216.06    I      Imputed value  \n",
       "25       2020  2020           tonnes      0.00    I      Imputed value  \n",
       "26       2020  2020           tonnes    303.41    T  Unofficial figure  \n",
       "27       2020  2020           tonnes      0.00    T  Unofficial figure  \n",
       "28       2020  2020           tonnes      0.00    I      Imputed value  \n",
       "29       2020  2020           tonnes    303.41    E    Estimated value  \n",
       "30       2020  2020  kcal/capita/day      0.04    I      Imputed value  \n",
       "31       2020  2020     g/capita/day      0.02    I      Imputed value  \n",
       "32       2020  2020     g/capita/day      0.00    I      Imputed value  \n",
       "33       2020  2020     g/capita/day      0.00    I      Imputed value  \n",
       "34       2020  2020     million kcal    500.62    I      Imputed value  \n",
       "35       2020  2020           tonnes     66.14    I      Imputed value  \n",
       "36       2020  2020           tonnes     24.27    I      Imputed value  \n",
       "37       2020  2020           tonnes   2469.93    A    Official figure  \n",
       "38       2020  2020           tonnes      0.00    I      Imputed value  \n",
       "39       2020  2020           tonnes   2469.93    E    Estimated value  \n",
       "40       2020  2020  kcal/capita/day      2.94    I      Imputed value  \n",
       "41       2020  2020     g/capita/day      2.35    I      Imputed value  \n",
       "42       2020  2020     g/capita/day      0.42    I      Imputed value  \n",
       "43       2020  2020     g/capita/day      0.09    I      Imputed value  \n",
       "44       2020  2020     million kcal   3087.42    I      Imputed value  \n",
       "45       2020  2020           tonnes    444.59    I      Imputed value  \n",
       "46       2020  2020           tonnes     96.33    I      Imputed value  \n",
       "47       2020  2020           tonnes      0.00    I      Imputed value  \n",
       "48       2020  2020           tonnes      0.00    E    Estimated value  \n",
       "49       2020  2020  kcal/capita/day      0.00    I      Imputed value  \n",
       "50       2020  2020     g/capita/day      0.00    I      Imputed value  \n",
       "51       2020  2020     g/capita/day      0.00    I      Imputed value  \n",
       "52       2020  2020     g/capita/day      0.00    I      Imputed value  \n",
       "53       2020  2020     million kcal      0.00    I      Imputed value  \n",
       "54       2020  2020           tonnes      0.00    I      Imputed value  \n",
       "55       2020  2020           tonnes      0.00    I      Imputed value  \n",
       "56       2020  2020           tonnes   7762.60    I      Imputed value  \n",
       "57       2020  2020           tonnes  12233.91    A    Official figure  \n",
       "58       2020  2020           tonnes  23503.19    A    Official figure  \n",
       "59       2020  2020           tonnes      0.00    I      Imputed value  "
      ]
     },
     "execution_count": 53,
     "metadata": {},
     "output_type": "execute_result"
    }
   ],
   "source": [
    "dispo.head(60)"
   ]
  },
  {
   "cell_type": "code",
   "execution_count": 54,
   "id": "83dbc8f6",
   "metadata": {},
   "outputs": [
    {
     "data": {
      "text/plain": [
       "array(['Import Quantity', 'Residuals', 'Food supply quantity (tonnes)',\n",
       "       'Food supply (kcal/capita/day)',\n",
       "       'Food supply quantity (g/capita/day)',\n",
       "       'Protein supply quantity (g/capita/day)',\n",
       "       'Fat supply quantity (g/capita/day)', 'Calories/Year',\n",
       "       'Proteins/Year', 'Fats/Year', 'Opening stocks', 'Production',\n",
       "       'Stock Variation', 'Export Quantity', 'Processed', 'Loss',\n",
       "       'Other uses (non-food)', 'Feed'], dtype=object)"
      ]
     },
     "execution_count": 54,
     "metadata": {},
     "output_type": "execute_result"
    }
   ],
   "source": [
    "dispo['Element'].unique()"
   ]
  },
  {
   "cell_type": "code",
   "execution_count": 55,
   "id": "4a217e83",
   "metadata": {},
   "outputs": [
    {
     "data": {
      "text/plain": [
       "array(['Edible offals and liver of chickens and guinea fowl, fresh, chilled or frozen',\n",
       "       'Fat of poultry', 'Meat of chickens, fresh or chilled',\n",
       "       'Poultry fat, rendered', 'Poultry meat preparations'], dtype=object)"
      ]
     },
     "execution_count": 55,
     "metadata": {},
     "output_type": "execute_result"
    }
   ],
   "source": [
    "dispo['Item'].unique()"
   ]
  },
  {
   "cell_type": "code",
   "execution_count": 56,
   "id": "5a835f93",
   "metadata": {},
   "outputs": [],
   "source": [
    "# select only total food supply and protein supply elements\n",
    "dispo_tr = dispo.loc[(dispo['Element'] == 'Food supply quantity (tonnes)')\n",
    "                    | (dispo['Element'] == 'Protein supply quantity (g/capita/day)')][['Area','Item','Element','Value']]"
   ]
  },
  {
   "cell_type": "code",
   "execution_count": 57,
   "id": "febfbf10",
   "metadata": {},
   "outputs": [],
   "source": [
    "# calculate totals per country\n",
    "dispo_trim = dispo_tr.groupby(['Area','Element'])['Value'].sum().reset_index()\n",
    "\n",
    "# display info on 1 single line per country\n",
    "dispo_trim = dispo_trim.pivot(index='Area', columns='Element', values='Value').reset_index()"
   ]
  },
  {
   "cell_type": "code",
   "execution_count": 58,
   "id": "03d5912b",
   "metadata": {},
   "outputs": [],
   "source": [
    "# rename columns and type casting\n",
    "dispo_trim.rename(columns={'Area': 'country_dispo', 'Food supply quantity (tonnes)':'poultry_consumption_tonnes',\n",
    "                          'Protein supply quantity (g/capita/day)':'poultry_protein_g_cap_day'}, inplace=True)\n",
    "dispo_trim['poultry_consumption_tonnes'] = dispo_trim['poultry_consumption_tonnes'].astype(float)\n",
    "dispo_trim['poultry_protein_g_cap_day'] = dispo_trim['poultry_protein_g_cap_day'].astype(float)\n",
    "dispo_trim['country_dispo'] = dispo_trim['country_dispo'].astype('category')"
   ]
  },
  {
   "cell_type": "code",
   "execution_count": 59,
   "id": "e1d4d194",
   "metadata": {},
   "outputs": [
    {
     "name": "stdout",
     "output_type": "stream",
     "text": [
      "Il y a 186 pays dans le fichier de disponibilite alimentaire.\n",
      "Aucun doublon dans la table.\n"
     ]
    }
   ],
   "source": [
    "print(\"Il y a\",dispo_trim['country_dispo'].nunique(),\"pays dans le fichier de disponibilite alimentaire.\")\n",
    "if (dispo_trim.loc[dispo_trim.duplicated() == True].shape[0]) != 0:\n",
    "    print(\"Doublons dans la table.\")\n",
    "else:\n",
    "    print (\"Aucun doublon dans la table.\")"
   ]
  },
  {
   "cell_type": "markdown",
   "id": "b9673fcf",
   "metadata": {},
   "source": [
    "## 1.7 - Disponibilite totale en proteines (animales et vegetales)"
   ]
  },
  {
   "cell_type": "code",
   "execution_count": 60,
   "id": "1e320ed7",
   "metadata": {},
   "outputs": [
    {
     "data": {
      "application/vnd.microsoft.datawrangler.viewer.v0+json": {
       "columns": [
        {
         "name": "index",
         "rawType": "int64",
         "type": "integer"
        },
        {
         "name": "Domain Code",
         "rawType": "object",
         "type": "string"
        },
        {
         "name": "Domain",
         "rawType": "object",
         "type": "string"
        },
        {
         "name": "Area Code (M49)",
         "rawType": "int64",
         "type": "integer"
        },
        {
         "name": "Area",
         "rawType": "object",
         "type": "string"
        },
        {
         "name": "Element Code",
         "rawType": "int64",
         "type": "integer"
        },
        {
         "name": "Element",
         "rawType": "object",
         "type": "string"
        },
        {
         "name": "Item Code (CPC)",
         "rawType": "object",
         "type": "string"
        },
        {
         "name": "Item",
         "rawType": "object",
         "type": "string"
        },
        {
         "name": "Year Code",
         "rawType": "int64",
         "type": "integer"
        },
        {
         "name": "Year",
         "rawType": "int64",
         "type": "integer"
        },
        {
         "name": "Unit",
         "rawType": "object",
         "type": "string"
        },
        {
         "name": "Value",
         "rawType": "float64",
         "type": "float"
        },
        {
         "name": "Flag",
         "rawType": "object",
         "type": "string"
        },
        {
         "name": "Flag Description",
         "rawType": "object",
         "type": "string"
        }
       ],
       "ref": "d70e1113-25e4-4c3f-ab0e-4b5df91d33f7",
       "rows": [
        [
         "0",
         "SCL",
         "Supply Utilization Accounts (2010-)",
         "4",
         "Afghanistan",
         "674",
         "Protein supply quantity (g/capita/day)",
         "21422",
         "Almonds, shelled",
         "2020",
         "2020",
         "g/capita/day",
         "0.24",
         "I",
         "Imputed value"
        ],
        [
         "1",
         "SCL",
         "Supply Utilization Accounts (2010-)",
         "4",
         "Afghanistan",
         "674",
         "Protein supply quantity (g/capita/day)",
         "21529.03",
         "Animal oils and fats n.e.c.",
         "2020",
         "2020",
         "g/capita/day",
         "0.0",
         "I",
         "Imputed value"
        ],
        [
         "2",
         "SCL",
         "Supply Utilization Accounts (2010-)",
         "4",
         "Afghanistan",
         "674",
         "Protein supply quantity (g/capita/day)",
         "34550",
         "Animal or vegetable fats and oils and their fractions, chemically modified, except those hydrogenated, inter-esterified, re-esterified or elaidinized; inedible mixtures or preparations of animal or vegetable fats or oils",
         "2020",
         "2020",
         "g/capita/day",
         "0.0",
         "I",
         "Imputed value"
        ],
        [
         "3",
         "SCL",
         "Supply Utilization Accounts (2010-)",
         "4",
         "Afghanistan",
         "674",
         "Protein supply quantity (g/capita/day)",
         "01654",
         "Anise, badian, coriander, cumin, caraway, fennel and juniper berries, raw",
         "2020",
         "2020",
         "g/capita/day",
         "0.07",
         "I",
         "Imputed value"
        ],
        [
         "4",
         "SCL",
         "Supply Utilization Accounts (2010-)",
         "4",
         "Afghanistan",
         "674",
         "Protein supply quantity (g/capita/day)",
         "21435.01",
         "Apple juice",
         "2020",
         "2020",
         "g/capita/day",
         "0.0",
         "I",
         "Imputed value"
        ]
       ],
       "shape": {
        "columns": 14,
        "rows": 5
       }
      },
      "text/html": [
       "<div>\n",
       "<style scoped>\n",
       "    .dataframe tbody tr th:only-of-type {\n",
       "        vertical-align: middle;\n",
       "    }\n",
       "\n",
       "    .dataframe tbody tr th {\n",
       "        vertical-align: top;\n",
       "    }\n",
       "\n",
       "    .dataframe thead th {\n",
       "        text-align: right;\n",
       "    }\n",
       "</style>\n",
       "<table border=\"1\" class=\"dataframe\">\n",
       "  <thead>\n",
       "    <tr style=\"text-align: right;\">\n",
       "      <th></th>\n",
       "      <th>Domain Code</th>\n",
       "      <th>Domain</th>\n",
       "      <th>Area Code (M49)</th>\n",
       "      <th>Area</th>\n",
       "      <th>Element Code</th>\n",
       "      <th>Element</th>\n",
       "      <th>Item Code (CPC)</th>\n",
       "      <th>Item</th>\n",
       "      <th>Year Code</th>\n",
       "      <th>Year</th>\n",
       "      <th>Unit</th>\n",
       "      <th>Value</th>\n",
       "      <th>Flag</th>\n",
       "      <th>Flag Description</th>\n",
       "    </tr>\n",
       "  </thead>\n",
       "  <tbody>\n",
       "    <tr>\n",
       "      <th>0</th>\n",
       "      <td>SCL</td>\n",
       "      <td>Supply Utilization Accounts (2010-)</td>\n",
       "      <td>4</td>\n",
       "      <td>Afghanistan</td>\n",
       "      <td>674</td>\n",
       "      <td>Protein supply quantity (g/capita/day)</td>\n",
       "      <td>21422</td>\n",
       "      <td>Almonds, shelled</td>\n",
       "      <td>2020</td>\n",
       "      <td>2020</td>\n",
       "      <td>g/capita/day</td>\n",
       "      <td>0.24</td>\n",
       "      <td>I</td>\n",
       "      <td>Imputed value</td>\n",
       "    </tr>\n",
       "    <tr>\n",
       "      <th>1</th>\n",
       "      <td>SCL</td>\n",
       "      <td>Supply Utilization Accounts (2010-)</td>\n",
       "      <td>4</td>\n",
       "      <td>Afghanistan</td>\n",
       "      <td>674</td>\n",
       "      <td>Protein supply quantity (g/capita/day)</td>\n",
       "      <td>21529.03</td>\n",
       "      <td>Animal oils and fats n.e.c.</td>\n",
       "      <td>2020</td>\n",
       "      <td>2020</td>\n",
       "      <td>g/capita/day</td>\n",
       "      <td>0.00</td>\n",
       "      <td>I</td>\n",
       "      <td>Imputed value</td>\n",
       "    </tr>\n",
       "    <tr>\n",
       "      <th>2</th>\n",
       "      <td>SCL</td>\n",
       "      <td>Supply Utilization Accounts (2010-)</td>\n",
       "      <td>4</td>\n",
       "      <td>Afghanistan</td>\n",
       "      <td>674</td>\n",
       "      <td>Protein supply quantity (g/capita/day)</td>\n",
       "      <td>34550</td>\n",
       "      <td>Animal or vegetable fats and oils and their fractions, chemically modified, except those hydrogenated, inter-esterified, re-esterified or elaidinized; inedible mixtures or preparations of animal or vegetable fats or oils</td>\n",
       "      <td>2020</td>\n",
       "      <td>2020</td>\n",
       "      <td>g/capita/day</td>\n",
       "      <td>0.00</td>\n",
       "      <td>I</td>\n",
       "      <td>Imputed value</td>\n",
       "    </tr>\n",
       "    <tr>\n",
       "      <th>3</th>\n",
       "      <td>SCL</td>\n",
       "      <td>Supply Utilization Accounts (2010-)</td>\n",
       "      <td>4</td>\n",
       "      <td>Afghanistan</td>\n",
       "      <td>674</td>\n",
       "      <td>Protein supply quantity (g/capita/day)</td>\n",
       "      <td>01654</td>\n",
       "      <td>Anise, badian, coriander, cumin, caraway, fennel and juniper berries, raw</td>\n",
       "      <td>2020</td>\n",
       "      <td>2020</td>\n",
       "      <td>g/capita/day</td>\n",
       "      <td>0.07</td>\n",
       "      <td>I</td>\n",
       "      <td>Imputed value</td>\n",
       "    </tr>\n",
       "    <tr>\n",
       "      <th>4</th>\n",
       "      <td>SCL</td>\n",
       "      <td>Supply Utilization Accounts (2010-)</td>\n",
       "      <td>4</td>\n",
       "      <td>Afghanistan</td>\n",
       "      <td>674</td>\n",
       "      <td>Protein supply quantity (g/capita/day)</td>\n",
       "      <td>21435.01</td>\n",
       "      <td>Apple juice</td>\n",
       "      <td>2020</td>\n",
       "      <td>2020</td>\n",
       "      <td>g/capita/day</td>\n",
       "      <td>0.00</td>\n",
       "      <td>I</td>\n",
       "      <td>Imputed value</td>\n",
       "    </tr>\n",
       "  </tbody>\n",
       "</table>\n",
       "</div>"
      ],
      "text/plain": [
       "  Domain Code                               Domain  Area Code (M49)  \\\n",
       "0         SCL  Supply Utilization Accounts (2010-)                4   \n",
       "1         SCL  Supply Utilization Accounts (2010-)                4   \n",
       "2         SCL  Supply Utilization Accounts (2010-)                4   \n",
       "3         SCL  Supply Utilization Accounts (2010-)                4   \n",
       "4         SCL  Supply Utilization Accounts (2010-)                4   \n",
       "\n",
       "          Area  Element Code                                 Element  \\\n",
       "0  Afghanistan           674  Protein supply quantity (g/capita/day)   \n",
       "1  Afghanistan           674  Protein supply quantity (g/capita/day)   \n",
       "2  Afghanistan           674  Protein supply quantity (g/capita/day)   \n",
       "3  Afghanistan           674  Protein supply quantity (g/capita/day)   \n",
       "4  Afghanistan           674  Protein supply quantity (g/capita/day)   \n",
       "\n",
       "  Item Code (CPC)  \\\n",
       "0           21422   \n",
       "1        21529.03   \n",
       "2           34550   \n",
       "3           01654   \n",
       "4        21435.01   \n",
       "\n",
       "                                                                                                                                                                                                                           Item  \\\n",
       "0                                                                                                                                                                                                              Almonds, shelled   \n",
       "1                                                                                                                                                                                                   Animal oils and fats n.e.c.   \n",
       "2  Animal or vegetable fats and oils and their fractions, chemically modified, except those hydrogenated, inter-esterified, re-esterified or elaidinized; inedible mixtures or preparations of animal or vegetable fats or oils   \n",
       "3                                                                                                                                                     Anise, badian, coriander, cumin, caraway, fennel and juniper berries, raw   \n",
       "4                                                                                                                                                                                                                   Apple juice   \n",
       "\n",
       "   Year Code  Year          Unit  Value Flag Flag Description  \n",
       "0       2020  2020  g/capita/day   0.24    I    Imputed value  \n",
       "1       2020  2020  g/capita/day   0.00    I    Imputed value  \n",
       "2       2020  2020  g/capita/day   0.00    I    Imputed value  \n",
       "3       2020  2020  g/capita/day   0.07    I    Imputed value  \n",
       "4       2020  2020  g/capita/day   0.00    I    Imputed value  "
      ]
     },
     "execution_count": 60,
     "metadata": {},
     "output_type": "execute_result"
    }
   ],
   "source": [
    "protein.head()"
   ]
  },
  {
   "cell_type": "code",
   "execution_count": 61,
   "id": "5150c7ae",
   "metadata": {},
   "outputs": [
    {
     "data": {
      "text/plain": [
       "array(['Protein supply quantity (g/capita/day)'], dtype=object)"
      ]
     },
     "execution_count": 61,
     "metadata": {},
     "output_type": "execute_result"
    }
   ],
   "source": [
    "protein['Element'].unique()"
   ]
  },
  {
   "cell_type": "code",
   "execution_count": 62,
   "id": "4d47ccc6",
   "metadata": {},
   "outputs": [
    {
     "data": {
      "application/vnd.microsoft.datawrangler.viewer.v0+json": {
       "columns": [
        {
         "name": "index",
         "rawType": "int64",
         "type": "integer"
        },
        {
         "name": "Area",
         "rawType": "object",
         "type": "string"
        },
        {
         "name": "Value",
         "rawType": "float64",
         "type": "float"
        }
       ],
       "ref": "ace28e13-6fac-4669-849a-5b7546faac5c",
       "rows": [
        [
         "0",
         "Afghanistan",
         "56.449999999999996"
        ],
        [
         "1",
         "Albania",
         "109.98"
        ],
        [
         "2",
         "Algeria",
         "88.32"
        ],
        [
         "3",
         "Angola",
         "43.94"
        ],
        [
         "4",
         "Antigua and Barbuda",
         "67.81"
        ]
       ],
       "shape": {
        "columns": 2,
        "rows": 5
       }
      },
      "text/html": [
       "<div>\n",
       "<style scoped>\n",
       "    .dataframe tbody tr th:only-of-type {\n",
       "        vertical-align: middle;\n",
       "    }\n",
       "\n",
       "    .dataframe tbody tr th {\n",
       "        vertical-align: top;\n",
       "    }\n",
       "\n",
       "    .dataframe thead th {\n",
       "        text-align: right;\n",
       "    }\n",
       "</style>\n",
       "<table border=\"1\" class=\"dataframe\">\n",
       "  <thead>\n",
       "    <tr style=\"text-align: right;\">\n",
       "      <th></th>\n",
       "      <th>Area</th>\n",
       "      <th>Value</th>\n",
       "    </tr>\n",
       "  </thead>\n",
       "  <tbody>\n",
       "    <tr>\n",
       "      <th>0</th>\n",
       "      <td>Afghanistan</td>\n",
       "      <td>56.45</td>\n",
       "    </tr>\n",
       "    <tr>\n",
       "      <th>1</th>\n",
       "      <td>Albania</td>\n",
       "      <td>109.98</td>\n",
       "    </tr>\n",
       "    <tr>\n",
       "      <th>2</th>\n",
       "      <td>Algeria</td>\n",
       "      <td>88.32</td>\n",
       "    </tr>\n",
       "    <tr>\n",
       "      <th>3</th>\n",
       "      <td>Angola</td>\n",
       "      <td>43.94</td>\n",
       "    </tr>\n",
       "    <tr>\n",
       "      <th>4</th>\n",
       "      <td>Antigua and Barbuda</td>\n",
       "      <td>67.81</td>\n",
       "    </tr>\n",
       "  </tbody>\n",
       "</table>\n",
       "</div>"
      ],
      "text/plain": [
       "                  Area   Value\n",
       "0          Afghanistan   56.45\n",
       "1              Albania  109.98\n",
       "2              Algeria   88.32\n",
       "3               Angola   43.94\n",
       "4  Antigua and Barbuda   67.81"
      ]
     },
     "execution_count": 62,
     "metadata": {},
     "output_type": "execute_result"
    }
   ],
   "source": [
    "# sum values across all food sources by country\n",
    "protein_trim = protein.groupby('Area')['Value'].sum().reset_index()\n",
    "protein_trim.head()"
   ]
  },
  {
   "cell_type": "code",
   "execution_count": 63,
   "id": "d1401a43",
   "metadata": {},
   "outputs": [
    {
     "name": "stdout",
     "output_type": "stream",
     "text": [
      "<class 'pandas.core.frame.DataFrame'>\n",
      "RangeIndex: 186 entries, 0 to 185\n",
      "Data columns (total 2 columns):\n",
      " #   Column                   Non-Null Count  Dtype   \n",
      "---  ------                   --------------  -----   \n",
      " 0   country_protein          186 non-null    category\n",
      " 1   total_protein_g_cap_day  186 non-null    float64 \n",
      "dtypes: category(1), float64(1)\n",
      "memory usage: 7.5 KB\n"
     ]
    }
   ],
   "source": [
    "# rename columns and type casting\n",
    "protein_trim.rename(columns={'Area': 'country_protein', 'Value':'total_protein_g_cap_day'}, inplace=True)\n",
    "protein_trim['total_protein_g_cap_day'] = protein_trim['total_protein_g_cap_day'].astype(float)\n",
    "protein_trim['country_protein'] = protein_trim['country_protein'].astype('category')\n",
    "protein_trim.info()"
   ]
  },
  {
   "cell_type": "code",
   "execution_count": 64,
   "id": "77e927c7",
   "metadata": {},
   "outputs": [
    {
     "name": "stdout",
     "output_type": "stream",
     "text": [
      "Il y a 186 pays dans le fichier de disponibilite totale en proteines.\n",
      "Aucun doublon dans la table.\n"
     ]
    }
   ],
   "source": [
    "print(\"Il y a\", protein_trim['country_protein'].nunique(), \"pays dans le fichier de disponibilite totale en proteines.\")\n",
    "if (protein_trim.loc[protein_trim.duplicated() == True].shape[0]) != 0:\n",
    "    print(\"Doublons dans la table.\")\n",
    "else:\n",
    "    print (\"Aucun doublon dans la table.\")"
   ]
  },
  {
   "cell_type": "markdown",
   "id": "cb811ef9",
   "metadata": {},
   "source": [
    "## 1.8 - Consommation totale de proteines animales"
   ]
  },
  {
   "cell_type": "code",
   "execution_count": 65,
   "id": "5e0328cd",
   "metadata": {},
   "outputs": [
    {
     "data": {
      "application/vnd.microsoft.datawrangler.viewer.v0+json": {
       "columns": [
        {
         "name": "index",
         "rawType": "int64",
         "type": "integer"
        },
        {
         "name": "Entity",
         "rawType": "object",
         "type": "string"
        },
        {
         "name": "Code",
         "rawType": "object",
         "type": "string"
        },
        {
         "name": "Year",
         "rawType": "int64",
         "type": "integer"
        },
        {
         "name": "Animal Products | 00002941 || Food available for consumption | 0674pc || grams of protein per day per capita",
         "rawType": "float64",
         "type": "float"
        },
        {
         "name": "GDP per capita, PPP (constant 2017 international $)",
         "rawType": "float64",
         "type": "float"
        },
        {
         "name": "Population (historical estimates)",
         "rawType": "int64",
         "type": "integer"
        },
        {
         "name": "Continent",
         "rawType": "float64",
         "type": "float"
        }
       ],
       "ref": "acebe812-bc98-4060-a889-5778c4d43de4",
       "rows": [
        [
         "0",
         "Afghanistan",
         "AFG",
         "2020",
         "10.448221",
         "1970.560181",
         "38972236",
         null
        ],
        [
         "1",
         "Albania",
         "ALB",
         "2020",
         "59.114933",
         "13191.95215",
         "2866850",
         null
        ],
        [
         "2",
         "Algeria",
         "DZA",
         "2020",
         "24.795826",
         "10735.38281",
         "43451668",
         null
        ],
        [
         "3",
         "American Samoa",
         "ASM",
         "2020",
         null,
         null,
         "46216",
         null
        ],
        [
         "4",
         "Andorra",
         "AND",
         "2020",
         null,
         null,
         "77723",
         null
        ]
       ],
       "shape": {
        "columns": 7,
        "rows": 5
       }
      },
      "text/html": [
       "<div>\n",
       "<style scoped>\n",
       "    .dataframe tbody tr th:only-of-type {\n",
       "        vertical-align: middle;\n",
       "    }\n",
       "\n",
       "    .dataframe tbody tr th {\n",
       "        vertical-align: top;\n",
       "    }\n",
       "\n",
       "    .dataframe thead th {\n",
       "        text-align: right;\n",
       "    }\n",
       "</style>\n",
       "<table border=\"1\" class=\"dataframe\">\n",
       "  <thead>\n",
       "    <tr style=\"text-align: right;\">\n",
       "      <th></th>\n",
       "      <th>Entity</th>\n",
       "      <th>Code</th>\n",
       "      <th>Year</th>\n",
       "      <th>Animal Products | 00002941 || Food available for consumption | 0674pc || grams of protein per day per capita</th>\n",
       "      <th>GDP per capita, PPP (constant 2017 international $)</th>\n",
       "      <th>Population (historical estimates)</th>\n",
       "      <th>Continent</th>\n",
       "    </tr>\n",
       "  </thead>\n",
       "  <tbody>\n",
       "    <tr>\n",
       "      <th>0</th>\n",
       "      <td>Afghanistan</td>\n",
       "      <td>AFG</td>\n",
       "      <td>2020</td>\n",
       "      <td>10.448221</td>\n",
       "      <td>1970.560181</td>\n",
       "      <td>38972236</td>\n",
       "      <td>NaN</td>\n",
       "    </tr>\n",
       "    <tr>\n",
       "      <th>1</th>\n",
       "      <td>Albania</td>\n",
       "      <td>ALB</td>\n",
       "      <td>2020</td>\n",
       "      <td>59.114933</td>\n",
       "      <td>13191.952150</td>\n",
       "      <td>2866850</td>\n",
       "      <td>NaN</td>\n",
       "    </tr>\n",
       "    <tr>\n",
       "      <th>2</th>\n",
       "      <td>Algeria</td>\n",
       "      <td>DZA</td>\n",
       "      <td>2020</td>\n",
       "      <td>24.795826</td>\n",
       "      <td>10735.382810</td>\n",
       "      <td>43451668</td>\n",
       "      <td>NaN</td>\n",
       "    </tr>\n",
       "    <tr>\n",
       "      <th>3</th>\n",
       "      <td>American Samoa</td>\n",
       "      <td>ASM</td>\n",
       "      <td>2020</td>\n",
       "      <td>NaN</td>\n",
       "      <td>NaN</td>\n",
       "      <td>46216</td>\n",
       "      <td>NaN</td>\n",
       "    </tr>\n",
       "    <tr>\n",
       "      <th>4</th>\n",
       "      <td>Andorra</td>\n",
       "      <td>AND</td>\n",
       "      <td>2020</td>\n",
       "      <td>NaN</td>\n",
       "      <td>NaN</td>\n",
       "      <td>77723</td>\n",
       "      <td>NaN</td>\n",
       "    </tr>\n",
       "  </tbody>\n",
       "</table>\n",
       "</div>"
      ],
      "text/plain": [
       "           Entity Code  Year  \\\n",
       "0     Afghanistan  AFG  2020   \n",
       "1         Albania  ALB  2020   \n",
       "2         Algeria  DZA  2020   \n",
       "3  American Samoa  ASM  2020   \n",
       "4         Andorra  AND  2020   \n",
       "\n",
       "   Animal Products | 00002941 || Food available for consumption | 0674pc || grams of protein per day per capita  \\\n",
       "0                                                                                                     10.448221   \n",
       "1                                                                                                     59.114933   \n",
       "2                                                                                                     24.795826   \n",
       "3                                                                                                           NaN   \n",
       "4                                                                                                           NaN   \n",
       "\n",
       "   GDP per capita, PPP (constant 2017 international $)  \\\n",
       "0                                          1970.560181   \n",
       "1                                         13191.952150   \n",
       "2                                         10735.382810   \n",
       "3                                                  NaN   \n",
       "4                                                  NaN   \n",
       "\n",
       "   Population (historical estimates)  Continent  \n",
       "0                           38972236        NaN  \n",
       "1                            2866850        NaN  \n",
       "2                           43451668        NaN  \n",
       "3                              46216        NaN  \n",
       "4                              77723        NaN  "
      ]
     },
     "execution_count": 65,
     "metadata": {},
     "output_type": "execute_result"
    }
   ],
   "source": [
    "protein_anim.head()"
   ]
  },
  {
   "cell_type": "code",
   "execution_count": 66,
   "id": "a2ee1ec4",
   "metadata": {},
   "outputs": [
    {
     "data": {
      "application/vnd.microsoft.datawrangler.viewer.v0+json": {
       "columns": [
        {
         "name": "index",
         "rawType": "int64",
         "type": "integer"
        },
        {
         "name": "Entity",
         "rawType": "object",
         "type": "string"
        },
        {
         "name": "Code",
         "rawType": "object",
         "type": "string"
        },
        {
         "name": "Animal Products | 00002941 || Food available for consumption | 0674pc || grams of protein per day per capita",
         "rawType": "float64",
         "type": "float"
        }
       ],
       "ref": "081d84ad-826f-4b43-a65a-a1a35fa76395",
       "rows": [
        [
         "0",
         "Afghanistan",
         "AFG",
         "10.448221"
        ],
        [
         "1",
         "Albania",
         "ALB",
         "59.114933"
        ],
        [
         "2",
         "Algeria",
         "DZA",
         "24.795826"
        ],
        [
         "3",
         "American Samoa",
         "ASM",
         null
        ],
        [
         "4",
         "Andorra",
         "AND",
         null
        ]
       ],
       "shape": {
        "columns": 3,
        "rows": 5
       }
      },
      "text/html": [
       "<div>\n",
       "<style scoped>\n",
       "    .dataframe tbody tr th:only-of-type {\n",
       "        vertical-align: middle;\n",
       "    }\n",
       "\n",
       "    .dataframe tbody tr th {\n",
       "        vertical-align: top;\n",
       "    }\n",
       "\n",
       "    .dataframe thead th {\n",
       "        text-align: right;\n",
       "    }\n",
       "</style>\n",
       "<table border=\"1\" class=\"dataframe\">\n",
       "  <thead>\n",
       "    <tr style=\"text-align: right;\">\n",
       "      <th></th>\n",
       "      <th>Entity</th>\n",
       "      <th>Code</th>\n",
       "      <th>Animal Products | 00002941 || Food available for consumption | 0674pc || grams of protein per day per capita</th>\n",
       "    </tr>\n",
       "  </thead>\n",
       "  <tbody>\n",
       "    <tr>\n",
       "      <th>0</th>\n",
       "      <td>Afghanistan</td>\n",
       "      <td>AFG</td>\n",
       "      <td>10.448221</td>\n",
       "    </tr>\n",
       "    <tr>\n",
       "      <th>1</th>\n",
       "      <td>Albania</td>\n",
       "      <td>ALB</td>\n",
       "      <td>59.114933</td>\n",
       "    </tr>\n",
       "    <tr>\n",
       "      <th>2</th>\n",
       "      <td>Algeria</td>\n",
       "      <td>DZA</td>\n",
       "      <td>24.795826</td>\n",
       "    </tr>\n",
       "    <tr>\n",
       "      <th>3</th>\n",
       "      <td>American Samoa</td>\n",
       "      <td>ASM</td>\n",
       "      <td>NaN</td>\n",
       "    </tr>\n",
       "    <tr>\n",
       "      <th>4</th>\n",
       "      <td>Andorra</td>\n",
       "      <td>AND</td>\n",
       "      <td>NaN</td>\n",
       "    </tr>\n",
       "  </tbody>\n",
       "</table>\n",
       "</div>"
      ],
      "text/plain": [
       "           Entity Code  \\\n",
       "0     Afghanistan  AFG   \n",
       "1         Albania  ALB   \n",
       "2         Algeria  DZA   \n",
       "3  American Samoa  ASM   \n",
       "4         Andorra  AND   \n",
       "\n",
       "   Animal Products | 00002941 || Food available for consumption | 0674pc || grams of protein per day per capita  \n",
       "0                                                                                                     10.448221  \n",
       "1                                                                                                     59.114933  \n",
       "2                                                                                                     24.795826  \n",
       "3                                                                                                           NaN  \n",
       "4                                                                                                           NaN  "
      ]
     },
     "execution_count": 66,
     "metadata": {},
     "output_type": "execute_result"
    }
   ],
   "source": [
    "protein_anim_trim = protein_anim[['Entity','Code',\n",
    "                                  \"Animal Products | 00002941 || Food available for consumption | 0674pc || grams of protein per day per capita\"]].copy()\n",
    "protein_anim_trim.head()"
   ]
  },
  {
   "cell_type": "code",
   "execution_count": 67,
   "id": "fc784358",
   "metadata": {},
   "outputs": [],
   "source": [
    "# rename columns and type casting\n",
    "protein_anim_trim.rename(columns={'Entity': 'country_protein_anim',\n",
    "                                 \"Animal Products | 00002941 || Food available for consumption | 0674pc || grams of protein per day per capita\":'animal_protein_g_cap_day',\n",
    "                                 \"Code\" : 'iso_code'}, inplace=True)\n",
    "protein_anim_trim['animal_protein_g_cap_day'] = protein_anim_trim['animal_protein_g_cap_day'].astype(float)\n",
    "protein_anim_trim['country_protein_anim'] = protein_anim_trim['country_protein_anim'].astype('category')\n",
    "protein_anim_trim['iso_code'] = protein_anim_trim['iso_code'].astype('category')"
   ]
  },
  {
   "cell_type": "code",
   "execution_count": 68,
   "id": "fbdbe0af",
   "metadata": {},
   "outputs": [
    {
     "name": "stdout",
     "output_type": "stream",
     "text": [
      "Il y a  236 pays dans le fichier de consommation de proteines animales.\n",
      "Aucun doublon dans la table.\n"
     ]
    }
   ],
   "source": [
    "print(\"Il y a \", protein_anim_trim['country_protein_anim'].nunique(),\n",
    "      \"pays dans le fichier de consommation de proteines animales.\")\n",
    "if (protein_anim_trim.loc[protein_anim_trim.duplicated() == True].shape[0]) != 0:\n",
    "    print(\"Doublons dans la table.\")\n",
    "else:\n",
    "    print (\"Aucun doublon dans la table.\")"
   ]
  },
  {
   "cell_type": "markdown",
   "id": "0bec89b9",
   "metadata": {},
   "source": [
    "## 1.9 - Mortalite attribuee a l'obesite"
   ]
  },
  {
   "cell_type": "code",
   "execution_count": 69,
   "id": "820f4142",
   "metadata": {},
   "outputs": [
    {
     "data": {
      "application/vnd.microsoft.datawrangler.viewer.v0+json": {
       "columns": [
        {
         "name": "index",
         "rawType": "int64",
         "type": "integer"
        },
        {
         "name": "Entity",
         "rawType": "object",
         "type": "string"
        },
        {
         "name": "Code",
         "rawType": "object",
         "type": "string"
        },
        {
         "name": "Year",
         "rawType": "int64",
         "type": "integer"
        },
        {
         "name": "Deaths - Cause: All causes - Risk: High body-mass index - Sex: Both - Age: Age-standardized (Percent)",
         "rawType": "float64",
         "type": "float"
        }
       ],
       "ref": "1e2d1bf4-4bd4-4b54-849a-002c7d288b4a",
       "rows": [
        [
         "0",
         "Afghanistan",
         "AFG",
         "2019",
         "12.34"
        ],
        [
         "1",
         "Albania",
         "ALB",
         "2019",
         "12.87"
        ],
        [
         "2",
         "Algeria",
         "DZA",
         "2019",
         "17.06"
        ],
        [
         "3",
         "American Samoa",
         "ASM",
         "2019",
         "22.38"
        ],
        [
         "4",
         "Andorra",
         "AND",
         "2019",
         "9.03"
        ]
       ],
       "shape": {
        "columns": 4,
        "rows": 5
       }
      },
      "text/html": [
       "<div>\n",
       "<style scoped>\n",
       "    .dataframe tbody tr th:only-of-type {\n",
       "        vertical-align: middle;\n",
       "    }\n",
       "\n",
       "    .dataframe tbody tr th {\n",
       "        vertical-align: top;\n",
       "    }\n",
       "\n",
       "    .dataframe thead th {\n",
       "        text-align: right;\n",
       "    }\n",
       "</style>\n",
       "<table border=\"1\" class=\"dataframe\">\n",
       "  <thead>\n",
       "    <tr style=\"text-align: right;\">\n",
       "      <th></th>\n",
       "      <th>Entity</th>\n",
       "      <th>Code</th>\n",
       "      <th>Year</th>\n",
       "      <th>Deaths - Cause: All causes - Risk: High body-mass index - Sex: Both - Age: Age-standardized (Percent)</th>\n",
       "    </tr>\n",
       "  </thead>\n",
       "  <tbody>\n",
       "    <tr>\n",
       "      <th>0</th>\n",
       "      <td>Afghanistan</td>\n",
       "      <td>AFG</td>\n",
       "      <td>2019</td>\n",
       "      <td>12.34</td>\n",
       "    </tr>\n",
       "    <tr>\n",
       "      <th>1</th>\n",
       "      <td>Albania</td>\n",
       "      <td>ALB</td>\n",
       "      <td>2019</td>\n",
       "      <td>12.87</td>\n",
       "    </tr>\n",
       "    <tr>\n",
       "      <th>2</th>\n",
       "      <td>Algeria</td>\n",
       "      <td>DZA</td>\n",
       "      <td>2019</td>\n",
       "      <td>17.06</td>\n",
       "    </tr>\n",
       "    <tr>\n",
       "      <th>3</th>\n",
       "      <td>American Samoa</td>\n",
       "      <td>ASM</td>\n",
       "      <td>2019</td>\n",
       "      <td>22.38</td>\n",
       "    </tr>\n",
       "    <tr>\n",
       "      <th>4</th>\n",
       "      <td>Andorra</td>\n",
       "      <td>AND</td>\n",
       "      <td>2019</td>\n",
       "      <td>9.03</td>\n",
       "    </tr>\n",
       "  </tbody>\n",
       "</table>\n",
       "</div>"
      ],
      "text/plain": [
       "           Entity Code  Year  \\\n",
       "0     Afghanistan  AFG  2019   \n",
       "1         Albania  ALB  2019   \n",
       "2         Algeria  DZA  2019   \n",
       "3  American Samoa  ASM  2019   \n",
       "4         Andorra  AND  2019   \n",
       "\n",
       "   Deaths - Cause: All causes - Risk: High body-mass index - Sex: Both - Age: Age-standardized (Percent)  \n",
       "0                                                                                                  12.34  \n",
       "1                                                                                                  12.87  \n",
       "2                                                                                                  17.06  \n",
       "3                                                                                                  22.38  \n",
       "4                                                                                                   9.03  "
      ]
     },
     "execution_count": 69,
     "metadata": {},
     "output_type": "execute_result"
    }
   ],
   "source": [
    "obesity.head()"
   ]
  },
  {
   "cell_type": "code",
   "execution_count": 70,
   "id": "78e51a7d",
   "metadata": {},
   "outputs": [],
   "source": [
    "# select only relevant columns\n",
    "obesity_trim = obesity[['Entity','Code',\n",
    "                        'Deaths - Cause: All causes - Risk: High body-mass index - Sex: Both - Age: Age-standardized (Percent)']].copy()"
   ]
  },
  {
   "cell_type": "code",
   "execution_count": 71,
   "id": "89a9076d",
   "metadata": {},
   "outputs": [],
   "source": [
    "# rename columns and type casting\n",
    "obesity_trim.rename(columns={'Entity': 'country_obesity',\n",
    "                             \"Deaths - Cause: All causes - Risk: High body-mass index - Sex: Both - Age: Age-standardized (Percent)\":'obesity_deaths_%',\n",
    "                             \"Code\" : 'iso_code'}, inplace=True)\n",
    "obesity_trim['obesity_deaths_%'] = obesity_trim['obesity_deaths_%'].astype(float)\n",
    "obesity_trim['country_obesity'] = obesity_trim['country_obesity'].astype('category')\n",
    "obesity_trim['iso_code'] = obesity_trim['iso_code'].astype('category')"
   ]
  },
  {
   "cell_type": "code",
   "execution_count": 72,
   "id": "6152fabe",
   "metadata": {},
   "outputs": [
    {
     "name": "stdout",
     "output_type": "stream",
     "text": [
      "Il y a 205 pays dans le fichier de mortalite par obesite.\n",
      "Aucun doublon dans la table.\n"
     ]
    }
   ],
   "source": [
    "print(\"Il y a\", obesity_trim['country_obesity'].nunique(), \"pays dans le fichier de mortalite par obesite.\")\n",
    "if (obesity_trim.loc[obesity_trim.duplicated() == True].shape[0]) != 0:\n",
    "    print(\"Doublons dans la table.\")\n",
    "else:\n",
    "    print (\"Aucun doublon dans la table.\")"
   ]
  },
  {
   "cell_type": "markdown",
   "id": "0191e14f",
   "metadata": {},
   "source": [
    "## 1.10 - Commerce exterieur en % du PIB"
   ]
  },
  {
   "cell_type": "code",
   "execution_count": 73,
   "id": "469819d6",
   "metadata": {},
   "outputs": [
    {
     "data": {
      "application/vnd.microsoft.datawrangler.viewer.v0+json": {
       "columns": [
        {
         "name": "index",
         "rawType": "int64",
         "type": "integer"
        },
        {
         "name": "Entity",
         "rawType": "object",
         "type": "string"
        },
        {
         "name": "Code",
         "rawType": "object",
         "type": "string"
        },
        {
         "name": "Year",
         "rawType": "int64",
         "type": "integer"
        },
        {
         "name": "Trade (% of GDP)",
         "rawType": "float64",
         "type": "float"
        }
       ],
       "ref": "481acf46-5834-4be3-bc6e-de98ab0128db",
       "rows": [
        [
         "0",
         "Albania",
         "ALB",
         "2020",
         "60.96992111"
        ],
        [
         "1",
         "Algeria",
         "DZA",
         "2020",
         "45.84199142"
        ],
        [
         "2",
         "American Samoa",
         "ASM",
         "2020",
         "151.9040833"
        ],
        [
         "3",
         "Angola",
         "AGO",
         "2020",
         "66.90747833"
        ],
        [
         "4",
         "Antigua and Barbuda",
         "ATG",
         "2020",
         "91.52513885"
        ]
       ],
       "shape": {
        "columns": 4,
        "rows": 5
       }
      },
      "text/html": [
       "<div>\n",
       "<style scoped>\n",
       "    .dataframe tbody tr th:only-of-type {\n",
       "        vertical-align: middle;\n",
       "    }\n",
       "\n",
       "    .dataframe tbody tr th {\n",
       "        vertical-align: top;\n",
       "    }\n",
       "\n",
       "    .dataframe thead th {\n",
       "        text-align: right;\n",
       "    }\n",
       "</style>\n",
       "<table border=\"1\" class=\"dataframe\">\n",
       "  <thead>\n",
       "    <tr style=\"text-align: right;\">\n",
       "      <th></th>\n",
       "      <th>Entity</th>\n",
       "      <th>Code</th>\n",
       "      <th>Year</th>\n",
       "      <th>Trade (% of GDP)</th>\n",
       "    </tr>\n",
       "  </thead>\n",
       "  <tbody>\n",
       "    <tr>\n",
       "      <th>0</th>\n",
       "      <td>Albania</td>\n",
       "      <td>ALB</td>\n",
       "      <td>2020</td>\n",
       "      <td>60.969921</td>\n",
       "    </tr>\n",
       "    <tr>\n",
       "      <th>1</th>\n",
       "      <td>Algeria</td>\n",
       "      <td>DZA</td>\n",
       "      <td>2020</td>\n",
       "      <td>45.841991</td>\n",
       "    </tr>\n",
       "    <tr>\n",
       "      <th>2</th>\n",
       "      <td>American Samoa</td>\n",
       "      <td>ASM</td>\n",
       "      <td>2020</td>\n",
       "      <td>151.904083</td>\n",
       "    </tr>\n",
       "    <tr>\n",
       "      <th>3</th>\n",
       "      <td>Angola</td>\n",
       "      <td>AGO</td>\n",
       "      <td>2020</td>\n",
       "      <td>66.907478</td>\n",
       "    </tr>\n",
       "    <tr>\n",
       "      <th>4</th>\n",
       "      <td>Antigua and Barbuda</td>\n",
       "      <td>ATG</td>\n",
       "      <td>2020</td>\n",
       "      <td>91.525139</td>\n",
       "    </tr>\n",
       "  </tbody>\n",
       "</table>\n",
       "</div>"
      ],
      "text/plain": [
       "                Entity Code  Year  Trade (% of GDP)\n",
       "0              Albania  ALB  2020         60.969921\n",
       "1              Algeria  DZA  2020         45.841991\n",
       "2       American Samoa  ASM  2020        151.904083\n",
       "3               Angola  AGO  2020         66.907478\n",
       "4  Antigua and Barbuda  ATG  2020         91.525139"
      ]
     },
     "execution_count": 73,
     "metadata": {},
     "output_type": "execute_result"
    }
   ],
   "source": [
    "open_economy.head()"
   ]
  },
  {
   "cell_type": "code",
   "execution_count": 74,
   "id": "992a6ab6",
   "metadata": {},
   "outputs": [],
   "source": [
    "# select only relevant columns\n",
    "open_economy_trim = open_economy[['Entity','Code', 'Trade (% of GDP)']].copy()"
   ]
  },
  {
   "cell_type": "code",
   "execution_count": 75,
   "id": "5521af3c",
   "metadata": {},
   "outputs": [],
   "source": [
    "# rename columns and type casting\n",
    "open_economy_trim.rename(columns={'Entity': 'country_open_eco', \"Trade (% of GDP)\": 'trade_%_gdp',\n",
    "                             \"Code\" : 'iso_code'}, inplace=True)\n",
    "open_economy_trim['trade_%_gdp'] = open_economy_trim['trade_%_gdp'].astype(float)\n",
    "open_economy_trim['country_open_eco'] = open_economy_trim['country_open_eco'].astype('category')\n",
    "open_economy_trim['iso_code'] = open_economy_trim['iso_code'].astype('category')"
   ]
  },
  {
   "cell_type": "code",
   "execution_count": 76,
   "id": "305ac356",
   "metadata": {},
   "outputs": [
    {
     "name": "stdout",
     "output_type": "stream",
     "text": [
      "Il y a 165 pays dans le fichier d'ouverture economique.\n",
      "Aucun doublon dans la table.\n"
     ]
    }
   ],
   "source": [
    "print(\"Il y a\", open_economy_trim['country_open_eco'].nunique(),\"pays dans le fichier d'ouverture economique.\")\n",
    "if (open_economy_trim.loc[open_economy_trim.duplicated() == True].shape[0]) != 0:\n",
    "    print(\"Doublons dans la table.\")\n",
    "else:\n",
    "    print (\"Aucun doublon dans la table.\")"
   ]
  },
  {
   "cell_type": "markdown",
   "id": "79cd5ae3",
   "metadata": {},
   "source": [
    "## 1.11 - Jointure des tables & export du fichier .csv"
   ]
  },
  {
   "cell_type": "code",
   "execution_count": 77,
   "id": "d9365114",
   "metadata": {},
   "outputs": [],
   "source": [
    "data = countries_trim.merge(pop_trim,\n",
    "                            how='left',\n",
    "                            left_on='country',\n",
    "                            right_on='country_pop').merge(gdp_trim,\n",
    "                                                          how='left',\n",
    "                                                          left_on='country',\n",
    "                                                          right_on='country_gdp').merge(trade_trim,\n",
    "                                                                                        how='left',\n",
    "                                                                                        left_on='country',\n",
    "                                                                                        right_on='country_trade').merge(stability_trim,\n",
    "                                                                                                                        how='left',\n",
    "                                                                                                                        left_on='country',\n",
    "                                                                                                                        right_on='country_stability').merge(dispo_trim,\n",
    "                                                                                                                                                            how='left',\n",
    "                                                                                                                                                            left_on='country',\n",
    "                                                                                                                                                            right_on='country_dispo').merge(protein_trim,\n",
    "                                                                                                                                                                                            how='left',\n",
    "                                                                                                                                                                                            left_on='country',\n",
    "                                                                                                                                                                                            right_on='country_protein').merge(protein_anim_trim,\n",
    "                                                                                                                                                                                                                              how='left',\n",
    "                                                                                                                                                                                                                              left_on='iso3',\n",
    "                                                                                                                                                                                                                              right_on='iso_code').merge(obesity_trim,\n",
    "                                                                                                                                                                                                                                                         how='left',\n",
    "                                                                                                                                                                                                                                                         left_on='iso3',\n",
    "                                                                                                                                                                                                                                                         right_on='iso_code').merge(open_economy_trim,\n",
    "                                                                                                                                                                                                                                                                                    how='left',\n",
    "                                                                                                                                                                                                                                                                                    left_on='iso3',\n",
    "                                                                                                                                                                                                                                                                                    right_on='iso_code').drop(columns=['country_pop', 'country_gdp', 'country_trade', 'country_stability', 'country_dispo', 'country_protein','country_protein_anim','country_open_eco','country_obesity','iso_code_x','iso_code_y','iso_code'])"
   ]
  },
  {
   "cell_type": "markdown",
   "id": "4f76c5fb",
   "metadata": {},
   "source": [
    "#### L'ouverture du pays aux echanges commerciaux et la consommation de proteines de volailles sont consideres comme des indicateurs essentiels pour notre analyse, donc nous choisissons d'ignorer les pays pour lequels ces informations n'existent pas, plutot que de recourir a une imputation par la moyenne ou la mediane qui semble peu recommandee ici compte-tenu de la grande disparite economique et de developpement des pays pour lesquels cette information est absente."
   ]
  },
  {
   "cell_type": "code",
   "execution_count": 78,
   "id": "53a99f13",
   "metadata": {},
   "outputs": [],
   "source": [
    "# remove countries where data on trade as a % of GDP is not available\n",
    "# remove countries where  data on daily protein consumption of poultry origin is not available\n",
    "# as both data are essential to our analysis\n",
    "data = data.loc[(~data['country'].isin(small_islands_list))                 \n",
    "                     & (~data['poultry_protein_g_cap_day'].isna())\n",
    "                     & (~data['trade_%_gdp'].isna())].copy()                   "
   ]
  },
  {
   "cell_type": "code",
   "execution_count": 79,
   "id": "92876ee5",
   "metadata": {},
   "outputs": [
    {
     "data": {
      "application/vnd.microsoft.datawrangler.viewer.v0+json": {
       "columns": [
        {
         "name": "index",
         "rawType": "int64",
         "type": "integer"
        },
        {
         "name": "country",
         "rawType": "object",
         "type": "string"
        },
        {
         "name": "iso3",
         "rawType": "object",
         "type": "string"
        },
        {
         "name": "Country Group",
         "rawType": "object",
         "type": "string"
        },
        {
         "name": "total_pop",
         "rawType": "float64",
         "type": "float"
        },
        {
         "name": "urban_pop",
         "rawType": "float64",
         "type": "float"
        },
        {
         "name": "gdp_growth_%",
         "rawType": "float64",
         "type": "float"
        },
        {
         "name": "gdp_per_cap_US$",
         "rawType": "float64",
         "type": "float"
        },
        {
         "name": "net_imports_poultry_US$",
         "rawType": "float64",
         "type": "float"
        },
        {
         "name": "safety_stability_index",
         "rawType": "float64",
         "type": "float"
        },
        {
         "name": "poultry_consumption_tonnes",
         "rawType": "float64",
         "type": "float"
        },
        {
         "name": "poultry_protein_g_cap_day",
         "rawType": "float64",
         "type": "float"
        },
        {
         "name": "total_protein_g_cap_day",
         "rawType": "float64",
         "type": "float"
        },
        {
         "name": "animal_protein_g_cap_day",
         "rawType": "float64",
         "type": "float"
        },
        {
         "name": "obesity_deaths_%",
         "rawType": "float64",
         "type": "float"
        },
        {
         "name": "trade_%_gdp",
         "rawType": "float64",
         "type": "float"
        }
       ],
       "ref": "e24a1b6c-f0a0-4351-8fb4-b8cac9e4d004",
       "rows": [
        [
         "29",
         "China, Hong Kong SAR",
         "HKG",
         "World",
         "7500958.0",
         "7547652.0",
         "-4.991506",
         "45984.788703",
         "736062000.0",
         "0.09",
         "403721.08999999997",
         "20.259999999999998",
         "124.06",
         "107.82283",
         null,
         "351.6640015"
        ],
        [
         "30",
         "China, Macao SAR",
         "MAC",
         "World",
         "676283.0",
         "651875.0",
         "-53.652294",
         "37833.61853",
         "76217000.0",
         "1.15",
         "25972.68",
         "14.31",
         "84.48",
         "63.034145",
         null,
         "121.2518921"
        ],
        [
         "31",
         "China, mainland",
         "CHN",
         "World",
         "1424929781.0",
         "875075919.0",
         "2.855595",
         "10307.69639",
         "3042202000.0",
         null,
         "15434215.6",
         "3.61",
         "96.16",
         "42.030323",
         "6.39",
         "34.50688934"
        ]
       ],
       "shape": {
        "columns": 15,
        "rows": 3
       }
      },
      "text/html": [
       "<div>\n",
       "<style scoped>\n",
       "    .dataframe tbody tr th:only-of-type {\n",
       "        vertical-align: middle;\n",
       "    }\n",
       "\n",
       "    .dataframe tbody tr th {\n",
       "        vertical-align: top;\n",
       "    }\n",
       "\n",
       "    .dataframe thead th {\n",
       "        text-align: right;\n",
       "    }\n",
       "</style>\n",
       "<table border=\"1\" class=\"dataframe\">\n",
       "  <thead>\n",
       "    <tr style=\"text-align: right;\">\n",
       "      <th></th>\n",
       "      <th>country</th>\n",
       "      <th>iso3</th>\n",
       "      <th>Country Group</th>\n",
       "      <th>total_pop</th>\n",
       "      <th>urban_pop</th>\n",
       "      <th>gdp_growth_%</th>\n",
       "      <th>gdp_per_cap_US$</th>\n",
       "      <th>net_imports_poultry_US$</th>\n",
       "      <th>safety_stability_index</th>\n",
       "      <th>poultry_consumption_tonnes</th>\n",
       "      <th>poultry_protein_g_cap_day</th>\n",
       "      <th>total_protein_g_cap_day</th>\n",
       "      <th>animal_protein_g_cap_day</th>\n",
       "      <th>obesity_deaths_%</th>\n",
       "      <th>trade_%_gdp</th>\n",
       "    </tr>\n",
       "  </thead>\n",
       "  <tbody>\n",
       "    <tr>\n",
       "      <th>29</th>\n",
       "      <td>China, Hong Kong SAR</td>\n",
       "      <td>HKG</td>\n",
       "      <td>World</td>\n",
       "      <td>7.500958e+06</td>\n",
       "      <td>7547652.0</td>\n",
       "      <td>-4.991506</td>\n",
       "      <td>45984.788703</td>\n",
       "      <td>7.360620e+08</td>\n",
       "      <td>0.09</td>\n",
       "      <td>403721.09</td>\n",
       "      <td>20.26</td>\n",
       "      <td>124.06</td>\n",
       "      <td>107.822830</td>\n",
       "      <td>NaN</td>\n",
       "      <td>351.664001</td>\n",
       "    </tr>\n",
       "    <tr>\n",
       "      <th>30</th>\n",
       "      <td>China, Macao SAR</td>\n",
       "      <td>MAC</td>\n",
       "      <td>World</td>\n",
       "      <td>6.762830e+05</td>\n",
       "      <td>651875.0</td>\n",
       "      <td>-53.652294</td>\n",
       "      <td>37833.618530</td>\n",
       "      <td>7.621700e+07</td>\n",
       "      <td>1.15</td>\n",
       "      <td>25972.68</td>\n",
       "      <td>14.31</td>\n",
       "      <td>84.48</td>\n",
       "      <td>63.034145</td>\n",
       "      <td>NaN</td>\n",
       "      <td>121.251892</td>\n",
       "    </tr>\n",
       "    <tr>\n",
       "      <th>31</th>\n",
       "      <td>China, mainland</td>\n",
       "      <td>CHN</td>\n",
       "      <td>World</td>\n",
       "      <td>1.424930e+09</td>\n",
       "      <td>875075919.0</td>\n",
       "      <td>2.855595</td>\n",
       "      <td>10307.696390</td>\n",
       "      <td>3.042202e+09</td>\n",
       "      <td>NaN</td>\n",
       "      <td>15434215.60</td>\n",
       "      <td>3.61</td>\n",
       "      <td>96.16</td>\n",
       "      <td>42.030323</td>\n",
       "      <td>6.39</td>\n",
       "      <td>34.506889</td>\n",
       "    </tr>\n",
       "  </tbody>\n",
       "</table>\n",
       "</div>"
      ],
      "text/plain": [
       "                 country iso3 Country Group     total_pop    urban_pop  \\\n",
       "29  China, Hong Kong SAR  HKG         World  7.500958e+06    7547652.0   \n",
       "30      China, Macao SAR  MAC         World  6.762830e+05     651875.0   \n",
       "31       China, mainland  CHN         World  1.424930e+09  875075919.0   \n",
       "\n",
       "    gdp_growth_%  gdp_per_cap_US$  net_imports_poultry_US$  \\\n",
       "29     -4.991506     45984.788703             7.360620e+08   \n",
       "30    -53.652294     37833.618530             7.621700e+07   \n",
       "31      2.855595     10307.696390             3.042202e+09   \n",
       "\n",
       "    safety_stability_index  poultry_consumption_tonnes  \\\n",
       "29                    0.09                   403721.09   \n",
       "30                    1.15                    25972.68   \n",
       "31                     NaN                 15434215.60   \n",
       "\n",
       "    poultry_protein_g_cap_day  total_protein_g_cap_day  \\\n",
       "29                      20.26                   124.06   \n",
       "30                      14.31                    84.48   \n",
       "31                       3.61                    96.16   \n",
       "\n",
       "    animal_protein_g_cap_day  obesity_deaths_%  trade_%_gdp  \n",
       "29                107.822830               NaN   351.664001  \n",
       "30                 63.034145               NaN   121.251892  \n",
       "31                 42.030323              6.39    34.506889  "
      ]
     },
     "execution_count": 79,
     "metadata": {},
     "output_type": "execute_result"
    }
   ],
   "source": [
    "# check for missing information\n",
    "data_holes = data.loc[data.isnull().any(axis=1)]\n",
    "data_holes.head(data_holes.shape[0])"
   ]
  },
  {
   "cell_type": "code",
   "execution_count": 80,
   "id": "321a9a10",
   "metadata": {},
   "outputs": [
    {
     "name": "stderr",
     "output_type": "stream",
     "text": [
      "/var/folders/v2/_0pssf4s1yq9qc7hcc34x81c0000gn/T/ipykernel_54278/3425913485.py:3: FutureWarning: Setting an item of incompatible dtype is deprecated and will raise an error in a future version of pandas. Value '3.39' has dtype incompatible with float64, please explicitly cast to a compatible dtype first.\n",
      "  data.loc[(data['country'] == 'China, Taiwan Province of'), 'gdp_growth_%'] = '3.39'\n",
      "/var/folders/v2/_0pssf4s1yq9qc7hcc34x81c0000gn/T/ipykernel_54278/3425913485.py:5: FutureWarning: Setting an item of incompatible dtype is deprecated and will raise an error in a future version of pandas. Value '28571.44' has dtype incompatible with float64, please explicitly cast to a compatible dtype first.\n",
      "  data.loc[(data['country'] == 'China, Taiwan Province of'), 'gdp_per_cap_US$'] = '28571.44'\n",
      "/var/folders/v2/_0pssf4s1yq9qc7hcc34x81c0000gn/T/ipykernel_54278/3425913485.py:7: FutureWarning: Setting an item of incompatible dtype is deprecated and will raise an error in a future version of pandas. Value '102.478' has dtype incompatible with float64, please explicitly cast to a compatible dtype first.\n",
      "  data.loc[(data['country'] == 'China, Taiwan Province of'), 'trade_%_gdp'] = '102.478'\n"
     ]
    }
   ],
   "source": [
    "# add missing GDP info for Taiwan\n",
    "# source : https://www.statista.com/statistics/328535/gross-domestic-product-gdp-annual-growth-rate-in-taiwan/\n",
    "data.loc[(data['country'] == 'China, Taiwan Province of'), 'gdp_growth_%'] = '3.39'\n",
    "# source : https://www.statista.com/statistics/727592/gross-domestic-product-gdp-per-capita-in-taiwan/\n",
    "data.loc[(data['country'] == 'China, Taiwan Province of'), 'gdp_per_cap_US$'] = '28571.44'\n",
    "# source : https://www.ceicdata.com/en/indicator/taiwan/total-trade-of-goods--services--of-nominal-gdp\n",
    "data.loc[(data['country'] == 'China, Taiwan Province of'), 'trade_%_gdp'] = '102.478'"
   ]
  },
  {
   "cell_type": "code",
   "execution_count": 81,
   "id": "b8014833",
   "metadata": {},
   "outputs": [],
   "source": [
    "# add missing obesity deaths info for HK and Macao - imputation of same value as Mainland China\n",
    "china_obesity = data.loc[(data['country'] == 'China, mainland'), 'obesity_deaths_%']\n",
    "data.loc[(data['country'] == 'China, Hong Kong SAR'), 'obesity_deaths_%'] = china_obesity.values\n",
    "data.loc[(data['country'] == 'China, Macao SAR'), 'obesity_deaths_%'] = china_obesity.values"
   ]
  },
  {
   "cell_type": "code",
   "execution_count": 82,
   "id": "b6e33b97",
   "metadata": {},
   "outputs": [],
   "source": [
    "# add missing safety stability index for Mainland China - imputation by average value for Hong Kong and Macau\n",
    "hk_index = data.loc[(data['country'] == 'China, Hong Kong SAR'), 'safety_stability_index'] \n",
    "macao_index = data.loc[(data['country'] == 'China, Macao SAR'), 'safety_stability_index'] \n",
    "china_index = (hk_index.values + macao_index.values) / 2\n",
    "data.loc[(data['country'] == 'China, mainland'), 'safety_stability_index'] = china_index"
   ]
  },
  {
   "cell_type": "markdown",
   "id": "bcd8d72f",
   "metadata": {},
   "source": [
    "#### Nous retirons egalement de la liste les pays dont la situation d'instabilite politique et structurelle rend toute perspective de relation commerciale trop hasardeuse ou couteuse. A noter, l'information datant de 2020, l'index ne prend pas en compte la situation liee au conflit en Ukraine depuis fevrier 2022, et il conviendra de revisiter l'analyse une fois l'indice 2022 publie ou la situation resolue. "
   ]
  },
  {
   "cell_type": "markdown",
   "id": "4d13d27d",
   "metadata": {},
   "source": [
    "#### Par ailleurs, les donnees de l'annee 2020, particulierement les chiffres de croissance economique et de dynamisme des echanges internationaux ont ete fortement impactes par la pandemie de covid-19 et les differents confinements dans les pays du monde. Cependant, ces chiffres sont probablement plus proches de la \"nouvelle normalite\" caracterisant l'equilibre mondial que ceux de 2019 ; on ne peut par exemple pas exclure la survenue d'une autre pandemie a plus ou moins breve echeance, et les nouvelles normes sanitaires en place son de nature a affecter durablement le commerce international, particulierement en ce qui concerne les produits d'origine animale. Il nous a donc semble pertinent d'utiliser les donnees de 2020."
   ]
  },
  {
   "cell_type": "markdown",
   "id": "76a8144a",
   "metadata": {},
   "source": [
    "#### Enfin, il faut signaler qu'en date de fevrier 2020, les pays suivants imposent une interdiction totale sur les importations de volailles en provenance de l'Union Europeenne pour cause de grippe aviaire: Philippines, Coree du Sud, Japon, Thailande, Chine, Afrique du Sud, Maroc, Koweit et Emirats Arabes Unis. Ces pays ont ete conserves pour l'analyse, mais il conviendra de surveiller l'evolution de leur situtation au cas-par-cas, ainsi que l'evolution de l'epizootie en Europe."
   ]
  },
  {
   "cell_type": "code",
   "execution_count": 83,
   "id": "fefa2bb8",
   "metadata": {},
   "outputs": [],
   "source": [
    "# we remove countries where the safety and stability index is less than -2, which is equivalent to removing the bottom 2%\n",
    "# of the countries with the most unstable/unsafe political situation - cf. definition of index at\n",
    "# https://databank.worldbank.org/metadataglossary/worldwide-governance-indicators/series/PV.EST\n",
    "data = data.loc[(data['safety_stability_index'] > -2 )].copy() "
   ]
  },
  {
   "cell_type": "code",
   "execution_count": 84,
   "id": "fcac7f9c",
   "metadata": {},
   "outputs": [
    {
     "data": {
      "application/vnd.microsoft.datawrangler.viewer.v0+json": {
       "columns": [
        {
         "name": "index",
         "rawType": "int64",
         "type": "integer"
        },
        {
         "name": "country",
         "rawType": "object",
         "type": "string"
        },
        {
         "name": "iso3",
         "rawType": "object",
         "type": "string"
        },
        {
         "name": "Country Group",
         "rawType": "object",
         "type": "string"
        },
        {
         "name": "total_pop",
         "rawType": "float64",
         "type": "float"
        },
        {
         "name": "urban_pop",
         "rawType": "float64",
         "type": "float"
        },
        {
         "name": "gdp_growth_%",
         "rawType": "object",
         "type": "string"
        },
        {
         "name": "gdp_per_cap_US$",
         "rawType": "object",
         "type": "string"
        },
        {
         "name": "net_imports_poultry_US$",
         "rawType": "float64",
         "type": "float"
        },
        {
         "name": "safety_stability_index",
         "rawType": "float64",
         "type": "float"
        },
        {
         "name": "poultry_consumption_tonnes",
         "rawType": "float64",
         "type": "float"
        },
        {
         "name": "poultry_protein_g_cap_day",
         "rawType": "float64",
         "type": "float"
        },
        {
         "name": "total_protein_g_cap_day",
         "rawType": "float64",
         "type": "float"
        },
        {
         "name": "animal_protein_g_cap_day",
         "rawType": "float64",
         "type": "float"
        },
        {
         "name": "obesity_deaths_%",
         "rawType": "float64",
         "type": "float"
        },
        {
         "name": "trade_%_gdp",
         "rawType": "object",
         "type": "string"
        }
       ],
       "ref": "766b3db6-de25-446c-9514-550fc122d870",
       "rows": [],
       "shape": {
        "columns": 15,
        "rows": 0
       }
      },
      "text/html": [
       "<div>\n",
       "<style scoped>\n",
       "    .dataframe tbody tr th:only-of-type {\n",
       "        vertical-align: middle;\n",
       "    }\n",
       "\n",
       "    .dataframe tbody tr th {\n",
       "        vertical-align: top;\n",
       "    }\n",
       "\n",
       "    .dataframe thead th {\n",
       "        text-align: right;\n",
       "    }\n",
       "</style>\n",
       "<table border=\"1\" class=\"dataframe\">\n",
       "  <thead>\n",
       "    <tr style=\"text-align: right;\">\n",
       "      <th></th>\n",
       "      <th>country</th>\n",
       "      <th>iso3</th>\n",
       "      <th>Country Group</th>\n",
       "      <th>total_pop</th>\n",
       "      <th>urban_pop</th>\n",
       "      <th>gdp_growth_%</th>\n",
       "      <th>gdp_per_cap_US$</th>\n",
       "      <th>net_imports_poultry_US$</th>\n",
       "      <th>safety_stability_index</th>\n",
       "      <th>poultry_consumption_tonnes</th>\n",
       "      <th>poultry_protein_g_cap_day</th>\n",
       "      <th>total_protein_g_cap_day</th>\n",
       "      <th>animal_protein_g_cap_day</th>\n",
       "      <th>obesity_deaths_%</th>\n",
       "      <th>trade_%_gdp</th>\n",
       "    </tr>\n",
       "  </thead>\n",
       "  <tbody>\n",
       "  </tbody>\n",
       "</table>\n",
       "</div>"
      ],
      "text/plain": [
       "Empty DataFrame\n",
       "Columns: [country, iso3, Country Group, total_pop, urban_pop, gdp_growth_%, gdp_per_cap_US$, net_imports_poultry_US$, safety_stability_index, poultry_consumption_tonnes, poultry_protein_g_cap_day, total_protein_g_cap_day, animal_protein_g_cap_day, obesity_deaths_%, trade_%_gdp]\n",
       "Index: []"
      ]
     },
     "execution_count": 84,
     "metadata": {},
     "output_type": "execute_result"
    }
   ],
   "source": [
    "# check for missing data\n",
    "data_holes = data.loc[data.isnull().any(axis=1)]\n",
    "data_holes"
   ]
  },
  {
   "cell_type": "code",
   "execution_count": 85,
   "id": "76e06028",
   "metadata": {},
   "outputs": [
    {
     "name": "stdout",
     "output_type": "stream",
     "text": [
      "Il y a 125 pays dans le fichier final.\n",
      "Aucun doublon dans la table.\n"
     ]
    }
   ],
   "source": [
    "print(\"Il y a\", data['country'].nunique(),\"pays dans le fichier final.\")\n",
    "if (data.loc[data.duplicated() == True].shape[0]) != 0:\n",
    "    print(\"Doublons dans la table.\")\n",
    "else:\n",
    "    print (\"Aucun doublon dans la table.\")"
   ]
  },
  {
   "cell_type": "code",
   "execution_count": 86,
   "id": "50bb3354",
   "metadata": {},
   "outputs": [],
   "source": [
    "# add new data from existing columns\n",
    "data['poultry_consumption_kg_per_cap'] = (data['poultry_consumption_tonnes'] * 1000) / data['total_pop']\n",
    "data['urban_pop_%'] = data['urban_pop'] / data['total_pop']"
   ]
  },
  {
   "cell_type": "code",
   "execution_count": 87,
   "id": "0ecc5332",
   "metadata": {},
   "outputs": [],
   "source": [
    "data_final = data[['country', \n",
    "                   'urban_pop_%',\n",
    "                   'gdp_growth_%', 'gdp_per_cap_US$','trade_%_gdp',\n",
    "                   'net_imports_poultry_US$',\n",
    "                   'safety_stability_index',\n",
    "                   'poultry_consumption_kg_per_cap',\n",
    "                   'total_protein_g_cap_day', 'animal_protein_g_cap_day',\n",
    "                   'poultry_protein_g_cap_day',\n",
    "                   'obesity_deaths_%', \n",
    "                   ]].copy()"
   ]
  },
  {
   "cell_type": "code",
   "execution_count": 88,
   "id": "78a3e685",
   "metadata": {},
   "outputs": [],
   "source": [
    "data_final['country'] = data_final['country'].astype('category')\n",
    "data_final['urban_pop_%'] = data_final['urban_pop_%'].astype(float)\n",
    "data_final['gdp_growth_%'] = data_final['gdp_growth_%'].astype(float)\n",
    "data_final['gdp_per_cap_US$'] = data_final['gdp_per_cap_US$'].astype(float)\n",
    "data_final['trade_%_gdp'] = data_final['trade_%_gdp'].astype(float)"
   ]
  },
  {
   "cell_type": "code",
   "execution_count": 89,
   "id": "1d446e4b",
   "metadata": {},
   "outputs": [
    {
     "name": "stdout",
     "output_type": "stream",
     "text": [
      "Il y a  125 pays dans le dataframe data_final.\n",
      "Aucun doublon dans la table.\n"
     ]
    }
   ],
   "source": [
    "print(\"Il y a \", data_final['country'].nunique(),\"pays dans le dataframe data_final.\")\n",
    "if (data_final.loc[data_final.duplicated() == True].shape[0]) != 0:\n",
    "    print(\"Doublons dans la table.\")\n",
    "else:\n",
    "    print (\"Aucun doublon dans la table.\")"
   ]
  },
  {
   "cell_type": "markdown",
   "id": "9ca0f03b",
   "metadata": {},
   "source": [
    "#### Nous pouvons a present exporter le fichier pour proceder au clustering et a l'analyse en composantes principales."
   ]
  },
  {
   "cell_type": "code",
   "execution_count": 90,
   "id": "33f39488",
   "metadata": {},
   "outputs": [],
   "source": [
    "data_final.to_csv('data_final.csv', index=False, encoding='latin_1')"
   ]
  },
  {
   "cell_type": "markdown",
   "id": "e48ac4f9",
   "metadata": {},
   "source": [
    "#### Comparons graphiquement les indicateurs retenus deux-a-deux"
   ]
  },
  {
   "cell_type": "code",
   "execution_count": 91,
   "id": "8128ac46",
   "metadata": {},
   "outputs": [
    {
     "data": {
      "image/png": "[encoded data removed]",
      "text/plain": [
       "<Figure size 3300x3300 with 132 Axes>"
      ]
     },
     "metadata": {},
     "output_type": "display_data"
    }
   ],
   "source": [
    "# compare correlation of chosen indicators in a pairplot\n",
    "data_pairs = sns.pairplot(data_final, kind='scatter', height=3, diag_kind='auto',\n",
    "                          markers=\"+\", plot_kws= {'color': col,'alpha': 0.5})\n",
    "plt.savefig(\"data_pairs.png\")\n",
    "plt.show()"
   ]
  },
  {
   "cell_type": "markdown",
   "id": "0ec54aab",
   "metadata": {},
   "source": [
    "#### Il existe une correlation lineaire visible graphiquement entre les proteines totales comsommees et les proteines de volaille consommees, ainsi qu'entre les quantites de volaille et de proteines de volaille consommees.\n",
    "#### Un certain nombre d'autres variables semblent avoir des correlations monotones croissantes entre elles, comme le PIB par habitant et la consommation de proteines animales par exemple."
   ]
  }
 ],
 "metadata": {
  "kernelspec": {
   "display_name": ".venv",
   "language": "python",
   "name": "python3"
  },
  "language_info": {
   "codemirror_mode": {
    "name": "ipython",
    "version": 3
   },
   "file_extension": ".py",
   "mimetype": "text/x-python",
   "name": "python",
   "nbconvert_exporter": "python",
   "pygments_lexer": "ipython3",
   "version": "3.13.4"
  }
 },
 "nbformat": 4,
 "nbformat_minor": 5
}
